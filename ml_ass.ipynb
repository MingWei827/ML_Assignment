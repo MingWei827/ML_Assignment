{
 "cells": [
  {
   "cell_type": "code",
   "execution_count": 1,
   "id": "_WTyWNIGslfc",
   "metadata": {
    "id": "_WTyWNIGslfc"
   },
   "outputs": [],
   "source": [
    "import pandas as pd\n",
    "import numpy as np\n",
    "import seaborn as sns\n",
    "import matplotlib.pyplot as plt"
   ]
  },
  {
   "cell_type": "code",
   "execution_count": 2,
   "id": "NSrKGytSslfe",
   "metadata": {
    "id": "NSrKGytSslfe"
   },
   "outputs": [],
   "source": [
    "# read in all the data\n",
    "# df = pd.read_csv(r\"/content/wine-quality-white-and-red.csv\")\n",
    "# Load the two CSV files into pandas dataframes\n",
    "red_wines = pd.read_csv('winequality-red.csv', sep=';')\n",
    "white_wines = pd.read_csv('winequality-white.csv', sep=';')\n",
    "\n",
    "# Add a column to each dataframe indicating the wine type\n",
    "red_wines['type'] = 'red'\n",
    "white_wines['type'] = 'white'\n",
    "\n",
    "# Combine the two dataframes into a single dataframe\n",
    "wines = pd.concat([red_wines, white_wines])\n",
    "\n",
    "# Save the combined dataframe to a new CSV file\n",
    "wines.to_csv('winequality.csv', index=False)\n",
    "df = pd.read_csv('winequality.csv')"
   ]
  },
  {
   "cell_type": "markdown",
   "id": "gz9IEX91slfe",
   "metadata": {
    "id": "gz9IEX91slfe"
   },
   "source": [
    "# Data Understanding"
   ]
  },
  {
   "cell_type": "code",
   "execution_count": 3,
   "id": "aa7J05Avslfg",
   "metadata": {
    "colab": {
     "base_uri": "https://localhost:8080/",
     "height": 206
    },
    "id": "aa7J05Avslfg",
    "outputId": "01679419-9e92-4eb5-ffc9-8d62d962d580"
   },
   "outputs": [
    {
     "data": {
      "text/html": [
       "<div>\n",
       "<style scoped>\n",
       "    .dataframe tbody tr th:only-of-type {\n",
       "        vertical-align: middle;\n",
       "    }\n",
       "\n",
       "    .dataframe tbody tr th {\n",
       "        vertical-align: top;\n",
       "    }\n",
       "\n",
       "    .dataframe thead th {\n",
       "        text-align: right;\n",
       "    }\n",
       "</style>\n",
       "<table border=\"1\" class=\"dataframe\">\n",
       "  <thead>\n",
       "    <tr style=\"text-align: right;\">\n",
       "      <th></th>\n",
       "      <th>fixed acidity</th>\n",
       "      <th>volatile acidity</th>\n",
       "      <th>citric acid</th>\n",
       "      <th>residual sugar</th>\n",
       "      <th>chlorides</th>\n",
       "      <th>free sulfur dioxide</th>\n",
       "      <th>total sulfur dioxide</th>\n",
       "      <th>density</th>\n",
       "      <th>pH</th>\n",
       "      <th>sulphates</th>\n",
       "      <th>alcohol</th>\n",
       "      <th>quality</th>\n",
       "      <th>type</th>\n",
       "    </tr>\n",
       "  </thead>\n",
       "  <tbody>\n",
       "    <tr>\n",
       "      <th>0</th>\n",
       "      <td>7.4</td>\n",
       "      <td>0.70</td>\n",
       "      <td>0.00</td>\n",
       "      <td>1.9</td>\n",
       "      <td>0.076</td>\n",
       "      <td>11.0</td>\n",
       "      <td>34.0</td>\n",
       "      <td>0.9978</td>\n",
       "      <td>3.51</td>\n",
       "      <td>0.56</td>\n",
       "      <td>9.4</td>\n",
       "      <td>5</td>\n",
       "      <td>red</td>\n",
       "    </tr>\n",
       "    <tr>\n",
       "      <th>1</th>\n",
       "      <td>7.8</td>\n",
       "      <td>0.88</td>\n",
       "      <td>0.00</td>\n",
       "      <td>2.6</td>\n",
       "      <td>0.098</td>\n",
       "      <td>25.0</td>\n",
       "      <td>67.0</td>\n",
       "      <td>0.9968</td>\n",
       "      <td>3.20</td>\n",
       "      <td>0.68</td>\n",
       "      <td>9.8</td>\n",
       "      <td>5</td>\n",
       "      <td>red</td>\n",
       "    </tr>\n",
       "    <tr>\n",
       "      <th>2</th>\n",
       "      <td>7.8</td>\n",
       "      <td>0.76</td>\n",
       "      <td>0.04</td>\n",
       "      <td>2.3</td>\n",
       "      <td>0.092</td>\n",
       "      <td>15.0</td>\n",
       "      <td>54.0</td>\n",
       "      <td>0.9970</td>\n",
       "      <td>3.26</td>\n",
       "      <td>0.65</td>\n",
       "      <td>9.8</td>\n",
       "      <td>5</td>\n",
       "      <td>red</td>\n",
       "    </tr>\n",
       "    <tr>\n",
       "      <th>3</th>\n",
       "      <td>11.2</td>\n",
       "      <td>0.28</td>\n",
       "      <td>0.56</td>\n",
       "      <td>1.9</td>\n",
       "      <td>0.075</td>\n",
       "      <td>17.0</td>\n",
       "      <td>60.0</td>\n",
       "      <td>0.9980</td>\n",
       "      <td>3.16</td>\n",
       "      <td>0.58</td>\n",
       "      <td>9.8</td>\n",
       "      <td>6</td>\n",
       "      <td>red</td>\n",
       "    </tr>\n",
       "    <tr>\n",
       "      <th>4</th>\n",
       "      <td>7.4</td>\n",
       "      <td>0.70</td>\n",
       "      <td>0.00</td>\n",
       "      <td>1.9</td>\n",
       "      <td>0.076</td>\n",
       "      <td>11.0</td>\n",
       "      <td>34.0</td>\n",
       "      <td>0.9978</td>\n",
       "      <td>3.51</td>\n",
       "      <td>0.56</td>\n",
       "      <td>9.4</td>\n",
       "      <td>5</td>\n",
       "      <td>red</td>\n",
       "    </tr>\n",
       "  </tbody>\n",
       "</table>\n",
       "</div>"
      ],
      "text/plain": [
       "   fixed acidity  volatile acidity  citric acid  residual sugar  chlorides  \\\n",
       "0            7.4              0.70         0.00             1.9      0.076   \n",
       "1            7.8              0.88         0.00             2.6      0.098   \n",
       "2            7.8              0.76         0.04             2.3      0.092   \n",
       "3           11.2              0.28         0.56             1.9      0.075   \n",
       "4            7.4              0.70         0.00             1.9      0.076   \n",
       "\n",
       "   free sulfur dioxide  total sulfur dioxide  density    pH  sulphates  \\\n",
       "0                 11.0                  34.0   0.9978  3.51       0.56   \n",
       "1                 25.0                  67.0   0.9968  3.20       0.68   \n",
       "2                 15.0                  54.0   0.9970  3.26       0.65   \n",
       "3                 17.0                  60.0   0.9980  3.16       0.58   \n",
       "4                 11.0                  34.0   0.9978  3.51       0.56   \n",
       "\n",
       "   alcohol  quality type  \n",
       "0      9.4        5  red  \n",
       "1      9.8        5  red  \n",
       "2      9.8        5  red  \n",
       "3      9.8        6  red  \n",
       "4      9.4        5  red  "
      ]
     },
     "execution_count": 3,
     "metadata": {},
     "output_type": "execute_result"
    }
   ],
   "source": [
    "df.head()"
   ]
  },
  {
   "cell_type": "code",
   "execution_count": 4,
   "id": "bQyg8VZcslfi",
   "metadata": {
    "colab": {
     "base_uri": "https://localhost:8080/",
     "height": 206
    },
    "id": "bQyg8VZcslfi",
    "outputId": "a0ece8b1-9035-4dd6-8237-8d9fc391b784"
   },
   "outputs": [
    {
     "data": {
      "text/html": [
       "<div>\n",
       "<style scoped>\n",
       "    .dataframe tbody tr th:only-of-type {\n",
       "        vertical-align: middle;\n",
       "    }\n",
       "\n",
       "    .dataframe tbody tr th {\n",
       "        vertical-align: top;\n",
       "    }\n",
       "\n",
       "    .dataframe thead th {\n",
       "        text-align: right;\n",
       "    }\n",
       "</style>\n",
       "<table border=\"1\" class=\"dataframe\">\n",
       "  <thead>\n",
       "    <tr style=\"text-align: right;\">\n",
       "      <th></th>\n",
       "      <th>fixed acidity</th>\n",
       "      <th>volatile acidity</th>\n",
       "      <th>citric acid</th>\n",
       "      <th>residual sugar</th>\n",
       "      <th>chlorides</th>\n",
       "      <th>free sulfur dioxide</th>\n",
       "      <th>total sulfur dioxide</th>\n",
       "      <th>density</th>\n",
       "      <th>pH</th>\n",
       "      <th>sulphates</th>\n",
       "      <th>alcohol</th>\n",
       "      <th>quality</th>\n",
       "      <th>type</th>\n",
       "    </tr>\n",
       "  </thead>\n",
       "  <tbody>\n",
       "    <tr>\n",
       "      <th>4595</th>\n",
       "      <td>6.5</td>\n",
       "      <td>0.35</td>\n",
       "      <td>0.36</td>\n",
       "      <td>0.8</td>\n",
       "      <td>0.034</td>\n",
       "      <td>32.0</td>\n",
       "      <td>111.0</td>\n",
       "      <td>0.98942</td>\n",
       "      <td>3.11</td>\n",
       "      <td>0.50</td>\n",
       "      <td>12.1</td>\n",
       "      <td>8</td>\n",
       "      <td>white</td>\n",
       "    </tr>\n",
       "    <tr>\n",
       "      <th>2378</th>\n",
       "      <td>8.1</td>\n",
       "      <td>0.17</td>\n",
       "      <td>0.44</td>\n",
       "      <td>14.1</td>\n",
       "      <td>0.053</td>\n",
       "      <td>43.0</td>\n",
       "      <td>145.0</td>\n",
       "      <td>1.00060</td>\n",
       "      <td>3.28</td>\n",
       "      <td>0.75</td>\n",
       "      <td>8.8</td>\n",
       "      <td>8</td>\n",
       "      <td>white</td>\n",
       "    </tr>\n",
       "    <tr>\n",
       "      <th>5999</th>\n",
       "      <td>7.4</td>\n",
       "      <td>0.27</td>\n",
       "      <td>0.26</td>\n",
       "      <td>11.8</td>\n",
       "      <td>0.053</td>\n",
       "      <td>55.0</td>\n",
       "      <td>173.0</td>\n",
       "      <td>0.99699</td>\n",
       "      <td>3.11</td>\n",
       "      <td>0.60</td>\n",
       "      <td>9.8</td>\n",
       "      <td>5</td>\n",
       "      <td>white</td>\n",
       "    </tr>\n",
       "    <tr>\n",
       "      <th>1031</th>\n",
       "      <td>7.3</td>\n",
       "      <td>0.55</td>\n",
       "      <td>0.01</td>\n",
       "      <td>1.8</td>\n",
       "      <td>0.093</td>\n",
       "      <td>9.0</td>\n",
       "      <td>15.0</td>\n",
       "      <td>0.99514</td>\n",
       "      <td>3.35</td>\n",
       "      <td>0.58</td>\n",
       "      <td>11.0</td>\n",
       "      <td>7</td>\n",
       "      <td>red</td>\n",
       "    </tr>\n",
       "    <tr>\n",
       "      <th>1259</th>\n",
       "      <td>6.8</td>\n",
       "      <td>0.64</td>\n",
       "      <td>0.00</td>\n",
       "      <td>2.7</td>\n",
       "      <td>0.123</td>\n",
       "      <td>15.0</td>\n",
       "      <td>33.0</td>\n",
       "      <td>0.99538</td>\n",
       "      <td>3.44</td>\n",
       "      <td>0.63</td>\n",
       "      <td>11.3</td>\n",
       "      <td>6</td>\n",
       "      <td>red</td>\n",
       "    </tr>\n",
       "  </tbody>\n",
       "</table>\n",
       "</div>"
      ],
      "text/plain": [
       "      fixed acidity  volatile acidity  citric acid  residual sugar  chlorides  \\\n",
       "4595            6.5              0.35         0.36             0.8      0.034   \n",
       "2378            8.1              0.17         0.44            14.1      0.053   \n",
       "5999            7.4              0.27         0.26            11.8      0.053   \n",
       "1031            7.3              0.55         0.01             1.8      0.093   \n",
       "1259            6.8              0.64         0.00             2.7      0.123   \n",
       "\n",
       "      free sulfur dioxide  total sulfur dioxide  density    pH  sulphates  \\\n",
       "4595                 32.0                 111.0  0.98942  3.11       0.50   \n",
       "2378                 43.0                 145.0  1.00060  3.28       0.75   \n",
       "5999                 55.0                 173.0  0.99699  3.11       0.60   \n",
       "1031                  9.0                  15.0  0.99514  3.35       0.58   \n",
       "1259                 15.0                  33.0  0.99538  3.44       0.63   \n",
       "\n",
       "      alcohol  quality   type  \n",
       "4595     12.1        8  white  \n",
       "2378      8.8        8  white  \n",
       "5999      9.8        5  white  \n",
       "1031     11.0        7    red  \n",
       "1259     11.3        6    red  "
      ]
     },
     "execution_count": 4,
     "metadata": {},
     "output_type": "execute_result"
    }
   ],
   "source": [
    "df.sample(5)"
   ]
  },
  {
   "cell_type": "code",
   "execution_count": 5,
   "id": "XXTt1jLlslfi",
   "metadata": {
    "colab": {
     "base_uri": "https://localhost:8080/",
     "height": 206
    },
    "id": "XXTt1jLlslfi",
    "outputId": "0429bd65-e9d7-45a0-d7fa-143da41d842e"
   },
   "outputs": [
    {
     "data": {
      "text/html": [
       "<div>\n",
       "<style scoped>\n",
       "    .dataframe tbody tr th:only-of-type {\n",
       "        vertical-align: middle;\n",
       "    }\n",
       "\n",
       "    .dataframe tbody tr th {\n",
       "        vertical-align: top;\n",
       "    }\n",
       "\n",
       "    .dataframe thead th {\n",
       "        text-align: right;\n",
       "    }\n",
       "</style>\n",
       "<table border=\"1\" class=\"dataframe\">\n",
       "  <thead>\n",
       "    <tr style=\"text-align: right;\">\n",
       "      <th></th>\n",
       "      <th>fixed acidity</th>\n",
       "      <th>volatile acidity</th>\n",
       "      <th>citric acid</th>\n",
       "      <th>residual sugar</th>\n",
       "      <th>chlorides</th>\n",
       "      <th>free sulfur dioxide</th>\n",
       "      <th>total sulfur dioxide</th>\n",
       "      <th>density</th>\n",
       "      <th>pH</th>\n",
       "      <th>sulphates</th>\n",
       "      <th>alcohol</th>\n",
       "      <th>quality</th>\n",
       "      <th>type</th>\n",
       "    </tr>\n",
       "  </thead>\n",
       "  <tbody>\n",
       "    <tr>\n",
       "      <th>6492</th>\n",
       "      <td>6.2</td>\n",
       "      <td>0.21</td>\n",
       "      <td>0.29</td>\n",
       "      <td>1.6</td>\n",
       "      <td>0.039</td>\n",
       "      <td>24.0</td>\n",
       "      <td>92.0</td>\n",
       "      <td>0.99114</td>\n",
       "      <td>3.27</td>\n",
       "      <td>0.50</td>\n",
       "      <td>11.2</td>\n",
       "      <td>6</td>\n",
       "      <td>white</td>\n",
       "    </tr>\n",
       "    <tr>\n",
       "      <th>6493</th>\n",
       "      <td>6.6</td>\n",
       "      <td>0.32</td>\n",
       "      <td>0.36</td>\n",
       "      <td>8.0</td>\n",
       "      <td>0.047</td>\n",
       "      <td>57.0</td>\n",
       "      <td>168.0</td>\n",
       "      <td>0.99490</td>\n",
       "      <td>3.15</td>\n",
       "      <td>0.46</td>\n",
       "      <td>9.6</td>\n",
       "      <td>5</td>\n",
       "      <td>white</td>\n",
       "    </tr>\n",
       "    <tr>\n",
       "      <th>6494</th>\n",
       "      <td>6.5</td>\n",
       "      <td>0.24</td>\n",
       "      <td>0.19</td>\n",
       "      <td>1.2</td>\n",
       "      <td>0.041</td>\n",
       "      <td>30.0</td>\n",
       "      <td>111.0</td>\n",
       "      <td>0.99254</td>\n",
       "      <td>2.99</td>\n",
       "      <td>0.46</td>\n",
       "      <td>9.4</td>\n",
       "      <td>6</td>\n",
       "      <td>white</td>\n",
       "    </tr>\n",
       "    <tr>\n",
       "      <th>6495</th>\n",
       "      <td>5.5</td>\n",
       "      <td>0.29</td>\n",
       "      <td>0.30</td>\n",
       "      <td>1.1</td>\n",
       "      <td>0.022</td>\n",
       "      <td>20.0</td>\n",
       "      <td>110.0</td>\n",
       "      <td>0.98869</td>\n",
       "      <td>3.34</td>\n",
       "      <td>0.38</td>\n",
       "      <td>12.8</td>\n",
       "      <td>7</td>\n",
       "      <td>white</td>\n",
       "    </tr>\n",
       "    <tr>\n",
       "      <th>6496</th>\n",
       "      <td>6.0</td>\n",
       "      <td>0.21</td>\n",
       "      <td>0.38</td>\n",
       "      <td>0.8</td>\n",
       "      <td>0.020</td>\n",
       "      <td>22.0</td>\n",
       "      <td>98.0</td>\n",
       "      <td>0.98941</td>\n",
       "      <td>3.26</td>\n",
       "      <td>0.32</td>\n",
       "      <td>11.8</td>\n",
       "      <td>6</td>\n",
       "      <td>white</td>\n",
       "    </tr>\n",
       "  </tbody>\n",
       "</table>\n",
       "</div>"
      ],
      "text/plain": [
       "      fixed acidity  volatile acidity  citric acid  residual sugar  chlorides  \\\n",
       "6492            6.2              0.21         0.29             1.6      0.039   \n",
       "6493            6.6              0.32         0.36             8.0      0.047   \n",
       "6494            6.5              0.24         0.19             1.2      0.041   \n",
       "6495            5.5              0.29         0.30             1.1      0.022   \n",
       "6496            6.0              0.21         0.38             0.8      0.020   \n",
       "\n",
       "      free sulfur dioxide  total sulfur dioxide  density    pH  sulphates  \\\n",
       "6492                 24.0                  92.0  0.99114  3.27       0.50   \n",
       "6493                 57.0                 168.0  0.99490  3.15       0.46   \n",
       "6494                 30.0                 111.0  0.99254  2.99       0.46   \n",
       "6495                 20.0                 110.0  0.98869  3.34       0.38   \n",
       "6496                 22.0                  98.0  0.98941  3.26       0.32   \n",
       "\n",
       "      alcohol  quality   type  \n",
       "6492     11.2        6  white  \n",
       "6493      9.6        5  white  \n",
       "6494      9.4        6  white  \n",
       "6495     12.8        7  white  \n",
       "6496     11.8        6  white  "
      ]
     },
     "execution_count": 5,
     "metadata": {},
     "output_type": "execute_result"
    }
   ],
   "source": [
    "df.tail()"
   ]
  },
  {
   "cell_type": "code",
   "execution_count": 6,
   "id": "MoLP96FWslfj",
   "metadata": {
    "colab": {
     "base_uri": "https://localhost:8080/"
    },
    "id": "MoLP96FWslfj",
    "outputId": "00f053b6-aceb-4d38-a1f4-f0fe87f96237"
   },
   "outputs": [
    {
     "data": {
      "text/plain": [
       "fixed acidity           float64\n",
       "volatile acidity        float64\n",
       "citric acid             float64\n",
       "residual sugar          float64\n",
       "chlorides               float64\n",
       "free sulfur dioxide     float64\n",
       "total sulfur dioxide    float64\n",
       "density                 float64\n",
       "pH                      float64\n",
       "sulphates               float64\n",
       "alcohol                 float64\n",
       "quality                   int64\n",
       "type                     object\n",
       "dtype: object"
      ]
     },
     "execution_count": 6,
     "metadata": {},
     "output_type": "execute_result"
    }
   ],
   "source": [
    "df.dtypes"
   ]
  },
  {
   "cell_type": "markdown",
   "id": "CRGqNYwdslfj",
   "metadata": {
    "id": "CRGqNYwdslfj"
   },
   "source": [
    "Conclusion: There are columns with object, float, and int data type.The object data type should be converted to int or float data type to be prepared for modelling"
   ]
  },
  {
   "cell_type": "code",
   "execution_count": 7,
   "id": "g8PsW0whslfj",
   "metadata": {
    "colab": {
     "base_uri": "https://localhost:8080/"
    },
    "id": "g8PsW0whslfj",
    "outputId": "6dd883c7-b9e7-427d-c394-5b54112373eb"
   },
   "outputs": [
    {
     "data": {
      "text/plain": [
       "array([5, 6, 7, 4, 8, 3, 9], dtype=int64)"
      ]
     },
     "execution_count": 7,
     "metadata": {},
     "output_type": "execute_result"
    }
   ],
   "source": [
    "df['quality'].unique()"
   ]
  },
  {
   "cell_type": "code",
   "execution_count": 8,
   "id": "nOOAZC62slfj",
   "metadata": {
    "colab": {
     "base_uri": "https://localhost:8080/",
     "height": 300
    },
    "id": "nOOAZC62slfj",
    "outputId": "3c8a9b5b-343c-4c8e-fc93-0704759dd648"
   },
   "outputs": [
    {
     "data": {
      "text/html": [
       "<div>\n",
       "<style scoped>\n",
       "    .dataframe tbody tr th:only-of-type {\n",
       "        vertical-align: middle;\n",
       "    }\n",
       "\n",
       "    .dataframe tbody tr th {\n",
       "        vertical-align: top;\n",
       "    }\n",
       "\n",
       "    .dataframe thead th {\n",
       "        text-align: right;\n",
       "    }\n",
       "</style>\n",
       "<table border=\"1\" class=\"dataframe\">\n",
       "  <thead>\n",
       "    <tr style=\"text-align: right;\">\n",
       "      <th></th>\n",
       "      <th>fixed acidity</th>\n",
       "      <th>volatile acidity</th>\n",
       "      <th>citric acid</th>\n",
       "      <th>residual sugar</th>\n",
       "      <th>chlorides</th>\n",
       "      <th>free sulfur dioxide</th>\n",
       "      <th>total sulfur dioxide</th>\n",
       "      <th>density</th>\n",
       "      <th>pH</th>\n",
       "      <th>sulphates</th>\n",
       "      <th>alcohol</th>\n",
       "      <th>quality</th>\n",
       "    </tr>\n",
       "  </thead>\n",
       "  <tbody>\n",
       "    <tr>\n",
       "      <th>count</th>\n",
       "      <td>6497.000000</td>\n",
       "      <td>6497.000000</td>\n",
       "      <td>6497.000000</td>\n",
       "      <td>6497.000000</td>\n",
       "      <td>6497.000000</td>\n",
       "      <td>6497.000000</td>\n",
       "      <td>6497.000000</td>\n",
       "      <td>6497.000000</td>\n",
       "      <td>6497.000000</td>\n",
       "      <td>6497.000000</td>\n",
       "      <td>6497.000000</td>\n",
       "      <td>6497.000000</td>\n",
       "    </tr>\n",
       "    <tr>\n",
       "      <th>mean</th>\n",
       "      <td>7.215307</td>\n",
       "      <td>0.339666</td>\n",
       "      <td>0.318633</td>\n",
       "      <td>5.443235</td>\n",
       "      <td>0.056034</td>\n",
       "      <td>30.525319</td>\n",
       "      <td>115.744574</td>\n",
       "      <td>0.994697</td>\n",
       "      <td>3.218501</td>\n",
       "      <td>0.531268</td>\n",
       "      <td>10.491801</td>\n",
       "      <td>5.818378</td>\n",
       "    </tr>\n",
       "    <tr>\n",
       "      <th>std</th>\n",
       "      <td>1.296434</td>\n",
       "      <td>0.164636</td>\n",
       "      <td>0.145318</td>\n",
       "      <td>4.757804</td>\n",
       "      <td>0.035034</td>\n",
       "      <td>17.749400</td>\n",
       "      <td>56.521855</td>\n",
       "      <td>0.002999</td>\n",
       "      <td>0.160787</td>\n",
       "      <td>0.148806</td>\n",
       "      <td>1.192712</td>\n",
       "      <td>0.873255</td>\n",
       "    </tr>\n",
       "    <tr>\n",
       "      <th>min</th>\n",
       "      <td>3.800000</td>\n",
       "      <td>0.080000</td>\n",
       "      <td>0.000000</td>\n",
       "      <td>0.600000</td>\n",
       "      <td>0.009000</td>\n",
       "      <td>1.000000</td>\n",
       "      <td>6.000000</td>\n",
       "      <td>0.987110</td>\n",
       "      <td>2.720000</td>\n",
       "      <td>0.220000</td>\n",
       "      <td>8.000000</td>\n",
       "      <td>3.000000</td>\n",
       "    </tr>\n",
       "    <tr>\n",
       "      <th>25%</th>\n",
       "      <td>6.400000</td>\n",
       "      <td>0.230000</td>\n",
       "      <td>0.250000</td>\n",
       "      <td>1.800000</td>\n",
       "      <td>0.038000</td>\n",
       "      <td>17.000000</td>\n",
       "      <td>77.000000</td>\n",
       "      <td>0.992340</td>\n",
       "      <td>3.110000</td>\n",
       "      <td>0.430000</td>\n",
       "      <td>9.500000</td>\n",
       "      <td>5.000000</td>\n",
       "    </tr>\n",
       "    <tr>\n",
       "      <th>50%</th>\n",
       "      <td>7.000000</td>\n",
       "      <td>0.290000</td>\n",
       "      <td>0.310000</td>\n",
       "      <td>3.000000</td>\n",
       "      <td>0.047000</td>\n",
       "      <td>29.000000</td>\n",
       "      <td>118.000000</td>\n",
       "      <td>0.994890</td>\n",
       "      <td>3.210000</td>\n",
       "      <td>0.510000</td>\n",
       "      <td>10.300000</td>\n",
       "      <td>6.000000</td>\n",
       "    </tr>\n",
       "    <tr>\n",
       "      <th>75%</th>\n",
       "      <td>7.700000</td>\n",
       "      <td>0.400000</td>\n",
       "      <td>0.390000</td>\n",
       "      <td>8.100000</td>\n",
       "      <td>0.065000</td>\n",
       "      <td>41.000000</td>\n",
       "      <td>156.000000</td>\n",
       "      <td>0.996990</td>\n",
       "      <td>3.320000</td>\n",
       "      <td>0.600000</td>\n",
       "      <td>11.300000</td>\n",
       "      <td>6.000000</td>\n",
       "    </tr>\n",
       "    <tr>\n",
       "      <th>max</th>\n",
       "      <td>15.900000</td>\n",
       "      <td>1.580000</td>\n",
       "      <td>1.660000</td>\n",
       "      <td>65.800000</td>\n",
       "      <td>0.611000</td>\n",
       "      <td>289.000000</td>\n",
       "      <td>440.000000</td>\n",
       "      <td>1.038980</td>\n",
       "      <td>4.010000</td>\n",
       "      <td>2.000000</td>\n",
       "      <td>14.900000</td>\n",
       "      <td>9.000000</td>\n",
       "    </tr>\n",
       "  </tbody>\n",
       "</table>\n",
       "</div>"
      ],
      "text/plain": [
       "       fixed acidity  volatile acidity  citric acid  residual sugar  \\\n",
       "count    6497.000000       6497.000000  6497.000000     6497.000000   \n",
       "mean        7.215307          0.339666     0.318633        5.443235   \n",
       "std         1.296434          0.164636     0.145318        4.757804   \n",
       "min         3.800000          0.080000     0.000000        0.600000   \n",
       "25%         6.400000          0.230000     0.250000        1.800000   \n",
       "50%         7.000000          0.290000     0.310000        3.000000   \n",
       "75%         7.700000          0.400000     0.390000        8.100000   \n",
       "max        15.900000          1.580000     1.660000       65.800000   \n",
       "\n",
       "         chlorides  free sulfur dioxide  total sulfur dioxide      density  \\\n",
       "count  6497.000000          6497.000000           6497.000000  6497.000000   \n",
       "mean      0.056034            30.525319            115.744574     0.994697   \n",
       "std       0.035034            17.749400             56.521855     0.002999   \n",
       "min       0.009000             1.000000              6.000000     0.987110   \n",
       "25%       0.038000            17.000000             77.000000     0.992340   \n",
       "50%       0.047000            29.000000            118.000000     0.994890   \n",
       "75%       0.065000            41.000000            156.000000     0.996990   \n",
       "max       0.611000           289.000000            440.000000     1.038980   \n",
       "\n",
       "                pH    sulphates      alcohol      quality  \n",
       "count  6497.000000  6497.000000  6497.000000  6497.000000  \n",
       "mean      3.218501     0.531268    10.491801     5.818378  \n",
       "std       0.160787     0.148806     1.192712     0.873255  \n",
       "min       2.720000     0.220000     8.000000     3.000000  \n",
       "25%       3.110000     0.430000     9.500000     5.000000  \n",
       "50%       3.210000     0.510000    10.300000     6.000000  \n",
       "75%       3.320000     0.600000    11.300000     6.000000  \n",
       "max       4.010000     2.000000    14.900000     9.000000  "
      ]
     },
     "execution_count": 8,
     "metadata": {},
     "output_type": "execute_result"
    }
   ],
   "source": [
    "df.describe()"
   ]
  },
  {
   "cell_type": "code",
   "execution_count": 9,
   "id": "cZmKtcsSslfk",
   "metadata": {
    "colab": {
     "base_uri": "https://localhost:8080/"
    },
    "id": "cZmKtcsSslfk",
    "outputId": "3cf06d5a-185a-495e-9ca1-d2584561f01c"
   },
   "outputs": [
    {
     "name": "stdout",
     "output_type": "stream",
     "text": [
      "0    6\n",
      "Name: quality, dtype: int64\n"
     ]
    }
   ],
   "source": [
    "print(df['quality'].mode())"
   ]
  },
  {
   "cell_type": "code",
   "execution_count": 10,
   "id": "OaWD0Bhyslfk",
   "metadata": {
    "colab": {
     "base_uri": "https://localhost:8080/"
    },
    "id": "OaWD0Bhyslfk",
    "outputId": "799f543b-d065-4930-a09c-13dadc6d06d8"
   },
   "outputs": [
    {
     "name": "stdout",
     "output_type": "stream",
     "text": [
      "<class 'pandas.core.frame.DataFrame'>\n",
      "RangeIndex: 6497 entries, 0 to 6496\n",
      "Data columns (total 13 columns):\n",
      " #   Column                Non-Null Count  Dtype  \n",
      "---  ------                --------------  -----  \n",
      " 0   fixed acidity         6497 non-null   float64\n",
      " 1   volatile acidity      6497 non-null   float64\n",
      " 2   citric acid           6497 non-null   float64\n",
      " 3   residual sugar        6497 non-null   float64\n",
      " 4   chlorides             6497 non-null   float64\n",
      " 5   free sulfur dioxide   6497 non-null   float64\n",
      " 6   total sulfur dioxide  6497 non-null   float64\n",
      " 7   density               6497 non-null   float64\n",
      " 8   pH                    6497 non-null   float64\n",
      " 9   sulphates             6497 non-null   float64\n",
      " 10  alcohol               6497 non-null   float64\n",
      " 11  quality               6497 non-null   int64  \n",
      " 12  type                  6497 non-null   object \n",
      "dtypes: float64(11), int64(1), object(1)\n",
      "memory usage: 660.0+ KB\n"
     ]
    }
   ],
   "source": [
    "df.info()"
   ]
  },
  {
   "cell_type": "code",
   "execution_count": 11,
   "id": "p7pazZo4slfk",
   "metadata": {
    "colab": {
     "base_uri": "https://localhost:8080/"
    },
    "id": "p7pazZo4slfk",
    "outputId": "990df306-4a2f-46e1-9355-c03e92419f72"
   },
   "outputs": [
    {
     "data": {
      "text/plain": [
       "(6497, 13)"
      ]
     },
     "execution_count": 11,
     "metadata": {},
     "output_type": "execute_result"
    }
   ],
   "source": [
    "df.shape"
   ]
  },
  {
   "cell_type": "markdown",
   "id": "KHV3aHg5slfl",
   "metadata": {
    "id": "KHV3aHg5slfl"
   },
   "source": [
    "Conclusion: The dataset consists of 6497 rows and 13 columns"
   ]
  },
  {
   "cell_type": "code",
   "execution_count": 12,
   "id": "I7NC25KNslfl",
   "metadata": {
    "colab": {
     "base_uri": "https://localhost:8080/"
    },
    "id": "I7NC25KNslfl",
    "outputId": "021999ca-5188-46ae-a558-84de5c1d85ce"
   },
   "outputs": [
    {
     "data": {
      "text/plain": [
       "Index(['fixed acidity', 'volatile acidity', 'citric acid', 'residual sugar',\n",
       "       'chlorides', 'free sulfur dioxide', 'total sulfur dioxide', 'density',\n",
       "       'pH', 'sulphates', 'alcohol', 'quality', 'type'],\n",
       "      dtype='object')"
      ]
     },
     "execution_count": 12,
     "metadata": {},
     "output_type": "execute_result"
    }
   ],
   "source": [
    "# show all available columns\n",
    "df.columns"
   ]
  },
  {
   "cell_type": "code",
   "execution_count": 13,
   "id": "Fd0FKQpDslfl",
   "metadata": {
    "colab": {
     "base_uri": "https://localhost:8080/"
    },
    "id": "Fd0FKQpDslfl",
    "outputId": "ea5554b2-8e06-4f75-d092-8b3cb58a5344"
   },
   "outputs": [
    {
     "name": "stdout",
     "output_type": "stream",
     "text": [
      "['fixed acidity', 'volatile acidity', 'citric acid', 'residual sugar', 'chlorides', 'free sulfur dioxide', 'total sulfur dioxide', 'density', 'pH', 'sulphates', 'alcohol', 'quality', 'type']\n"
     ]
    }
   ],
   "source": [
    "# check if got redundancy in columns\n",
    "print(df.columns.tolist())"
   ]
  },
  {
   "cell_type": "markdown",
   "id": "92LCcZPNslfl",
   "metadata": {
    "id": "92LCcZPNslfl"
   },
   "source": [
    "Conclusion: There are no columns redundancy"
   ]
  },
  {
   "cell_type": "code",
   "execution_count": 14,
   "id": "pvIdJ249slfl",
   "metadata": {
    "colab": {
     "base_uri": "https://localhost:8080/"
    },
    "id": "pvIdJ249slfl",
    "outputId": "4f7328fa-c16d-421d-9696-4f7e9195c5ef"
   },
   "outputs": [
    {
     "data": {
      "text/plain": [
       "fixed acidity           0\n",
       "volatile acidity        0\n",
       "citric acid             0\n",
       "residual sugar          0\n",
       "chlorides               0\n",
       "free sulfur dioxide     0\n",
       "total sulfur dioxide    0\n",
       "density                 0\n",
       "pH                      0\n",
       "sulphates               0\n",
       "alcohol                 0\n",
       "quality                 0\n",
       "type                    0\n",
       "dtype: int64"
      ]
     },
     "execution_count": 14,
     "metadata": {},
     "output_type": "execute_result"
    }
   ],
   "source": [
    "# check for missing value\n",
    "df.isna().sum()"
   ]
  },
  {
   "cell_type": "markdown",
   "id": "F8Xz5yu1slfm",
   "metadata": {
    "id": "F8Xz5yu1slfm"
   },
   "source": [
    "Conclusion: There are no missing values"
   ]
  },
  {
   "cell_type": "code",
   "execution_count": 15,
   "id": "sp2Y6pLxslfm",
   "metadata": {
    "id": "sp2Y6pLxslfm"
   },
   "outputs": [],
   "source": [
    "# # access the data values fitted in the particular row or column based on the index value passed to the function\n",
    "# print(df.loc[[2926]])"
   ]
  },
  {
   "cell_type": "code",
   "execution_count": 16,
   "id": "pkNgNpCJslfm",
   "metadata": {
    "id": "pkNgNpCJslfm"
   },
   "outputs": [],
   "source": [
    "# print(df.loc[[3326]])"
   ]
  },
  {
   "cell_type": "markdown",
   "id": "AHEeM_Dqslfm",
   "metadata": {
    "id": "AHEeM_Dqslfm"
   },
   "source": [
    "Conclusion: [Columns] have missing values, impute is required"
   ]
  },
  {
   "cell_type": "code",
   "execution_count": 17,
   "id": "yn1JEWhKslfn",
   "metadata": {
    "id": "yn1JEWhKslfn"
   },
   "outputs": [],
   "source": [
    "# Renaming columns for better understanding\n",
    "df.rename(columns = {'quality' : 'quality score'}, inplace = True)"
   ]
  },
  {
   "cell_type": "code",
   "execution_count": 18,
   "id": "p3MBRg66slfn",
   "metadata": {
    "colab": {
     "base_uri": "https://localhost:8080/",
     "height": 206
    },
    "id": "p3MBRg66slfn",
    "outputId": "297995a1-86e8-4fff-a719-5cd10d54fc94"
   },
   "outputs": [
    {
     "data": {
      "text/html": [
       "<div>\n",
       "<style scoped>\n",
       "    .dataframe tbody tr th:only-of-type {\n",
       "        vertical-align: middle;\n",
       "    }\n",
       "\n",
       "    .dataframe tbody tr th {\n",
       "        vertical-align: top;\n",
       "    }\n",
       "\n",
       "    .dataframe thead th {\n",
       "        text-align: right;\n",
       "    }\n",
       "</style>\n",
       "<table border=\"1\" class=\"dataframe\">\n",
       "  <thead>\n",
       "    <tr style=\"text-align: right;\">\n",
       "      <th></th>\n",
       "      <th>fixed acidity</th>\n",
       "      <th>volatile acidity</th>\n",
       "      <th>citric acid</th>\n",
       "      <th>residual sugar</th>\n",
       "      <th>chlorides</th>\n",
       "      <th>free sulfur dioxide</th>\n",
       "      <th>total sulfur dioxide</th>\n",
       "      <th>density</th>\n",
       "      <th>pH</th>\n",
       "      <th>sulphates</th>\n",
       "      <th>alcohol</th>\n",
       "      <th>quality score</th>\n",
       "      <th>type</th>\n",
       "    </tr>\n",
       "  </thead>\n",
       "  <tbody>\n",
       "    <tr>\n",
       "      <th>0</th>\n",
       "      <td>7.4</td>\n",
       "      <td>0.70</td>\n",
       "      <td>0.00</td>\n",
       "      <td>1.9</td>\n",
       "      <td>0.076</td>\n",
       "      <td>11.0</td>\n",
       "      <td>34.0</td>\n",
       "      <td>0.9978</td>\n",
       "      <td>3.51</td>\n",
       "      <td>0.56</td>\n",
       "      <td>9.4</td>\n",
       "      <td>5</td>\n",
       "      <td>red</td>\n",
       "    </tr>\n",
       "    <tr>\n",
       "      <th>1</th>\n",
       "      <td>7.8</td>\n",
       "      <td>0.88</td>\n",
       "      <td>0.00</td>\n",
       "      <td>2.6</td>\n",
       "      <td>0.098</td>\n",
       "      <td>25.0</td>\n",
       "      <td>67.0</td>\n",
       "      <td>0.9968</td>\n",
       "      <td>3.20</td>\n",
       "      <td>0.68</td>\n",
       "      <td>9.8</td>\n",
       "      <td>5</td>\n",
       "      <td>red</td>\n",
       "    </tr>\n",
       "    <tr>\n",
       "      <th>2</th>\n",
       "      <td>7.8</td>\n",
       "      <td>0.76</td>\n",
       "      <td>0.04</td>\n",
       "      <td>2.3</td>\n",
       "      <td>0.092</td>\n",
       "      <td>15.0</td>\n",
       "      <td>54.0</td>\n",
       "      <td>0.9970</td>\n",
       "      <td>3.26</td>\n",
       "      <td>0.65</td>\n",
       "      <td>9.8</td>\n",
       "      <td>5</td>\n",
       "      <td>red</td>\n",
       "    </tr>\n",
       "    <tr>\n",
       "      <th>3</th>\n",
       "      <td>11.2</td>\n",
       "      <td>0.28</td>\n",
       "      <td>0.56</td>\n",
       "      <td>1.9</td>\n",
       "      <td>0.075</td>\n",
       "      <td>17.0</td>\n",
       "      <td>60.0</td>\n",
       "      <td>0.9980</td>\n",
       "      <td>3.16</td>\n",
       "      <td>0.58</td>\n",
       "      <td>9.8</td>\n",
       "      <td>6</td>\n",
       "      <td>red</td>\n",
       "    </tr>\n",
       "    <tr>\n",
       "      <th>4</th>\n",
       "      <td>7.4</td>\n",
       "      <td>0.70</td>\n",
       "      <td>0.00</td>\n",
       "      <td>1.9</td>\n",
       "      <td>0.076</td>\n",
       "      <td>11.0</td>\n",
       "      <td>34.0</td>\n",
       "      <td>0.9978</td>\n",
       "      <td>3.51</td>\n",
       "      <td>0.56</td>\n",
       "      <td>9.4</td>\n",
       "      <td>5</td>\n",
       "      <td>red</td>\n",
       "    </tr>\n",
       "  </tbody>\n",
       "</table>\n",
       "</div>"
      ],
      "text/plain": [
       "   fixed acidity  volatile acidity  citric acid  residual sugar  chlorides  \\\n",
       "0            7.4              0.70         0.00             1.9      0.076   \n",
       "1            7.8              0.88         0.00             2.6      0.098   \n",
       "2            7.8              0.76         0.04             2.3      0.092   \n",
       "3           11.2              0.28         0.56             1.9      0.075   \n",
       "4            7.4              0.70         0.00             1.9      0.076   \n",
       "\n",
       "   free sulfur dioxide  total sulfur dioxide  density    pH  sulphates  \\\n",
       "0                 11.0                  34.0   0.9978  3.51       0.56   \n",
       "1                 25.0                  67.0   0.9968  3.20       0.68   \n",
       "2                 15.0                  54.0   0.9970  3.26       0.65   \n",
       "3                 17.0                  60.0   0.9980  3.16       0.58   \n",
       "4                 11.0                  34.0   0.9978  3.51       0.56   \n",
       "\n",
       "   alcohol  quality score type  \n",
       "0      9.4              5  red  \n",
       "1      9.8              5  red  \n",
       "2      9.8              5  red  \n",
       "3      9.8              6  red  \n",
       "4      9.4              5  red  "
      ]
     },
     "execution_count": 18,
     "metadata": {},
     "output_type": "execute_result"
    }
   ],
   "source": [
    "df.head()"
   ]
  },
  {
   "cell_type": "code",
   "execution_count": 19,
   "id": "r5swU-pFslfn",
   "metadata": {
    "colab": {
     "base_uri": "https://localhost:8080/"
    },
    "id": "r5swU-pFslfn",
    "outputId": "746c74af-e959-4b27-83a0-fe87654cd622"
   },
   "outputs": [
    {
     "data": {
      "text/plain": [
       "Index(['fixed acidity', 'volatile acidity', 'citric acid', 'residual sugar',\n",
       "       'chlorides', 'free sulfur dioxide', 'total sulfur dioxide', 'density',\n",
       "       'pH', 'sulphates', 'alcohol', 'quality score', 'type'],\n",
       "      dtype='object')"
      ]
     },
     "execution_count": 19,
     "metadata": {},
     "output_type": "execute_result"
    }
   ],
   "source": [
    "df.columns"
   ]
  },
  {
   "cell_type": "code",
   "execution_count": 20,
   "id": "sMDm6R8gslfn",
   "metadata": {
    "colab": {
     "base_uri": "https://localhost:8080/",
     "height": 238
    },
    "id": "sMDm6R8gslfn",
    "outputId": "61cf3127-e37b-40ed-8529-3b8be041e53d"
   },
   "outputs": [
    {
     "data": {
      "text/html": [
       "<div>\n",
       "<style scoped>\n",
       "    .dataframe tbody tr th:only-of-type {\n",
       "        vertical-align: middle;\n",
       "    }\n",
       "\n",
       "    .dataframe tbody tr th {\n",
       "        vertical-align: top;\n",
       "    }\n",
       "\n",
       "    .dataframe thead th {\n",
       "        text-align: right;\n",
       "    }\n",
       "</style>\n",
       "<table border=\"1\" class=\"dataframe\">\n",
       "  <thead>\n",
       "    <tr style=\"text-align: right;\">\n",
       "      <th></th>\n",
       "      <th>fixed acidity</th>\n",
       "      <th>volatile acidity</th>\n",
       "      <th>citric acid</th>\n",
       "      <th>residual sugar</th>\n",
       "      <th>chlorides</th>\n",
       "      <th>free sulfur dioxide</th>\n",
       "      <th>total sulfur dioxide</th>\n",
       "      <th>density</th>\n",
       "      <th>pH</th>\n",
       "      <th>sulphates</th>\n",
       "      <th>alcohol</th>\n",
       "    </tr>\n",
       "  </thead>\n",
       "  <tbody>\n",
       "    <tr>\n",
       "      <th>mean</th>\n",
       "      <td>7.215307</td>\n",
       "      <td>0.339666</td>\n",
       "      <td>0.318633</td>\n",
       "      <td>5.443235</td>\n",
       "      <td>0.056034</td>\n",
       "      <td>30.525319</td>\n",
       "      <td>115.744574</td>\n",
       "      <td>0.994697</td>\n",
       "      <td>3.218501</td>\n",
       "      <td>0.531268</td>\n",
       "      <td>10.491801</td>\n",
       "    </tr>\n",
       "    <tr>\n",
       "      <th>median</th>\n",
       "      <td>7.000000</td>\n",
       "      <td>0.290000</td>\n",
       "      <td>0.310000</td>\n",
       "      <td>3.000000</td>\n",
       "      <td>0.047000</td>\n",
       "      <td>29.000000</td>\n",
       "      <td>118.000000</td>\n",
       "      <td>0.994890</td>\n",
       "      <td>3.210000</td>\n",
       "      <td>0.510000</td>\n",
       "      <td>10.300000</td>\n",
       "    </tr>\n",
       "    <tr>\n",
       "      <th>min</th>\n",
       "      <td>3.800000</td>\n",
       "      <td>0.080000</td>\n",
       "      <td>0.000000</td>\n",
       "      <td>0.600000</td>\n",
       "      <td>0.009000</td>\n",
       "      <td>1.000000</td>\n",
       "      <td>6.000000</td>\n",
       "      <td>0.987110</td>\n",
       "      <td>2.720000</td>\n",
       "      <td>0.220000</td>\n",
       "      <td>8.000000</td>\n",
       "    </tr>\n",
       "    <tr>\n",
       "      <th>max</th>\n",
       "      <td>15.900000</td>\n",
       "      <td>1.580000</td>\n",
       "      <td>1.660000</td>\n",
       "      <td>65.800000</td>\n",
       "      <td>0.611000</td>\n",
       "      <td>289.000000</td>\n",
       "      <td>440.000000</td>\n",
       "      <td>1.038980</td>\n",
       "      <td>4.010000</td>\n",
       "      <td>2.000000</td>\n",
       "      <td>14.900000</td>\n",
       "    </tr>\n",
       "    <tr>\n",
       "      <th>std</th>\n",
       "      <td>1.296434</td>\n",
       "      <td>0.164636</td>\n",
       "      <td>0.145318</td>\n",
       "      <td>4.757804</td>\n",
       "      <td>0.035034</td>\n",
       "      <td>17.749400</td>\n",
       "      <td>56.521855</td>\n",
       "      <td>0.002999</td>\n",
       "      <td>0.160787</td>\n",
       "      <td>0.148806</td>\n",
       "      <td>1.192712</td>\n",
       "    </tr>\n",
       "    <tr>\n",
       "      <th>skew</th>\n",
       "      <td>1.723290</td>\n",
       "      <td>1.495097</td>\n",
       "      <td>0.471731</td>\n",
       "      <td>1.435404</td>\n",
       "      <td>5.399828</td>\n",
       "      <td>1.220066</td>\n",
       "      <td>-0.001177</td>\n",
       "      <td>0.503602</td>\n",
       "      <td>0.386839</td>\n",
       "      <td>1.797270</td>\n",
       "      <td>0.565718</td>\n",
       "    </tr>\n",
       "  </tbody>\n",
       "</table>\n",
       "</div>"
      ],
      "text/plain": [
       "        fixed acidity  volatile acidity  citric acid  residual sugar  \\\n",
       "mean         7.215307          0.339666     0.318633        5.443235   \n",
       "median       7.000000          0.290000     0.310000        3.000000   \n",
       "min          3.800000          0.080000     0.000000        0.600000   \n",
       "max         15.900000          1.580000     1.660000       65.800000   \n",
       "std          1.296434          0.164636     0.145318        4.757804   \n",
       "skew         1.723290          1.495097     0.471731        1.435404   \n",
       "\n",
       "        chlorides  free sulfur dioxide  total sulfur dioxide   density  \\\n",
       "mean     0.056034            30.525319            115.744574  0.994697   \n",
       "median   0.047000            29.000000            118.000000  0.994890   \n",
       "min      0.009000             1.000000              6.000000  0.987110   \n",
       "max      0.611000           289.000000            440.000000  1.038980   \n",
       "std      0.035034            17.749400             56.521855  0.002999   \n",
       "skew     5.399828             1.220066             -0.001177  0.503602   \n",
       "\n",
       "              pH  sulphates    alcohol  \n",
       "mean    3.218501   0.531268  10.491801  \n",
       "median  3.210000   0.510000  10.300000  \n",
       "min     2.720000   0.220000   8.000000  \n",
       "max     4.010000   2.000000  14.900000  \n",
       "std     0.160787   0.148806   1.192712  \n",
       "skew    0.386839   1.797270   0.565718  "
      ]
     },
     "execution_count": 20,
     "metadata": {},
     "output_type": "execute_result"
    }
   ],
   "source": [
    "df.agg({\n",
    "        'fixed acidity': ['mean', 'median', 'min', 'max', 'std', 'skew'],\n",
    "        'volatile acidity': ['mean', 'median', 'min', 'max', 'std', 'skew'],\n",
    "        'citric acid': ['mean', 'median', 'min', 'max', 'std', 'skew'],\n",
    "        'residual sugar': ['mean', 'median', 'min', 'max', 'std', 'skew'],\n",
    "        'chlorides': ['mean', 'median', 'min', 'max', 'std', 'skew'],\n",
    "        'free sulfur dioxide': ['mean', 'median', 'min', 'max', 'std', 'skew'],\n",
    "        'total sulfur dioxide': ['mean', 'median', 'min', 'max', 'std', 'skew'],\n",
    "        'density': ['mean', 'median', 'min', 'max', 'std', 'skew'],\n",
    "        'pH': ['mean', 'median', 'min', 'max', 'std', 'skew'],\n",
    "        'sulphates': ['mean', 'median', 'min', 'max', 'std', 'skew'],\n",
    "        'alcohol': ['mean', 'median', 'min', 'max', 'std', 'skew']\n",
    "    })"
   ]
  },
  {
   "cell_type": "code",
   "execution_count": 21,
   "id": "FclgDq_9slfo",
   "metadata": {
    "colab": {
     "base_uri": "https://localhost:8080/",
     "height": 1000
    },
    "id": "FclgDq_9slfo",
    "outputId": "ecf6e9bf-6944-4744-fe2d-264cfa73c6d4"
   },
   "outputs": [
    {
     "name": "stderr",
     "output_type": "stream",
     "text": [
      "C:\\Users\\b5316\\AppData\\Local\\Temp\\ipykernel_1696\\1002895230.py:3: UserWarning: To output multiple subplots, the figure containing the passed axes is being cleared.\n",
      "  df.hist(ax = ax)\n"
     ]
    },
    {
     "data": {
      "text/plain": [
       "array([[<AxesSubplot:title={'center':'fixed acidity'}>,\n",
       "        <AxesSubplot:title={'center':'volatile acidity'}>,\n",
       "        <AxesSubplot:title={'center':'citric acid'}>],\n",
       "       [<AxesSubplot:title={'center':'residual sugar'}>,\n",
       "        <AxesSubplot:title={'center':'chlorides'}>,\n",
       "        <AxesSubplot:title={'center':'free sulfur dioxide'}>],\n",
       "       [<AxesSubplot:title={'center':'total sulfur dioxide'}>,\n",
       "        <AxesSubplot:title={'center':'density'}>,\n",
       "        <AxesSubplot:title={'center':'pH'}>],\n",
       "       [<AxesSubplot:title={'center':'sulphates'}>,\n",
       "        <AxesSubplot:title={'center':'alcohol'}>,\n",
       "        <AxesSubplot:title={'center':'quality score'}>]], dtype=object)"
      ]
     },
     "execution_count": 21,
     "metadata": {},
     "output_type": "execute_result"
    },
    {
     "data": {
      "image/png": "[encoded data removed]",
      "text/plain": [
       "<Figure size 1500x2000 with 12 Axes>"
      ]
     },
     "metadata": {},
     "output_type": "display_data"
    }
   ],
   "source": [
    "fig = plt.figure(figsize = (15, 20))\n",
    "ax = fig.gca()\n",
    "df.hist(ax = ax)"
   ]
  },
  {
   "cell_type": "markdown",
   "id": "NgIBxkerslfo",
   "metadata": {
    "id": "NgIBxkerslfo"
   },
   "source": [
    "# Data Cleaning"
   ]
  },
  {
   "cell_type": "markdown",
   "id": "xeWvzQ4nslfo",
   "metadata": {
    "id": "xeWvzQ4nslfo"
   },
   "source": [
    "## Summary (Before) "
   ]
  },
  {
   "cell_type": "code",
   "execution_count": 22,
   "id": "19YdTaUNslfo",
   "metadata": {
    "colab": {
     "base_uri": "https://localhost:8080/",
     "height": 457
    },
    "id": "19YdTaUNslfo",
    "outputId": "e096ec56-d6bb-40aa-8122-1399068e8cb3"
   },
   "outputs": [
    {
     "data": {
      "text/html": [
       "<div>\n",
       "<style scoped>\n",
       "    .dataframe tbody tr th:only-of-type {\n",
       "        vertical-align: middle;\n",
       "    }\n",
       "\n",
       "    .dataframe tbody tr th {\n",
       "        vertical-align: top;\n",
       "    }\n",
       "\n",
       "    .dataframe thead th {\n",
       "        text-align: right;\n",
       "    }\n",
       "</style>\n",
       "<table border=\"1\" class=\"dataframe\">\n",
       "  <thead>\n",
       "    <tr style=\"text-align: right;\">\n",
       "      <th></th>\n",
       "      <th>No. Unique</th>\n",
       "      <th>NaN Value</th>\n",
       "      <th>Duplicated</th>\n",
       "      <th>Dtype</th>\n",
       "    </tr>\n",
       "  </thead>\n",
       "  <tbody>\n",
       "    <tr>\n",
       "      <th>fixed acidity</th>\n",
       "      <td>106</td>\n",
       "      <td>0</td>\n",
       "      <td>1177</td>\n",
       "      <td>float64</td>\n",
       "    </tr>\n",
       "    <tr>\n",
       "      <th>volatile acidity</th>\n",
       "      <td>187</td>\n",
       "      <td>0</td>\n",
       "      <td>1177</td>\n",
       "      <td>float64</td>\n",
       "    </tr>\n",
       "    <tr>\n",
       "      <th>citric acid</th>\n",
       "      <td>89</td>\n",
       "      <td>0</td>\n",
       "      <td>1177</td>\n",
       "      <td>float64</td>\n",
       "    </tr>\n",
       "    <tr>\n",
       "      <th>residual sugar</th>\n",
       "      <td>316</td>\n",
       "      <td>0</td>\n",
       "      <td>1177</td>\n",
       "      <td>float64</td>\n",
       "    </tr>\n",
       "    <tr>\n",
       "      <th>chlorides</th>\n",
       "      <td>214</td>\n",
       "      <td>0</td>\n",
       "      <td>1177</td>\n",
       "      <td>float64</td>\n",
       "    </tr>\n",
       "    <tr>\n",
       "      <th>free sulfur dioxide</th>\n",
       "      <td>135</td>\n",
       "      <td>0</td>\n",
       "      <td>1177</td>\n",
       "      <td>float64</td>\n",
       "    </tr>\n",
       "    <tr>\n",
       "      <th>total sulfur dioxide</th>\n",
       "      <td>276</td>\n",
       "      <td>0</td>\n",
       "      <td>1177</td>\n",
       "      <td>float64</td>\n",
       "    </tr>\n",
       "    <tr>\n",
       "      <th>density</th>\n",
       "      <td>998</td>\n",
       "      <td>0</td>\n",
       "      <td>1177</td>\n",
       "      <td>float64</td>\n",
       "    </tr>\n",
       "    <tr>\n",
       "      <th>pH</th>\n",
       "      <td>108</td>\n",
       "      <td>0</td>\n",
       "      <td>1177</td>\n",
       "      <td>float64</td>\n",
       "    </tr>\n",
       "    <tr>\n",
       "      <th>sulphates</th>\n",
       "      <td>111</td>\n",
       "      <td>0</td>\n",
       "      <td>1177</td>\n",
       "      <td>float64</td>\n",
       "    </tr>\n",
       "    <tr>\n",
       "      <th>alcohol</th>\n",
       "      <td>111</td>\n",
       "      <td>0</td>\n",
       "      <td>1177</td>\n",
       "      <td>float64</td>\n",
       "    </tr>\n",
       "    <tr>\n",
       "      <th>quality score</th>\n",
       "      <td>7</td>\n",
       "      <td>0</td>\n",
       "      <td>1177</td>\n",
       "      <td>int64</td>\n",
       "    </tr>\n",
       "    <tr>\n",
       "      <th>type</th>\n",
       "      <td>2</td>\n",
       "      <td>0</td>\n",
       "      <td>1177</td>\n",
       "      <td>object</td>\n",
       "    </tr>\n",
       "  </tbody>\n",
       "</table>\n",
       "</div>"
      ],
      "text/plain": [
       "                      No. Unique  NaN Value  Duplicated    Dtype\n",
       "fixed acidity                106          0        1177  float64\n",
       "volatile acidity             187          0        1177  float64\n",
       "citric acid                   89          0        1177  float64\n",
       "residual sugar               316          0        1177  float64\n",
       "chlorides                    214          0        1177  float64\n",
       "free sulfur dioxide          135          0        1177  float64\n",
       "total sulfur dioxide         276          0        1177  float64\n",
       "density                      998          0        1177  float64\n",
       "pH                           108          0        1177  float64\n",
       "sulphates                    111          0        1177  float64\n",
       "alcohol                      111          0        1177  float64\n",
       "quality score                  7          0        1177    int64\n",
       "type                           2          0        1177   object"
      ]
     },
     "execution_count": 22,
     "metadata": {},
     "output_type": "execute_result"
    }
   ],
   "source": [
    "table = pd.DataFrame({\n",
    "    \"No. Unique\" : df.nunique(),\n",
    "    'NaN Value': df.isna().sum(),\n",
    "    'Duplicated' : df.duplicated().sum(),\n",
    "    'Dtype': df.dtypes\n",
    "})\n",
    "\n",
    "table"
   ]
  },
  {
   "cell_type": "markdown",
   "id": "RfUZvsjgslfp",
   "metadata": {
    "id": "RfUZvsjgslfp"
   },
   "source": [
    "## Check for duplicates"
   ]
  },
  {
   "cell_type": "code",
   "execution_count": 23,
   "id": "qYXCY9aQslfp",
   "metadata": {
    "colab": {
     "base_uri": "https://localhost:8080/",
     "height": 206
    },
    "id": "qYXCY9aQslfp",
    "outputId": "f11c4919-fab6-46ea-da4d-3e6a8298649b"
   },
   "outputs": [
    {
     "data": {
      "text/html": [
       "<div>\n",
       "<style scoped>\n",
       "    .dataframe tbody tr th:only-of-type {\n",
       "        vertical-align: middle;\n",
       "    }\n",
       "\n",
       "    .dataframe tbody tr th {\n",
       "        vertical-align: top;\n",
       "    }\n",
       "\n",
       "    .dataframe thead th {\n",
       "        text-align: right;\n",
       "    }\n",
       "</style>\n",
       "<table border=\"1\" class=\"dataframe\">\n",
       "  <thead>\n",
       "    <tr style=\"text-align: right;\">\n",
       "      <th></th>\n",
       "      <th>fixed acidity</th>\n",
       "      <th>volatile acidity</th>\n",
       "      <th>citric acid</th>\n",
       "      <th>residual sugar</th>\n",
       "      <th>chlorides</th>\n",
       "      <th>free sulfur dioxide</th>\n",
       "      <th>total sulfur dioxide</th>\n",
       "      <th>density</th>\n",
       "      <th>pH</th>\n",
       "      <th>sulphates</th>\n",
       "      <th>alcohol</th>\n",
       "      <th>quality score</th>\n",
       "      <th>type</th>\n",
       "    </tr>\n",
       "  </thead>\n",
       "  <tbody>\n",
       "    <tr>\n",
       "      <th>0</th>\n",
       "      <td>7.4</td>\n",
       "      <td>0.70</td>\n",
       "      <td>0.00</td>\n",
       "      <td>1.9</td>\n",
       "      <td>0.076</td>\n",
       "      <td>11.0</td>\n",
       "      <td>34.0</td>\n",
       "      <td>0.9978</td>\n",
       "      <td>3.51</td>\n",
       "      <td>0.56</td>\n",
       "      <td>9.4</td>\n",
       "      <td>5</td>\n",
       "      <td>red</td>\n",
       "    </tr>\n",
       "    <tr>\n",
       "      <th>1</th>\n",
       "      <td>7.8</td>\n",
       "      <td>0.88</td>\n",
       "      <td>0.00</td>\n",
       "      <td>2.6</td>\n",
       "      <td>0.098</td>\n",
       "      <td>25.0</td>\n",
       "      <td>67.0</td>\n",
       "      <td>0.9968</td>\n",
       "      <td>3.20</td>\n",
       "      <td>0.68</td>\n",
       "      <td>9.8</td>\n",
       "      <td>5</td>\n",
       "      <td>red</td>\n",
       "    </tr>\n",
       "    <tr>\n",
       "      <th>2</th>\n",
       "      <td>7.8</td>\n",
       "      <td>0.76</td>\n",
       "      <td>0.04</td>\n",
       "      <td>2.3</td>\n",
       "      <td>0.092</td>\n",
       "      <td>15.0</td>\n",
       "      <td>54.0</td>\n",
       "      <td>0.9970</td>\n",
       "      <td>3.26</td>\n",
       "      <td>0.65</td>\n",
       "      <td>9.8</td>\n",
       "      <td>5</td>\n",
       "      <td>red</td>\n",
       "    </tr>\n",
       "    <tr>\n",
       "      <th>3</th>\n",
       "      <td>11.2</td>\n",
       "      <td>0.28</td>\n",
       "      <td>0.56</td>\n",
       "      <td>1.9</td>\n",
       "      <td>0.075</td>\n",
       "      <td>17.0</td>\n",
       "      <td>60.0</td>\n",
       "      <td>0.9980</td>\n",
       "      <td>3.16</td>\n",
       "      <td>0.58</td>\n",
       "      <td>9.8</td>\n",
       "      <td>6</td>\n",
       "      <td>red</td>\n",
       "    </tr>\n",
       "    <tr>\n",
       "      <th>4</th>\n",
       "      <td>7.4</td>\n",
       "      <td>0.70</td>\n",
       "      <td>0.00</td>\n",
       "      <td>1.9</td>\n",
       "      <td>0.076</td>\n",
       "      <td>11.0</td>\n",
       "      <td>34.0</td>\n",
       "      <td>0.9978</td>\n",
       "      <td>3.51</td>\n",
       "      <td>0.56</td>\n",
       "      <td>9.4</td>\n",
       "      <td>5</td>\n",
       "      <td>red</td>\n",
       "    </tr>\n",
       "  </tbody>\n",
       "</table>\n",
       "</div>"
      ],
      "text/plain": [
       "   fixed acidity  volatile acidity  citric acid  residual sugar  chlorides  \\\n",
       "0            7.4              0.70         0.00             1.9      0.076   \n",
       "1            7.8              0.88         0.00             2.6      0.098   \n",
       "2            7.8              0.76         0.04             2.3      0.092   \n",
       "3           11.2              0.28         0.56             1.9      0.075   \n",
       "4            7.4              0.70         0.00             1.9      0.076   \n",
       "\n",
       "   free sulfur dioxide  total sulfur dioxide  density    pH  sulphates  \\\n",
       "0                 11.0                  34.0   0.9978  3.51       0.56   \n",
       "1                 25.0                  67.0   0.9968  3.20       0.68   \n",
       "2                 15.0                  54.0   0.9970  3.26       0.65   \n",
       "3                 17.0                  60.0   0.9980  3.16       0.58   \n",
       "4                 11.0                  34.0   0.9978  3.51       0.56   \n",
       "\n",
       "   alcohol  quality score type  \n",
       "0      9.4              5  red  \n",
       "1      9.8              5  red  \n",
       "2      9.8              5  red  \n",
       "3      9.8              6  red  \n",
       "4      9.4              5  red  "
      ]
     },
     "execution_count": 23,
     "metadata": {},
     "output_type": "execute_result"
    }
   ],
   "source": [
    "df.head()"
   ]
  },
  {
   "cell_type": "markdown",
   "id": "1eEx5AjNslfp",
   "metadata": {
    "id": "1eEx5AjNslfp"
   },
   "source": [
    "Conclusion: It is shown that row 3 and row 4 are duplicated"
   ]
  },
  {
   "cell_type": "code",
   "execution_count": 24,
   "id": "GXxwOA0Cslfp",
   "metadata": {
    "colab": {
     "base_uri": "https://localhost:8080/"
    },
    "id": "GXxwOA0Cslfp",
    "outputId": "686e4a35-1a8d-48f3-f935-f4e03bdeafa3"
   },
   "outputs": [
    {
     "data": {
      "text/plain": [
       "0       False\n",
       "1       False\n",
       "2       False\n",
       "3       False\n",
       "4        True\n",
       "        ...  \n",
       "6492    False\n",
       "6493    False\n",
       "6494    False\n",
       "6495    False\n",
       "6496    False\n",
       "Length: 6497, dtype: bool"
      ]
     },
     "execution_count": 24,
     "metadata": {},
     "output_type": "execute_result"
    }
   ],
   "source": [
    "# Check for duplicates\n",
    "df.duplicated(keep = 'first')"
   ]
  },
  {
   "cell_type": "markdown",
   "id": "5HvoGx7Sslfp",
   "metadata": {
    "id": "5HvoGx7Sslfp"
   },
   "source": [
    "Conclusion: The keep parameter with the value 'first' considers first value as unique and rest of the same values as duplicate"
   ]
  },
  {
   "cell_type": "code",
   "execution_count": 25,
   "id": "2mEcKHaoslfp",
   "metadata": {
    "colab": {
     "base_uri": "https://localhost:8080/"
    },
    "id": "2mEcKHaoslfp",
    "outputId": "1d012758-eaf7-4a0a-e5a6-317817268a89"
   },
   "outputs": [
    {
     "data": {
      "text/plain": [
       "(1177, 13)"
      ]
     },
     "execution_count": 25,
     "metadata": {},
     "output_type": "execute_result"
    }
   ],
   "source": [
    "duplicate_df = df[df.duplicated(keep = 'first')]\n",
    "\n",
    "duplicate_df.shape"
   ]
  },
  {
   "cell_type": "markdown",
   "id": "7jyitrEyslfq",
   "metadata": {
    "id": "7jyitrEyslfq"
   },
   "source": [
    "Conclusion: There are 1177 duplicated rows"
   ]
  },
  {
   "cell_type": "code",
   "execution_count": 26,
   "id": "G-JFl6p4slfq",
   "metadata": {
    "colab": {
     "base_uri": "https://localhost:8080/",
     "height": 424
    },
    "id": "G-JFl6p4slfq",
    "outputId": "ff4ace8e-eba4-4c76-dca5-db4955907d39"
   },
   "outputs": [
    {
     "data": {
      "text/html": [
       "<div>\n",
       "<style scoped>\n",
       "    .dataframe tbody tr th:only-of-type {\n",
       "        vertical-align: middle;\n",
       "    }\n",
       "\n",
       "    .dataframe tbody tr th {\n",
       "        vertical-align: top;\n",
       "    }\n",
       "\n",
       "    .dataframe thead th {\n",
       "        text-align: right;\n",
       "    }\n",
       "</style>\n",
       "<table border=\"1\" class=\"dataframe\">\n",
       "  <thead>\n",
       "    <tr style=\"text-align: right;\">\n",
       "      <th></th>\n",
       "      <th>fixed acidity</th>\n",
       "      <th>volatile acidity</th>\n",
       "      <th>citric acid</th>\n",
       "      <th>residual sugar</th>\n",
       "      <th>chlorides</th>\n",
       "      <th>free sulfur dioxide</th>\n",
       "      <th>total sulfur dioxide</th>\n",
       "      <th>density</th>\n",
       "      <th>pH</th>\n",
       "      <th>sulphates</th>\n",
       "      <th>alcohol</th>\n",
       "      <th>quality score</th>\n",
       "      <th>type</th>\n",
       "    </tr>\n",
       "  </thead>\n",
       "  <tbody>\n",
       "    <tr>\n",
       "      <th>4</th>\n",
       "      <td>7.4</td>\n",
       "      <td>0.700</td>\n",
       "      <td>0.00</td>\n",
       "      <td>1.90</td>\n",
       "      <td>0.076</td>\n",
       "      <td>11.0</td>\n",
       "      <td>34.0</td>\n",
       "      <td>0.99780</td>\n",
       "      <td>3.51</td>\n",
       "      <td>0.56</td>\n",
       "      <td>9.400000</td>\n",
       "      <td>5</td>\n",
       "      <td>red</td>\n",
       "    </tr>\n",
       "    <tr>\n",
       "      <th>11</th>\n",
       "      <td>7.5</td>\n",
       "      <td>0.500</td>\n",
       "      <td>0.36</td>\n",
       "      <td>6.10</td>\n",
       "      <td>0.071</td>\n",
       "      <td>17.0</td>\n",
       "      <td>102.0</td>\n",
       "      <td>0.99780</td>\n",
       "      <td>3.35</td>\n",
       "      <td>0.80</td>\n",
       "      <td>10.500000</td>\n",
       "      <td>5</td>\n",
       "      <td>red</td>\n",
       "    </tr>\n",
       "    <tr>\n",
       "      <th>27</th>\n",
       "      <td>7.9</td>\n",
       "      <td>0.430</td>\n",
       "      <td>0.21</td>\n",
       "      <td>1.60</td>\n",
       "      <td>0.106</td>\n",
       "      <td>10.0</td>\n",
       "      <td>37.0</td>\n",
       "      <td>0.99660</td>\n",
       "      <td>3.17</td>\n",
       "      <td>0.91</td>\n",
       "      <td>9.500000</td>\n",
       "      <td>5</td>\n",
       "      <td>red</td>\n",
       "    </tr>\n",
       "    <tr>\n",
       "      <th>40</th>\n",
       "      <td>7.3</td>\n",
       "      <td>0.450</td>\n",
       "      <td>0.36</td>\n",
       "      <td>5.90</td>\n",
       "      <td>0.074</td>\n",
       "      <td>12.0</td>\n",
       "      <td>87.0</td>\n",
       "      <td>0.99780</td>\n",
       "      <td>3.33</td>\n",
       "      <td>0.83</td>\n",
       "      <td>10.500000</td>\n",
       "      <td>5</td>\n",
       "      <td>red</td>\n",
       "    </tr>\n",
       "    <tr>\n",
       "      <th>65</th>\n",
       "      <td>7.2</td>\n",
       "      <td>0.725</td>\n",
       "      <td>0.05</td>\n",
       "      <td>4.65</td>\n",
       "      <td>0.086</td>\n",
       "      <td>4.0</td>\n",
       "      <td>11.0</td>\n",
       "      <td>0.99620</td>\n",
       "      <td>3.41</td>\n",
       "      <td>0.39</td>\n",
       "      <td>10.900000</td>\n",
       "      <td>5</td>\n",
       "      <td>red</td>\n",
       "    </tr>\n",
       "    <tr>\n",
       "      <th>...</th>\n",
       "      <td>...</td>\n",
       "      <td>...</td>\n",
       "      <td>...</td>\n",
       "      <td>...</td>\n",
       "      <td>...</td>\n",
       "      <td>...</td>\n",
       "      <td>...</td>\n",
       "      <td>...</td>\n",
       "      <td>...</td>\n",
       "      <td>...</td>\n",
       "      <td>...</td>\n",
       "      <td>...</td>\n",
       "      <td>...</td>\n",
       "    </tr>\n",
       "    <tr>\n",
       "      <th>6427</th>\n",
       "      <td>6.4</td>\n",
       "      <td>0.230</td>\n",
       "      <td>0.35</td>\n",
       "      <td>10.30</td>\n",
       "      <td>0.042</td>\n",
       "      <td>54.0</td>\n",
       "      <td>140.0</td>\n",
       "      <td>0.99670</td>\n",
       "      <td>3.23</td>\n",
       "      <td>0.47</td>\n",
       "      <td>9.200000</td>\n",
       "      <td>5</td>\n",
       "      <td>white</td>\n",
       "    </tr>\n",
       "    <tr>\n",
       "      <th>6449</th>\n",
       "      <td>7.0</td>\n",
       "      <td>0.360</td>\n",
       "      <td>0.35</td>\n",
       "      <td>2.50</td>\n",
       "      <td>0.048</td>\n",
       "      <td>67.0</td>\n",
       "      <td>161.0</td>\n",
       "      <td>0.99146</td>\n",
       "      <td>3.05</td>\n",
       "      <td>0.56</td>\n",
       "      <td>11.100000</td>\n",
       "      <td>6</td>\n",
       "      <td>white</td>\n",
       "    </tr>\n",
       "    <tr>\n",
       "      <th>6450</th>\n",
       "      <td>6.4</td>\n",
       "      <td>0.330</td>\n",
       "      <td>0.44</td>\n",
       "      <td>8.90</td>\n",
       "      <td>0.055</td>\n",
       "      <td>52.0</td>\n",
       "      <td>164.0</td>\n",
       "      <td>0.99488</td>\n",
       "      <td>3.10</td>\n",
       "      <td>0.48</td>\n",
       "      <td>9.600000</td>\n",
       "      <td>5</td>\n",
       "      <td>white</td>\n",
       "    </tr>\n",
       "    <tr>\n",
       "      <th>6455</th>\n",
       "      <td>7.1</td>\n",
       "      <td>0.230</td>\n",
       "      <td>0.39</td>\n",
       "      <td>13.70</td>\n",
       "      <td>0.058</td>\n",
       "      <td>26.0</td>\n",
       "      <td>172.0</td>\n",
       "      <td>0.99755</td>\n",
       "      <td>2.90</td>\n",
       "      <td>0.46</td>\n",
       "      <td>9.000000</td>\n",
       "      <td>6</td>\n",
       "      <td>white</td>\n",
       "    </tr>\n",
       "    <tr>\n",
       "      <th>6479</th>\n",
       "      <td>6.6</td>\n",
       "      <td>0.340</td>\n",
       "      <td>0.40</td>\n",
       "      <td>8.10</td>\n",
       "      <td>0.046</td>\n",
       "      <td>68.0</td>\n",
       "      <td>170.0</td>\n",
       "      <td>0.99494</td>\n",
       "      <td>3.15</td>\n",
       "      <td>0.50</td>\n",
       "      <td>9.533333</td>\n",
       "      <td>6</td>\n",
       "      <td>white</td>\n",
       "    </tr>\n",
       "  </tbody>\n",
       "</table>\n",
       "<p>1177 rows × 13 columns</p>\n",
       "</div>"
      ],
      "text/plain": [
       "      fixed acidity  volatile acidity  citric acid  residual sugar  chlorides  \\\n",
       "4               7.4             0.700         0.00            1.90      0.076   \n",
       "11              7.5             0.500         0.36            6.10      0.071   \n",
       "27              7.9             0.430         0.21            1.60      0.106   \n",
       "40              7.3             0.450         0.36            5.90      0.074   \n",
       "65              7.2             0.725         0.05            4.65      0.086   \n",
       "...             ...               ...          ...             ...        ...   \n",
       "6427            6.4             0.230         0.35           10.30      0.042   \n",
       "6449            7.0             0.360         0.35            2.50      0.048   \n",
       "6450            6.4             0.330         0.44            8.90      0.055   \n",
       "6455            7.1             0.230         0.39           13.70      0.058   \n",
       "6479            6.6             0.340         0.40            8.10      0.046   \n",
       "\n",
       "      free sulfur dioxide  total sulfur dioxide  density    pH  sulphates  \\\n",
       "4                    11.0                  34.0  0.99780  3.51       0.56   \n",
       "11                   17.0                 102.0  0.99780  3.35       0.80   \n",
       "27                   10.0                  37.0  0.99660  3.17       0.91   \n",
       "40                   12.0                  87.0  0.99780  3.33       0.83   \n",
       "65                    4.0                  11.0  0.99620  3.41       0.39   \n",
       "...                   ...                   ...      ...   ...        ...   \n",
       "6427                 54.0                 140.0  0.99670  3.23       0.47   \n",
       "6449                 67.0                 161.0  0.99146  3.05       0.56   \n",
       "6450                 52.0                 164.0  0.99488  3.10       0.48   \n",
       "6455                 26.0                 172.0  0.99755  2.90       0.46   \n",
       "6479                 68.0                 170.0  0.99494  3.15       0.50   \n",
       "\n",
       "        alcohol  quality score   type  \n",
       "4      9.400000              5    red  \n",
       "11    10.500000              5    red  \n",
       "27     9.500000              5    red  \n",
       "40    10.500000              5    red  \n",
       "65    10.900000              5    red  \n",
       "...         ...            ...    ...  \n",
       "6427   9.200000              5  white  \n",
       "6449  11.100000              6  white  \n",
       "6450   9.600000              5  white  \n",
       "6455   9.000000              6  white  \n",
       "6479   9.533333              6  white  \n",
       "\n",
       "[1177 rows x 13 columns]"
      ]
     },
     "execution_count": 26,
     "metadata": {},
     "output_type": "execute_result"
    }
   ],
   "source": [
    "duplicate_df"
   ]
  },
  {
   "cell_type": "code",
   "execution_count": 27,
   "id": "OxrKyUV_slfq",
   "metadata": {
    "id": "OxrKyUV_slfq"
   },
   "outputs": [],
   "source": [
    "# Check for duplicated rows, keep the last occurrence as True, and mark the first occurrence as False\n",
    "\n",
    "df = df.drop_duplicates(keep = 'first')"
   ]
  },
  {
   "cell_type": "code",
   "execution_count": 28,
   "id": "-CwPPQr7slf9",
   "metadata": {
    "colab": {
     "base_uri": "https://localhost:8080/"
    },
    "id": "-CwPPQr7slf9",
    "outputId": "d5e10eb9-45ae-46bf-9401-efeeee5851a0"
   },
   "outputs": [
    {
     "data": {
      "text/plain": [
       "(5320, 13)"
      ]
     },
     "execution_count": 28,
     "metadata": {},
     "output_type": "execute_result"
    }
   ],
   "source": [
    "df.shape"
   ]
  },
  {
   "cell_type": "code",
   "execution_count": 29,
   "id": "by_hD2Yxslf9",
   "metadata": {
    "colab": {
     "base_uri": "https://localhost:8080/",
     "height": 206
    },
    "id": "by_hD2Yxslf9",
    "outputId": "f592c79d-d4a3-48b4-f669-5b543de5b06b"
   },
   "outputs": [
    {
     "data": {
      "text/html": [
       "<div>\n",
       "<style scoped>\n",
       "    .dataframe tbody tr th:only-of-type {\n",
       "        vertical-align: middle;\n",
       "    }\n",
       "\n",
       "    .dataframe tbody tr th {\n",
       "        vertical-align: top;\n",
       "    }\n",
       "\n",
       "    .dataframe thead th {\n",
       "        text-align: right;\n",
       "    }\n",
       "</style>\n",
       "<table border=\"1\" class=\"dataframe\">\n",
       "  <thead>\n",
       "    <tr style=\"text-align: right;\">\n",
       "      <th></th>\n",
       "      <th>fixed acidity</th>\n",
       "      <th>volatile acidity</th>\n",
       "      <th>citric acid</th>\n",
       "      <th>residual sugar</th>\n",
       "      <th>chlorides</th>\n",
       "      <th>free sulfur dioxide</th>\n",
       "      <th>total sulfur dioxide</th>\n",
       "      <th>density</th>\n",
       "      <th>pH</th>\n",
       "      <th>sulphates</th>\n",
       "      <th>alcohol</th>\n",
       "      <th>quality score</th>\n",
       "      <th>type</th>\n",
       "    </tr>\n",
       "  </thead>\n",
       "  <tbody>\n",
       "    <tr>\n",
       "      <th>0</th>\n",
       "      <td>7.4</td>\n",
       "      <td>0.70</td>\n",
       "      <td>0.00</td>\n",
       "      <td>1.9</td>\n",
       "      <td>0.076</td>\n",
       "      <td>11.0</td>\n",
       "      <td>34.0</td>\n",
       "      <td>0.9978</td>\n",
       "      <td>3.51</td>\n",
       "      <td>0.56</td>\n",
       "      <td>9.4</td>\n",
       "      <td>5</td>\n",
       "      <td>red</td>\n",
       "    </tr>\n",
       "    <tr>\n",
       "      <th>1</th>\n",
       "      <td>7.8</td>\n",
       "      <td>0.88</td>\n",
       "      <td>0.00</td>\n",
       "      <td>2.6</td>\n",
       "      <td>0.098</td>\n",
       "      <td>25.0</td>\n",
       "      <td>67.0</td>\n",
       "      <td>0.9968</td>\n",
       "      <td>3.20</td>\n",
       "      <td>0.68</td>\n",
       "      <td>9.8</td>\n",
       "      <td>5</td>\n",
       "      <td>red</td>\n",
       "    </tr>\n",
       "    <tr>\n",
       "      <th>2</th>\n",
       "      <td>7.8</td>\n",
       "      <td>0.76</td>\n",
       "      <td>0.04</td>\n",
       "      <td>2.3</td>\n",
       "      <td>0.092</td>\n",
       "      <td>15.0</td>\n",
       "      <td>54.0</td>\n",
       "      <td>0.9970</td>\n",
       "      <td>3.26</td>\n",
       "      <td>0.65</td>\n",
       "      <td>9.8</td>\n",
       "      <td>5</td>\n",
       "      <td>red</td>\n",
       "    </tr>\n",
       "    <tr>\n",
       "      <th>3</th>\n",
       "      <td>11.2</td>\n",
       "      <td>0.28</td>\n",
       "      <td>0.56</td>\n",
       "      <td>1.9</td>\n",
       "      <td>0.075</td>\n",
       "      <td>17.0</td>\n",
       "      <td>60.0</td>\n",
       "      <td>0.9980</td>\n",
       "      <td>3.16</td>\n",
       "      <td>0.58</td>\n",
       "      <td>9.8</td>\n",
       "      <td>6</td>\n",
       "      <td>red</td>\n",
       "    </tr>\n",
       "    <tr>\n",
       "      <th>5</th>\n",
       "      <td>7.4</td>\n",
       "      <td>0.66</td>\n",
       "      <td>0.00</td>\n",
       "      <td>1.8</td>\n",
       "      <td>0.075</td>\n",
       "      <td>13.0</td>\n",
       "      <td>40.0</td>\n",
       "      <td>0.9978</td>\n",
       "      <td>3.51</td>\n",
       "      <td>0.56</td>\n",
       "      <td>9.4</td>\n",
       "      <td>5</td>\n",
       "      <td>red</td>\n",
       "    </tr>\n",
       "  </tbody>\n",
       "</table>\n",
       "</div>"
      ],
      "text/plain": [
       "   fixed acidity  volatile acidity  citric acid  residual sugar  chlorides  \\\n",
       "0            7.4              0.70         0.00             1.9      0.076   \n",
       "1            7.8              0.88         0.00             2.6      0.098   \n",
       "2            7.8              0.76         0.04             2.3      0.092   \n",
       "3           11.2              0.28         0.56             1.9      0.075   \n",
       "5            7.4              0.66         0.00             1.8      0.075   \n",
       "\n",
       "   free sulfur dioxide  total sulfur dioxide  density    pH  sulphates  \\\n",
       "0                 11.0                  34.0   0.9978  3.51       0.56   \n",
       "1                 25.0                  67.0   0.9968  3.20       0.68   \n",
       "2                 15.0                  54.0   0.9970  3.26       0.65   \n",
       "3                 17.0                  60.0   0.9980  3.16       0.58   \n",
       "5                 13.0                  40.0   0.9978  3.51       0.56   \n",
       "\n",
       "   alcohol  quality score type  \n",
       "0      9.4              5  red  \n",
       "1      9.8              5  red  \n",
       "2      9.8              5  red  \n",
       "3      9.8              6  red  \n",
       "5      9.4              5  red  "
      ]
     },
     "execution_count": 29,
     "metadata": {},
     "output_type": "execute_result"
    }
   ],
   "source": [
    "df.head()"
   ]
  },
  {
   "cell_type": "markdown",
   "id": "4g0S5GG7slf9",
   "metadata": {
    "id": "4g0S5GG7slf9"
   },
   "source": [
    "Conclusion: There are no duplicate rows"
   ]
  },
  {
   "cell_type": "markdown",
   "id": "aapZWSEcslf9",
   "metadata": {
    "id": "aapZWSEcslf9"
   },
   "source": [
    "## Check for missing values"
   ]
  },
  {
   "cell_type": "code",
   "execution_count": 30,
   "id": "GcwUkitzslf-",
   "metadata": {
    "colab": {
     "base_uri": "https://localhost:8080/"
    },
    "id": "GcwUkitzslf-",
    "outputId": "223c149b-c060-4518-e266-d2159638f770"
   },
   "outputs": [
    {
     "data": {
      "text/plain": [
       "fixed acidity           0\n",
       "volatile acidity        0\n",
       "citric acid             0\n",
       "residual sugar          0\n",
       "chlorides               0\n",
       "free sulfur dioxide     0\n",
       "total sulfur dioxide    0\n",
       "density                 0\n",
       "pH                      0\n",
       "sulphates               0\n",
       "alcohol                 0\n",
       "quality score           0\n",
       "type                    0\n",
       "dtype: int64"
      ]
     },
     "execution_count": 30,
     "metadata": {},
     "output_type": "execute_result"
    }
   ],
   "source": [
    "df.isna().sum()"
   ]
  },
  {
   "cell_type": "markdown",
   "id": "7_NW7q5Tslf-",
   "metadata": {
    "id": "7_NW7q5Tslf-"
   },
   "source": [
    "Conclusion: All the columns have no missing values"
   ]
  },
  {
   "cell_type": "markdown",
   "id": "dlUFQJ3hslf-",
   "metadata": {
    "id": "dlUFQJ3hslf-"
   },
   "source": [
    "## Summary (After)"
   ]
  },
  {
   "cell_type": "code",
   "execution_count": 31,
   "id": "1WQs5DQhslf-",
   "metadata": {
    "colab": {
     "base_uri": "https://localhost:8080/",
     "height": 457
    },
    "id": "1WQs5DQhslf-",
    "outputId": "f32deaed-42f8-4369-b30f-75e8ad1e339c"
   },
   "outputs": [
    {
     "data": {
      "text/html": [
       "<div>\n",
       "<style scoped>\n",
       "    .dataframe tbody tr th:only-of-type {\n",
       "        vertical-align: middle;\n",
       "    }\n",
       "\n",
       "    .dataframe tbody tr th {\n",
       "        vertical-align: top;\n",
       "    }\n",
       "\n",
       "    .dataframe thead th {\n",
       "        text-align: right;\n",
       "    }\n",
       "</style>\n",
       "<table border=\"1\" class=\"dataframe\">\n",
       "  <thead>\n",
       "    <tr style=\"text-align: right;\">\n",
       "      <th></th>\n",
       "      <th>No. Unique</th>\n",
       "      <th>NaN Value</th>\n",
       "      <th>Duplicated</th>\n",
       "      <th>Dtype</th>\n",
       "    </tr>\n",
       "  </thead>\n",
       "  <tbody>\n",
       "    <tr>\n",
       "      <th>fixed acidity</th>\n",
       "      <td>106</td>\n",
       "      <td>0</td>\n",
       "      <td>0</td>\n",
       "      <td>float64</td>\n",
       "    </tr>\n",
       "    <tr>\n",
       "      <th>volatile acidity</th>\n",
       "      <td>187</td>\n",
       "      <td>0</td>\n",
       "      <td>0</td>\n",
       "      <td>float64</td>\n",
       "    </tr>\n",
       "    <tr>\n",
       "      <th>citric acid</th>\n",
       "      <td>89</td>\n",
       "      <td>0</td>\n",
       "      <td>0</td>\n",
       "      <td>float64</td>\n",
       "    </tr>\n",
       "    <tr>\n",
       "      <th>residual sugar</th>\n",
       "      <td>316</td>\n",
       "      <td>0</td>\n",
       "      <td>0</td>\n",
       "      <td>float64</td>\n",
       "    </tr>\n",
       "    <tr>\n",
       "      <th>chlorides</th>\n",
       "      <td>214</td>\n",
       "      <td>0</td>\n",
       "      <td>0</td>\n",
       "      <td>float64</td>\n",
       "    </tr>\n",
       "    <tr>\n",
       "      <th>free sulfur dioxide</th>\n",
       "      <td>135</td>\n",
       "      <td>0</td>\n",
       "      <td>0</td>\n",
       "      <td>float64</td>\n",
       "    </tr>\n",
       "    <tr>\n",
       "      <th>total sulfur dioxide</th>\n",
       "      <td>276</td>\n",
       "      <td>0</td>\n",
       "      <td>0</td>\n",
       "      <td>float64</td>\n",
       "    </tr>\n",
       "    <tr>\n",
       "      <th>density</th>\n",
       "      <td>998</td>\n",
       "      <td>0</td>\n",
       "      <td>0</td>\n",
       "      <td>float64</td>\n",
       "    </tr>\n",
       "    <tr>\n",
       "      <th>pH</th>\n",
       "      <td>108</td>\n",
       "      <td>0</td>\n",
       "      <td>0</td>\n",
       "      <td>float64</td>\n",
       "    </tr>\n",
       "    <tr>\n",
       "      <th>sulphates</th>\n",
       "      <td>111</td>\n",
       "      <td>0</td>\n",
       "      <td>0</td>\n",
       "      <td>float64</td>\n",
       "    </tr>\n",
       "    <tr>\n",
       "      <th>alcohol</th>\n",
       "      <td>111</td>\n",
       "      <td>0</td>\n",
       "      <td>0</td>\n",
       "      <td>float64</td>\n",
       "    </tr>\n",
       "    <tr>\n",
       "      <th>quality score</th>\n",
       "      <td>7</td>\n",
       "      <td>0</td>\n",
       "      <td>0</td>\n",
       "      <td>int64</td>\n",
       "    </tr>\n",
       "    <tr>\n",
       "      <th>type</th>\n",
       "      <td>2</td>\n",
       "      <td>0</td>\n",
       "      <td>0</td>\n",
       "      <td>object</td>\n",
       "    </tr>\n",
       "  </tbody>\n",
       "</table>\n",
       "</div>"
      ],
      "text/plain": [
       "                      No. Unique  NaN Value  Duplicated    Dtype\n",
       "fixed acidity                106          0           0  float64\n",
       "volatile acidity             187          0           0  float64\n",
       "citric acid                   89          0           0  float64\n",
       "residual sugar               316          0           0  float64\n",
       "chlorides                    214          0           0  float64\n",
       "free sulfur dioxide          135          0           0  float64\n",
       "total sulfur dioxide         276          0           0  float64\n",
       "density                      998          0           0  float64\n",
       "pH                           108          0           0  float64\n",
       "sulphates                    111          0           0  float64\n",
       "alcohol                      111          0           0  float64\n",
       "quality score                  7          0           0    int64\n",
       "type                           2          0           0   object"
      ]
     },
     "execution_count": 31,
     "metadata": {},
     "output_type": "execute_result"
    }
   ],
   "source": [
    "table = pd.DataFrame({\n",
    "    \"No. Unique\" : df.nunique(),\n",
    "    'NaN Value': df.isna().sum(),\n",
    "    'Duplicated' : df.duplicated().sum(),\n",
    "    'Dtype': df.dtypes\n",
    "})\n",
    "\n",
    "table"
   ]
  },
  {
   "cell_type": "markdown",
   "id": "t5kwE4Vmslf-",
   "metadata": {
    "id": "t5kwE4Vmslf-"
   },
   "source": [
    "## Data Balancing"
   ]
  },
  {
   "cell_type": "markdown",
   "id": "5jG_GHaWslf-",
   "metadata": {
    "id": "5jG_GHaWslf-"
   },
   "source": [
    "### Check for imbalance target "
   ]
  },
  {
   "cell_type": "code",
   "execution_count": 32,
   "id": "6uOwhhIuslf_",
   "metadata": {
    "colab": {
     "base_uri": "https://localhost:8080/",
     "height": 587
    },
    "id": "6uOwhhIuslf_",
    "outputId": "9d13e240-91b3-455a-899f-283aa49b5ddb"
   },
   "outputs": [
    {
     "data": {
      "text/plain": [
       "[Text(0, 0, '30'),\n",
       " Text(0, 0, '206'),\n",
       " Text(0, 0, '1752'),\n",
       " Text(0, 0, '2323'),\n",
       " Text(0, 0, '856'),\n",
       " Text(0, 0, '148'),\n",
       " Text(0, 0, '5')]"
      ]
     },
     "execution_count": 32,
     "metadata": {},
     "output_type": "execute_result"
    },
    {
     "data": {
      "image/png": "[encoded data removed]",
      "text/plain": [
       "<Figure size 1000x500 with 1 Axes>"
      ]
     },
     "metadata": {},
     "output_type": "display_data"
    }
   ],
   "source": [
    "ax = plt.figure(figsize = (10, 5))\n",
    "ax = sns.countplot(x = 'quality score', data = df)\n",
    "ax.bar_label(ax.containers[0])"
   ]
  },
  {
   "cell_type": "markdown",
   "id": "UOWdRTSEslf_",
   "metadata": {
    "id": "UOWdRTSEslf_"
   },
   "source": [
    "Conclusion: Quality score of 6 has the most occurence, followed by 5, 7, 4, 8, 3, and 9"
   ]
  },
  {
   "cell_type": "markdown",
   "id": "IeqWaCcsslf_",
   "metadata": {
    "id": "IeqWaCcsslf_"
   },
   "source": [
    "###  Undersample target"
   ]
  },
  {
   "cell_type": "markdown",
   "id": "QBGb-Wfgslf_",
   "metadata": {
    "id": "QBGb-Wfgslf_"
   },
   "source": [
    "Undersampling is the process where you randomly delete some of the observations from the majority class in order to match the numbers with the minority class."
   ]
  },
  {
   "cell_type": "code",
   "execution_count": 33,
   "id": "RQAG-5Bpslf_",
   "metadata": {
    "id": "RQAG-5Bpslf_"
   },
   "outputs": [],
   "source": [
    "# # Shuffle the dataset\n",
    "# shuffled_df = df.sample(frac = 1, random_state = 4)\n",
    "\n",
    "# # Put all the Failure = 'Yes' in a separate dataset\n",
    "# fail_df = shuffled_df.loc[shuffled_df['Failure'] == 'Yes']\n",
    "\n",
    "# # Randomly select 1000 observations from Failure = 'No' (majority class)\n",
    "# no_fail_df = shuffled_df.loc[shuffled_df['Failure'] == 'No'].sample(n = 339, random_state = 42)\n",
    "\n",
    "# # Concatenate both dataframes again\n",
    "# new_df = pd.concat([fail_df, no_fail_df])"
   ]
  },
  {
   "cell_type": "code",
   "execution_count": 34,
   "id": "hoW1DZarslf_",
   "metadata": {
    "id": "hoW1DZarslf_",
    "scrolled": true
   },
   "outputs": [],
   "source": [
    "# # plot dataset after undersampling\n",
    "\n",
    "# # plt.figure(figsize = (8, 8))\n",
    "# # sns.countplot(x = new_df['Failure'])\n",
    "# # plt.title('Balanced Classes', fontweight = 'bold')\n",
    "# # plt.show()\n",
    "\n",
    "# ax = plt.figure(figsize = (8, 8))\n",
    "# ax = sns.countplot(x = 'Failure', data = new_df)\n",
    "# ax.bar_label(ax.containers[0])"
   ]
  },
  {
   "cell_type": "code",
   "execution_count": 35,
   "id": "2UBI0F_ZslgA",
   "metadata": {
    "id": "2UBI0F_ZslgA"
   },
   "outputs": [],
   "source": [
    "# # Display class counts\n",
    "# new_df['Failure'].value_counts()"
   ]
  },
  {
   "cell_type": "code",
   "execution_count": 36,
   "id": "66ph3jhcslgA",
   "metadata": {
    "id": "66ph3jhcslgA"
   },
   "outputs": [],
   "source": [
    "# new_df.info()"
   ]
  },
  {
   "cell_type": "code",
   "execution_count": 37,
   "id": "_eaJ-e-AslgA",
   "metadata": {
    "id": "_eaJ-e-AslgA"
   },
   "outputs": [],
   "source": [
    "# new_df.shape"
   ]
  },
  {
   "cell_type": "markdown",
   "id": "ot3E9daIslgA",
   "metadata": {
    "id": "ot3E9daIslgA"
   },
   "source": [
    "# Data Visualization "
   ]
  },
  {
   "cell_type": "markdown",
   "id": "VLlm-jCtslgA",
   "metadata": {
    "id": "VLlm-jCtslgA"
   },
   "source": [
    "## EDA "
   ]
  },
  {
   "cell_type": "markdown",
   "id": "nJeJRBJ8slgA",
   "metadata": {
    "id": "nJeJRBJ8slgA"
   },
   "source": [
    "Exploratory Data Analysis (EDA) refers to the critical process of performing initial investigations on data: \n",
    "- to discover patterns\n",
    "- to spot anomalies\n",
    "- to test hypothesis \n",
    "- to check assumptions \n",
    "\n",
    "with the help of summary statistics and graphical representations"
   ]
  },
  {
   "cell_type": "code",
   "execution_count": 38,
   "id": "h4Q2Q0l8slgB",
   "metadata": {
    "id": "h4Q2Q0l8slgB"
   },
   "outputs": [],
   "source": [
    "# remove:\n",
    "# new_df = df"
   ]
  },
  {
   "cell_type": "markdown",
   "id": "MFjmDknhslgB",
   "metadata": {
    "id": "MFjmDknhslgB"
   },
   "source": [
    "### Type vs Quality Score"
   ]
  },
  {
   "cell_type": "code",
   "execution_count": 39,
   "id": "WmTEsrFNslgB",
   "metadata": {
    "colab": {
     "base_uri": "https://localhost:8080/",
     "height": 465
    },
    "id": "WmTEsrFNslgB",
    "outputId": "0de6a886-24b7-4862-cf12-155267922912"
   },
   "outputs": [
    {
     "data": {
      "image/png": "[encoded data removed]",
      "text/plain": [
       "<Figure size 1500x500 with 1 Axes>"
      ]
     },
     "metadata": {},
     "output_type": "display_data"
    }
   ],
   "source": [
    "ax = plt.figure(figsize = (15, 5))\n",
    "ax = sns.countplot(x = 'quality score', hue = 'type', data = df)\n",
    "for container in ax.containers:\n",
    "    ax.bar_label(container)"
   ]
  },
  {
   "cell_type": "markdown",
   "id": "n71ZO73PslgB",
   "metadata": {
    "id": "n71ZO73PslgB"
   },
   "source": [
    "Conclusion: Type affects Quality Score\n",
    "- White wine is most likely to have higher quality score\n",
    "\n",
    "Research:\n",
    "- White wine had a higher mean quality of 5.88 as compared to Red wine which had a mean quality of 5.64"
   ]
  },
  {
   "cell_type": "code",
   "execution_count": 40,
   "id": "Q64qh9rlslgB",
   "metadata": {
    "colab": {
     "base_uri": "https://localhost:8080/"
    },
    "id": "Q64qh9rlslgB",
    "outputId": "5b9faf04-d71c-459b-ab17-8d18be431ff6"
   },
   "outputs": [
    {
     "data": {
      "text/plain": [
       "white    3961\n",
       "red      1359\n",
       "Name: type, dtype: int64"
      ]
     },
     "execution_count": 40,
     "metadata": {},
     "output_type": "execute_result"
    }
   ],
   "source": [
    "df['type'].value_counts()"
   ]
  },
  {
   "cell_type": "markdown",
   "id": "R-2gKfkHslgC",
   "metadata": {
    "id": "R-2gKfkHslgC"
   },
   "source": [
    "### Fixed Acidity vs Quality Score"
   ]
  },
  {
   "cell_type": "code",
   "execution_count": 41,
   "id": "WoZPfF9UslgC",
   "metadata": {
    "colab": {
     "base_uri": "https://localhost:8080/",
     "height": 466
    },
    "id": "WoZPfF9UslgC",
    "outputId": "32335197-2a59-427b-90a6-839c6fe85ade"
   },
   "outputs": [
    {
     "data": {
      "text/plain": [
       "<AxesSubplot:xlabel='quality score', ylabel='fixed acidity'>"
      ]
     },
     "execution_count": 41,
     "metadata": {},
     "output_type": "execute_result"
    },
    {
     "data": {
      "image/png": "[encoded data removed]",
      "text/plain": [
       "<Figure size 640x480 with 1 Axes>"
      ]
     },
     "metadata": {},
     "output_type": "display_data"
    }
   ],
   "source": [
    "sns.barplot(x=df['quality score'], y=df['fixed acidity'])"
   ]
  },
  {
   "cell_type": "code",
   "execution_count": 42,
   "id": "nogI8Ng4slgC",
   "metadata": {
    "colab": {
     "base_uri": "https://localhost:8080/",
     "height": 466
    },
    "id": "nogI8Ng4slgC",
    "outputId": "4270430e-4044-4351-ee9e-ac34ccc8c678"
   },
   "outputs": [
    {
     "data": {
      "text/plain": [
       "<AxesSubplot:xlabel='fixed acidity'>"
      ]
     },
     "execution_count": 42,
     "metadata": {},
     "output_type": "execute_result"
    },
    {
     "data": {
      "image/png": "[encoded data removed]",
      "text/plain": [
       "<Figure size 640x480 with 1 Axes>"
      ]
     },
     "metadata": {},
     "output_type": "display_data"
    }
   ],
   "source": [
    "sns.boxplot(x = 'fixed acidity', hue = 'quality score', data = df)"
   ]
  },
  {
   "cell_type": "markdown",
   "id": "Ka0KGTR5slgC",
   "metadata": {
    "id": "Ka0KGTR5slgC"
   },
   "source": [
    "Conclusion: Fixed Acidity affects Quality Score\n",
    "- Outliers are identified\n",
    "\n",
    "Research:\n",
    "- A wine with a higher acidity (lower pH number) will taste crisper and tarter on the palate. A wine with a lower acidity will taste richer and rounder on the palate.\n",
    "- The range for fixed acidity is quite high with minimum being 4.8 and maximum being 14.2"
   ]
  },
  {
   "cell_type": "markdown",
   "id": "qe714TAXslgC",
   "metadata": {
    "id": "qe714TAXslgC"
   },
   "source": [
    "### Volatile Acidity vs Quality Score"
   ]
  },
  {
   "cell_type": "code",
   "execution_count": 43,
   "id": "Ba8LaO8QslgC",
   "metadata": {
    "colab": {
     "base_uri": "https://localhost:8080/",
     "height": 466
    },
    "id": "Ba8LaO8QslgC",
    "outputId": "55222645-d10e-4669-b20f-ba460b78b305"
   },
   "outputs": [
    {
     "data": {
      "text/plain": [
       "<AxesSubplot:xlabel='quality score', ylabel='volatile acidity'>"
      ]
     },
     "execution_count": 43,
     "metadata": {},
     "output_type": "execute_result"
    },
    {
     "data": {
      "image/png": "[encoded data removed]",
      "text/plain": [
       "<Figure size 640x480 with 1 Axes>"
      ]
     },
     "metadata": {},
     "output_type": "display_data"
    }
   ],
   "source": [
    "sns.barplot(x=df['quality score'], y=df['volatile acidity'])"
   ]
  },
  {
   "cell_type": "code",
   "execution_count": 44,
   "id": "KRBe7ZPfslgD",
   "metadata": {
    "colab": {
     "base_uri": "https://localhost:8080/",
     "height": 466
    },
    "id": "KRBe7ZPfslgD",
    "outputId": "3ed3994a-7ac6-4f48-8a7e-3de542f8c517"
   },
   "outputs": [
    {
     "data": {
      "text/plain": [
       "<AxesSubplot:xlabel='volatile acidity'>"
      ]
     },
     "execution_count": 44,
     "metadata": {},
     "output_type": "execute_result"
    },
    {
     "data": {
      "image/png": "[encoded data removed]",
      "text/plain": [
       "<Figure size 640x480 with 1 Axes>"
      ]
     },
     "metadata": {},
     "output_type": "display_data"
    }
   ],
   "source": [
    "sns.boxplot(x = 'volatile acidity', hue = 'quality score', data = df)"
   ]
  },
  {
   "cell_type": "markdown",
   "id": "RtosK5kgslgD",
   "metadata": {
    "id": "RtosK5kgslgD"
   },
   "source": [
    "Conclusion: Volatile Acidity affects Quality Score\n",
    "- Outliers are identified \n",
    "- The lower the volatile acidity, the higher the quality score\n",
    "\n",
    "Research:\n",
    "- As long as the volatile acidity does not exceed 0.55 or 0.60 gr/litre, the taste of the wine will not be affected too much\n",
    "- The quality of a wine is higher when its volatile acidity is lower"
   ]
  },
  {
   "cell_type": "markdown",
   "id": "l0x3BiyhslgD",
   "metadata": {
    "id": "l0x3BiyhslgD"
   },
   "source": [
    "### Citric Acid vs Quality Score"
   ]
  },
  {
   "cell_type": "code",
   "execution_count": 45,
   "id": "LFct6PmYslgD",
   "metadata": {
    "colab": {
     "base_uri": "https://localhost:8080/",
     "height": 466
    },
    "id": "LFct6PmYslgD",
    "outputId": "11cbc443-a048-46da-e0b6-aaa8d12038bd"
   },
   "outputs": [
    {
     "data": {
      "text/plain": [
       "<AxesSubplot:xlabel='quality score', ylabel='citric acid'>"
      ]
     },
     "execution_count": 45,
     "metadata": {},
     "output_type": "execute_result"
    },
    {
     "data": {
      "image/png": "[encoded data removed]",
      "text/plain": [
       "<Figure size 640x480 with 1 Axes>"
      ]
     },
     "metadata": {},
     "output_type": "display_data"
    }
   ],
   "source": [
    "sns.barplot(x=df['quality score'], y=df['citric acid'])"
   ]
  },
  {
   "cell_type": "code",
   "execution_count": 46,
   "id": "ZO4gCy3DslgD",
   "metadata": {
    "colab": {
     "base_uri": "https://localhost:8080/",
     "height": 466
    },
    "id": "ZO4gCy3DslgD",
    "outputId": "c8a78b63-5fca-41d9-d18f-05432ddd04bb"
   },
   "outputs": [
    {
     "data": {
      "text/plain": [
       "<AxesSubplot:xlabel='citric acid'>"
      ]
     },
     "execution_count": 46,
     "metadata": {},
     "output_type": "execute_result"
    },
    {
     "data": {
      "image/png": "[encoded data removed]",
      "text/plain": [
       "<Figure size 640x480 with 1 Axes>"
      ]
     },
     "metadata": {},
     "output_type": "display_data"
    }
   ],
   "source": [
    "sns.boxplot(x = 'citric acid', hue = 'quality score', data = df)"
   ]
  },
  {
   "cell_type": "markdown",
   "id": "7RBk8N-oslgE",
   "metadata": {
    "id": "7RBk8N-oslgE"
   },
   "source": [
    "Conclusion: Citric Acid affects Quality Score\n",
    "- Outliers are identified\n",
    "- The higher the citric acidity, the higher the quality score\n",
    "\n",
    "Research:\n",
    "- Citric acid is added to wines to increase acidity\n",
    "- It can be added to finished wines to increase acidity and give a \"fresh\" flavor that is preferable for tasters to get better quality score"
   ]
  },
  {
   "cell_type": "markdown",
   "id": "4j0dNLh9slgE",
   "metadata": {
    "id": "4j0dNLh9slgE"
   },
   "source": [
    "### Residual Sugar vs Quality Score"
   ]
  },
  {
   "cell_type": "code",
   "execution_count": 47,
   "id": "-mHIMad1slgE",
   "metadata": {
    "colab": {
     "base_uri": "https://localhost:8080/",
     "height": 466
    },
    "id": "-mHIMad1slgE",
    "outputId": "ad6d457a-7096-4835-b7f8-444c5dd5ea7c"
   },
   "outputs": [
    {
     "data": {
      "text/plain": [
       "<AxesSubplot:xlabel='quality score', ylabel='residual sugar'>"
      ]
     },
     "execution_count": 47,
     "metadata": {},
     "output_type": "execute_result"
    },
    {
     "data": {
      "image/png": "[encoded data removed]",
      "text/plain": [
       "<Figure size 640x480 with 1 Axes>"
      ]
     },
     "metadata": {},
     "output_type": "display_data"
    }
   ],
   "source": [
    "sns.barplot(x=df['quality score'], y=df['residual sugar'])"
   ]
  },
  {
   "cell_type": "code",
   "execution_count": 48,
   "id": "Q-Fmltd-slgE",
   "metadata": {
    "colab": {
     "base_uri": "https://localhost:8080/",
     "height": 466
    },
    "id": "Q-Fmltd-slgE",
    "outputId": "e35bbf81-1f64-429a-8517-135d701bfa4b"
   },
   "outputs": [
    {
     "data": {
      "text/plain": [
       "<AxesSubplot:xlabel='residual sugar'>"
      ]
     },
     "execution_count": 48,
     "metadata": {},
     "output_type": "execute_result"
    },
    {
     "data": {
      "image/png": "[encoded data removed]",
      "text/plain": [
       "<Figure size 640x480 with 1 Axes>"
      ]
     },
     "metadata": {},
     "output_type": "display_data"
    }
   ],
   "source": [
    "sns.boxplot(x = 'residual sugar', hue = 'quality score', data = df)"
   ]
  },
  {
   "cell_type": "markdown",
   "id": "yI__rIw7slgE",
   "metadata": {
    "id": "yI__rIw7slgE"
   },
   "source": [
    "Conclusion: Residual Sugar affects Quality Score\n",
    "- Outliers are identified\n",
    "\n",
    "Research:\n",
    "- The amount of residual sugar affects a wine's sweetness\n",
    "- The more residual sugar remaining in a wine, the sweeter the wine is\n",
    "- Residual sugar is from the natural grape sugars left in a wine after the alcoholic fermentation finishes"
   ]
  },
  {
   "cell_type": "markdown",
   "id": "VBVCYMFwslgF",
   "metadata": {
    "id": "VBVCYMFwslgF"
   },
   "source": [
    "### Chlorides vs Quality Score"
   ]
  },
  {
   "cell_type": "code",
   "execution_count": 49,
   "id": "WpYWzmKUslgF",
   "metadata": {
    "colab": {
     "base_uri": "https://localhost:8080/",
     "height": 466
    },
    "id": "WpYWzmKUslgF",
    "outputId": "4ea14b70-cc9f-4b46-bbad-562472eae6ac"
   },
   "outputs": [
    {
     "data": {
      "text/plain": [
       "<AxesSubplot:xlabel='quality score', ylabel='chlorides'>"
      ]
     },
     "execution_count": 49,
     "metadata": {},
     "output_type": "execute_result"
    },
    {
     "data": {
      "image/png": "[encoded data removed]",
      "text/plain": [
       "<Figure size 640x480 with 1 Axes>"
      ]
     },
     "metadata": {},
     "output_type": "display_data"
    }
   ],
   "source": [
    "sns.barplot(x=df['quality score'], y=df['chlorides'])"
   ]
  },
  {
   "cell_type": "code",
   "execution_count": 50,
   "id": "WU56wLW2slgF",
   "metadata": {
    "colab": {
     "base_uri": "https://localhost:8080/",
     "height": 466
    },
    "id": "WU56wLW2slgF",
    "outputId": "6f6a5b7f-8945-4643-98b6-3ebf2105909d"
   },
   "outputs": [
    {
     "data": {
      "text/plain": [
       "<AxesSubplot:xlabel='chlorides'>"
      ]
     },
     "execution_count": 50,
     "metadata": {},
     "output_type": "execute_result"
    },
    {
     "data": {
      "image/png": "[encoded data removed]",
      "text/plain": [
       "<Figure size 640x480 with 1 Axes>"
      ]
     },
     "metadata": {},
     "output_type": "display_data"
    }
   ],
   "source": [
    "sns.boxplot(x = 'chlorides', hue = 'quality score', data = df)"
   ]
  },
  {
   "cell_type": "markdown",
   "id": "VpUNEJuLslgF",
   "metadata": {
    "id": "VpUNEJuLslgF"
   },
   "source": [
    "Conclusion: Chlorides affects Quality Score\n",
    "- Outliers are identified\n",
    "- The lower the chlorides, the higher the quality score\n",
    "\n",
    "Research:\n",
    "- In wines, the concentration of chloride ions is generally indicative of the presence of sodium chloride5\n",
    "- Sodium chloride adds to the saltiness of a wine, which can contribute to or detract from the overall taste and quality of the wine"
   ]
  },
  {
   "cell_type": "markdown",
   "id": "YtJExiyeslgG",
   "metadata": {
    "id": "YtJExiyeslgG"
   },
   "source": [
    "### Free Sulfur Dioxide vs Quality Score"
   ]
  },
  {
   "cell_type": "code",
   "execution_count": 51,
   "id": "_vVUPQzjslgG",
   "metadata": {
    "colab": {
     "base_uri": "https://localhost:8080/",
     "height": 466
    },
    "id": "_vVUPQzjslgG",
    "outputId": "a7f53abd-a253-4e1c-9e08-44069dcf94dc"
   },
   "outputs": [
    {
     "data": {
      "text/plain": [
       "<AxesSubplot:xlabel='quality score', ylabel='free sulfur dioxide'>"
      ]
     },
     "execution_count": 51,
     "metadata": {},
     "output_type": "execute_result"
    },
    {
     "data": {
      "image/png": "[encoded data removed]",
      "text/plain": [
       "<Figure size 640x480 with 1 Axes>"
      ]
     },
     "metadata": {},
     "output_type": "display_data"
    }
   ],
   "source": [
    "sns.barplot(x=df['quality score'], y=df['free sulfur dioxide'])"
   ]
  },
  {
   "cell_type": "code",
   "execution_count": 52,
   "id": "uk2LZ1hislgG",
   "metadata": {
    "colab": {
     "base_uri": "https://localhost:8080/",
     "height": 466
    },
    "id": "uk2LZ1hislgG",
    "outputId": "aef9f611-8021-4700-9b2e-a31bba0fbeb6"
   },
   "outputs": [
    {
     "data": {
      "text/plain": [
       "<AxesSubplot:xlabel='free sulfur dioxide'>"
      ]
     },
     "execution_count": 52,
     "metadata": {},
     "output_type": "execute_result"
    },
    {
     "data": {
      "image/png": "[encoded data removed]",
      "text/plain": [
       "<Figure size 640x480 with 1 Axes>"
      ]
     },
     "metadata": {},
     "output_type": "display_data"
    }
   ],
   "source": [
    "sns.boxplot(x = 'free sulfur dioxide', hue = 'quality score', data = df)"
   ]
  },
  {
   "cell_type": "markdown",
   "id": "e9fqZPRsslgG",
   "metadata": {
    "id": "e9fqZPRsslgG"
   },
   "source": [
    "Conclusion: Free Sulfur Dioxide affects Quality Score\n",
    "\n",
    "- Outliers are identified\n",
    "\n",
    "Research:\n",
    "- Free Sulfur Dioxide improves the taste and retains the wine's fruity flavors and freshness of aroma"
   ]
  },
  {
   "cell_type": "markdown",
   "id": "sTk0nOqqslgH",
   "metadata": {
    "id": "sTk0nOqqslgH"
   },
   "source": [
    "### Total Sulfur Dioxide vs Quality Score"
   ]
  },
  {
   "cell_type": "code",
   "execution_count": 53,
   "id": "18ziXK3SslgH",
   "metadata": {
    "colab": {
     "base_uri": "https://localhost:8080/",
     "height": 466
    },
    "id": "18ziXK3SslgH",
    "outputId": "674cfdbe-8c68-4512-d78e-f4923ccb85bd"
   },
   "outputs": [
    {
     "data": {
      "text/plain": [
       "<AxesSubplot:xlabel='quality score', ylabel='total sulfur dioxide'>"
      ]
     },
     "execution_count": 53,
     "metadata": {},
     "output_type": "execute_result"
    },
    {
     "data": {
      "image/png": "[encoded data removed]",
      "text/plain": [
       "<Figure size 640x480 with 1 Axes>"
      ]
     },
     "metadata": {},
     "output_type": "display_data"
    }
   ],
   "source": [
    "sns.barplot(x=df['quality score'], y=df['total sulfur dioxide'])"
   ]
  },
  {
   "cell_type": "code",
   "execution_count": 54,
   "id": "pShhZNRLslgH",
   "metadata": {
    "colab": {
     "base_uri": "https://localhost:8080/",
     "height": 466
    },
    "id": "pShhZNRLslgH",
    "outputId": "0716975b-d7e1-4366-e572-4a69f7ecf16c"
   },
   "outputs": [
    {
     "data": {
      "text/plain": [
       "<AxesSubplot:xlabel='total sulfur dioxide'>"
      ]
     },
     "execution_count": 54,
     "metadata": {},
     "output_type": "execute_result"
    },
    {
     "data": {
      "image/png": "[encoded data removed]",
      "text/plain": [
       "<Figure size 640x480 with 1 Axes>"
      ]
     },
     "metadata": {},
     "output_type": "display_data"
    }
   ],
   "source": [
    "sns.boxplot(x = 'total sulfur dioxide', hue = 'quality score', data = df)"
   ]
  },
  {
   "cell_type": "markdown",
   "id": "CR4eymVTslgH",
   "metadata": {
    "id": "CR4eymVTslgH"
   },
   "source": [
    "Conclusion: Total Sulfur Dioxide affects Quality Score\n",
    "- Outliers are identified\n",
    "\n",
    "Research:\n",
    "- Total Sulfur Dioxide protects wine from various unwanted reactions \n",
    "- It is indispensable additive in winemaking\n",
    "- It preserves wine's freshness and fruit characters"
   ]
  },
  {
   "cell_type": "markdown",
   "id": "iIs1-pUsslgH",
   "metadata": {
    "id": "iIs1-pUsslgH"
   },
   "source": [
    "### Density vs Quality Score"
   ]
  },
  {
   "cell_type": "code",
   "execution_count": 55,
   "id": "Aw11osveslgI",
   "metadata": {
    "colab": {
     "base_uri": "https://localhost:8080/",
     "height": 466
    },
    "id": "Aw11osveslgI",
    "outputId": "922661eb-306d-4614-acef-6c3901f0be73"
   },
   "outputs": [
    {
     "data": {
      "text/plain": [
       "<AxesSubplot:xlabel='quality score', ylabel='density'>"
      ]
     },
     "execution_count": 55,
     "metadata": {},
     "output_type": "execute_result"
    },
    {
     "data": {
      "image/png": "[encoded data removed]",
      "text/plain": [
       "<Figure size 640x480 with 1 Axes>"
      ]
     },
     "metadata": {},
     "output_type": "display_data"
    }
   ],
   "source": [
    "sns.barplot(x=df['quality score'], y=df['density'])"
   ]
  },
  {
   "cell_type": "code",
   "execution_count": 56,
   "id": "6UwSE_6fslgI",
   "metadata": {
    "colab": {
     "base_uri": "https://localhost:8080/",
     "height": 466
    },
    "id": "6UwSE_6fslgI",
    "outputId": "20410a14-ae6f-47c8-aa69-0413afb03205"
   },
   "outputs": [
    {
     "data": {
      "text/plain": [
       "<AxesSubplot:xlabel='density'>"
      ]
     },
     "execution_count": 56,
     "metadata": {},
     "output_type": "execute_result"
    },
    {
     "data": {
      "image/png": "[encoded data removed]",
      "text/plain": [
       "<Figure size 640x480 with 1 Axes>"
      ]
     },
     "metadata": {},
     "output_type": "display_data"
    }
   ],
   "source": [
    "sns.boxplot(x = 'density', hue = 'quality score', data = df)"
   ]
  },
  {
   "cell_type": "markdown",
   "id": "bUcURAH1slgI",
   "metadata": {
    "id": "bUcURAH1slgI"
   },
   "source": [
    "Conclusion: Density affects Quality Score\n",
    "- Outliers are identified\n",
    "\n",
    "Research:\n",
    "- Density has little effect on the quality of wines\n",
    "- Density is greatly affected by acidity, alcohol, sugar, and SO2 content\n",
    "- Wines with a lower density tend to have better quality"
   ]
  },
  {
   "cell_type": "markdown",
   "id": "LsfaNkvqslgI",
   "metadata": {
    "id": "LsfaNkvqslgI"
   },
   "source": [
    "### pH vs Quality Score"
   ]
  },
  {
   "cell_type": "code",
   "execution_count": 57,
   "id": "lWmEitmdslgI",
   "metadata": {
    "colab": {
     "base_uri": "https://localhost:8080/",
     "height": 468
    },
    "id": "lWmEitmdslgI",
    "outputId": "fec18540-d0d2-4ed9-9b6e-e4580d327d67"
   },
   "outputs": [
    {
     "data": {
      "text/plain": [
       "<AxesSubplot:xlabel='quality score', ylabel='pH'>"
      ]
     },
     "execution_count": 57,
     "metadata": {},
     "output_type": "execute_result"
    },
    {
     "data": {
      "image/png": "[encoded data removed]",
      "text/plain": [
       "<Figure size 640x480 with 1 Axes>"
      ]
     },
     "metadata": {},
     "output_type": "display_data"
    }
   ],
   "source": [
    "sns.barplot(x=df['quality score'], y=df['pH'])"
   ]
  },
  {
   "cell_type": "code",
   "execution_count": 58,
   "id": "l642rLigslgI",
   "metadata": {
    "colab": {
     "base_uri": "https://localhost:8080/",
     "height": 466
    },
    "id": "l642rLigslgI",
    "outputId": "9dbfe142-91f9-4759-ef8a-98e14d5f42b5"
   },
   "outputs": [
    {
     "data": {
      "text/plain": [
       "<AxesSubplot:xlabel='pH'>"
      ]
     },
     "execution_count": 58,
     "metadata": {},
     "output_type": "execute_result"
    },
    {
     "data": {
      "image/png": "[encoded data removed]",
      "text/plain": [
       "<Figure size 640x480 with 1 Axes>"
      ]
     },
     "metadata": {},
     "output_type": "display_data"
    }
   ],
   "source": [
    "sns.boxplot(x = 'pH', hue = 'quality score', data = df)"
   ]
  },
  {
   "cell_type": "markdown",
   "id": "vtO6to_CslgJ",
   "metadata": {
    "id": "vtO6to_CslgJ"
   },
   "source": [
    "Conclusion: pH affects Quality Score\n",
    "- Outliers are identified\n",
    "\n",
    "Research:\n",
    "- Winemakers use pH as a way to measure ripeness in relation to acidity\n",
    "- Low pH wines will taste tart and crisp, while higher pH wines are more susceptible to bacterial growth\n",
    "- Most wine pH's fall around 3 to 3.5; about 3.0 to 3.4 is desirable for white wines, while about 3.3 to 3.6 is best for reds"
   ]
  },
  {
   "cell_type": "markdown",
   "id": "DthEvUqUslgJ",
   "metadata": {
    "id": "DthEvUqUslgJ"
   },
   "source": [
    "### Sulphates vs Quality Score"
   ]
  },
  {
   "cell_type": "code",
   "execution_count": 59,
   "id": "ZlZHd_nxslgJ",
   "metadata": {
    "colab": {
     "base_uri": "https://localhost:8080/",
     "height": 466
    },
    "id": "ZlZHd_nxslgJ",
    "outputId": "766496b8-9f3a-4345-f018-88cf9c630e5b"
   },
   "outputs": [
    {
     "data": {
      "text/plain": [
       "<AxesSubplot:xlabel='quality score', ylabel='sulphates'>"
      ]
     },
     "execution_count": 59,
     "metadata": {},
     "output_type": "execute_result"
    },
    {
     "data": {
      "image/png": "[encoded data removed]",
      "text/plain": [
       "<Figure size 640x480 with 1 Axes>"
      ]
     },
     "metadata": {},
     "output_type": "display_data"
    }
   ],
   "source": [
    "sns.barplot(x=df['quality score'], y=df['sulphates'])"
   ]
  },
  {
   "cell_type": "code",
   "execution_count": 60,
   "id": "1MUYou9ZslgK",
   "metadata": {
    "colab": {
     "base_uri": "https://localhost:8080/",
     "height": 466
    },
    "id": "1MUYou9ZslgK",
    "outputId": "3420e94e-2d62-4d9e-e0dd-69107e2c1217"
   },
   "outputs": [
    {
     "data": {
      "text/plain": [
       "<AxesSubplot:xlabel='sulphates'>"
      ]
     },
     "execution_count": 60,
     "metadata": {},
     "output_type": "execute_result"
    },
    {
     "data": {
      "image/png": "[encoded data removed]",
      "text/plain": [
       "<Figure size 640x480 with 1 Axes>"
      ]
     },
     "metadata": {},
     "output_type": "display_data"
    }
   ],
   "source": [
    "sns.boxplot(x = 'sulphates', hue = 'quality score', data = df)"
   ]
  },
  {
   "cell_type": "markdown",
   "id": "ddy9hjEYslgK",
   "metadata": {
    "id": "ddy9hjEYslgK"
   },
   "source": [
    "Conclusion: Sulphates affects Quality Score\n",
    "- Outliers are identified\n",
    "\n",
    "Research:\n",
    "- Wine is fermented using yeast, which produces sulfites, so almost all wine contains sulfites\n",
    "- Protecting against oxidation, which can affect the color and taste of wine\n",
    "- Higher sulfurous content causes a duller taste in wine\n",
    "- High potency of sulfite ions presents a health risk and speeds up the wine's fermentation process"
   ]
  },
  {
   "cell_type": "markdown",
   "id": "t9rhYzbVslgK",
   "metadata": {
    "id": "t9rhYzbVslgK"
   },
   "source": [
    "### Alcohol vs Quality Score"
   ]
  },
  {
   "cell_type": "code",
   "execution_count": 61,
   "id": "c8oKiM8QslgL",
   "metadata": {
    "colab": {
     "base_uri": "https://localhost:8080/",
     "height": 466
    },
    "id": "c8oKiM8QslgL",
    "outputId": "85c8abfe-4e75-4861-a77d-bc5156aab412"
   },
   "outputs": [
    {
     "data": {
      "text/plain": [
       "<AxesSubplot:xlabel='quality score', ylabel='alcohol'>"
      ]
     },
     "execution_count": 61,
     "metadata": {},
     "output_type": "execute_result"
    },
    {
     "data": {
      "image/png": "[encoded data removed]",
      "text/plain": [
       "<Figure size 640x480 with 1 Axes>"
      ]
     },
     "metadata": {},
     "output_type": "display_data"
    }
   ],
   "source": [
    "sns.barplot(x=df['quality score'], y=df['alcohol'])"
   ]
  },
  {
   "cell_type": "code",
   "execution_count": 62,
   "id": "mU-ZGS80slgL",
   "metadata": {
    "colab": {
     "base_uri": "https://localhost:8080/",
     "height": 466
    },
    "id": "mU-ZGS80slgL",
    "outputId": "ad0ab0c0-66fb-4724-b69b-5389e81cfa3b"
   },
   "outputs": [
    {
     "data": {
      "text/plain": [
       "<AxesSubplot:xlabel='alcohol'>"
      ]
     },
     "execution_count": 62,
     "metadata": {},
     "output_type": "execute_result"
    },
    {
     "data": {
      "image/png": "[encoded data removed]",
      "text/plain": [
       "<Figure size 640x480 with 1 Axes>"
      ]
     },
     "metadata": {},
     "output_type": "display_data"
    }
   ],
   "source": [
    "sns.boxplot(x = 'alcohol', hue = 'quality score', data = df)"
   ]
  },
  {
   "cell_type": "markdown",
   "id": "wFuhLQE1slgL",
   "metadata": {
    "id": "wFuhLQE1slgL"
   },
   "source": [
    "Conclusion: Alcohol affects Quality Score\n",
    "- Outlier is identified\n",
    "\n",
    "Research:\n",
    "- Alcohol content affects a wine's body\n",
    "- A wine with higher alcohol content will have a fuller, richer body, while a lower alcohol wine will taste lighter and more delicate on the palate\n",
    "- Alcohol also adds viscosity and helps balance sweetness and acidity"
   ]
  },
  {
   "cell_type": "markdown",
   "id": "CFxVjMLfslgM",
   "metadata": {
    "id": "CFxVjMLfslgM"
   },
   "source": [
    "### Correlation heatmap "
   ]
  },
  {
   "cell_type": "code",
   "execution_count": 63,
   "id": "lvh0bvoQslgM",
   "metadata": {
    "colab": {
     "base_uri": "https://localhost:8080/",
     "height": 699
    },
    "id": "lvh0bvoQslgM",
    "outputId": "f7c586e4-5077-4ce2-c42a-477f3d2114e2"
   },
   "outputs": [
    {
     "data": {
      "image/png": "[encoded data removed]",
      "text/plain": [
       "<Figure size 1600x600 with 2 Axes>"
      ]
     },
     "metadata": {},
     "output_type": "display_data"
    }
   ],
   "source": [
    "# Correlation between different variables\n",
    "plt.figure(figsize=(16, 6))\n",
    "sns.heatmap(df.corr(), annot = True)\n",
    "plt.show()"
   ]
  },
  {
   "cell_type": "markdown",
   "id": "ZIdnAhuaslgM",
   "metadata": {
    "id": "ZIdnAhuaslgM"
   },
   "source": [
    "Conclusion: fixed acidity, volatile acidity, residual sugar, chlorides, total sulfur dioxide, and density have weak correlations with quality score"
   ]
  },
  {
   "cell_type": "markdown",
   "id": "GOakjHYvslgM",
   "metadata": {
    "id": "GOakjHYvslgM"
   },
   "source": [
    "### Remove columns"
   ]
  },
  {
   "cell_type": "code",
   "execution_count": 64,
   "id": "ay0nJziAslgM",
   "metadata": {
    "colab": {
     "base_uri": "https://localhost:8080/"
    },
    "id": "ay0nJziAslgM",
    "outputId": "bd4686f3-013d-4e4e-85b8-e0e55b4d5c08"
   },
   "outputs": [
    {
     "data": {
      "text/plain": [
       "(5320, 13)"
      ]
     },
     "execution_count": 64,
     "metadata": {},
     "output_type": "execute_result"
    }
   ],
   "source": [
    "df.shape"
   ]
  },
  {
   "cell_type": "code",
   "execution_count": 65,
   "id": "QpWr9bIXslgM",
   "metadata": {
    "colab": {
     "base_uri": "https://localhost:8080/"
    },
    "id": "QpWr9bIXslgM",
    "outputId": "23eda4e9-5cc5-4e45-a753-0f6848c5e268"
   },
   "outputs": [
    {
     "data": {
      "text/plain": [
       "Index(['fixed acidity', 'volatile acidity', 'citric acid', 'residual sugar',\n",
       "       'chlorides', 'free sulfur dioxide', 'total sulfur dioxide', 'density',\n",
       "       'pH', 'sulphates', 'alcohol', 'quality score', 'type'],\n",
       "      dtype='object')"
      ]
     },
     "execution_count": 65,
     "metadata": {},
     "output_type": "execute_result"
    }
   ],
   "source": [
    "df.columns"
   ]
  },
  {
   "cell_type": "code",
   "execution_count": 66,
   "id": "cxw5pmu3slgN",
   "metadata": {
    "id": "cxw5pmu3slgN"
   },
   "outputs": [],
   "source": [
    "# cols = ['fixed acidity', 'volatile acidity', 'residual sugar', 'chlorides', 'total sulfur dioxide', 'density']\n",
    "# df = df.drop(columns = cols, axis = 1)\n",
    "# df.head()"
   ]
  },
  {
   "cell_type": "markdown",
   "id": "QjjX3AhqslgN",
   "metadata": {
    "id": "QjjX3AhqslgN"
   },
   "source": [
    "Drop unrelated columns\n",
    "- Pick unlogical/unaffected/unrelated columns towards Quality score target and drop them\n",
    "- Drop fixed acidity, volatile acidity, residual sugar, chlorides, total sulfur dioxide, density columns/attributes because they does not show clear effect on target value in this dataset and have negative relationship to the target value"
   ]
  },
  {
   "cell_type": "code",
   "execution_count": 67,
   "id": "zInC86-PslgN",
   "metadata": {
    "colab": {
     "base_uri": "https://localhost:8080/"
    },
    "id": "zInC86-PslgN",
    "outputId": "bea793cd-0417-44b4-a310-b0d9a6e1c70c"
   },
   "outputs": [
    {
     "data": {
      "text/plain": [
       "Index(['fixed acidity', 'volatile acidity', 'citric acid', 'residual sugar',\n",
       "       'chlorides', 'free sulfur dioxide', 'total sulfur dioxide', 'density',\n",
       "       'pH', 'sulphates', 'alcohol', 'quality score', 'type'],\n",
       "      dtype='object')"
      ]
     },
     "execution_count": 67,
     "metadata": {},
     "output_type": "execute_result"
    }
   ],
   "source": [
    "df.columns"
   ]
  },
  {
   "cell_type": "code",
   "execution_count": 68,
   "id": "incOWzQ_slgN",
   "metadata": {
    "colab": {
     "base_uri": "https://localhost:8080/"
    },
    "id": "incOWzQ_slgN",
    "outputId": "bbff717b-74e7-49c6-91b1-893c3ab99501"
   },
   "outputs": [
    {
     "data": {
      "text/plain": [
       "(5320, 13)"
      ]
     },
     "execution_count": 68,
     "metadata": {},
     "output_type": "execute_result"
    }
   ],
   "source": [
    "df.shape"
   ]
  },
  {
   "cell_type": "markdown",
   "id": "tP-NIqsXslgO",
   "metadata": {
    "id": "tP-NIqsXslgO"
   },
   "source": [
    "# Data Modelling"
   ]
  },
  {
   "cell_type": "markdown",
   "id": "nNQoYEjwslgO",
   "metadata": {
    "id": "nNQoYEjwslgO"
   },
   "source": [
    "## Impute data type"
   ]
  },
  {
   "cell_type": "markdown",
   "id": "VxwqFx85slgO",
   "metadata": {
    "id": "VxwqFx85slgO"
   },
   "source": [
    "### Using Label Encoding for Type attribute"
   ]
  },
  {
   "cell_type": "markdown",
   "id": "05ALQJIQslgO",
   "metadata": {
    "id": "05ALQJIQslgO"
   },
   "source": [
    "Label encoding is known to assign the categorical value with an integer value according to alphabetical order starting from the value 0"
   ]
  },
  {
   "cell_type": "code",
   "execution_count": 69,
   "id": "mW9muLZeslgO",
   "metadata": {
    "colab": {
     "base_uri": "https://localhost:8080/"
    },
    "id": "mW9muLZeslgO",
    "outputId": "0d30391a-8153-406f-98a7-1f0e3c6872d4"
   },
   "outputs": [
    {
     "data": {
      "text/plain": [
       "fixed acidity           float64\n",
       "volatile acidity        float64\n",
       "citric acid             float64\n",
       "residual sugar          float64\n",
       "chlorides               float64\n",
       "free sulfur dioxide     float64\n",
       "total sulfur dioxide    float64\n",
       "density                 float64\n",
       "pH                      float64\n",
       "sulphates               float64\n",
       "alcohol                 float64\n",
       "quality score             int64\n",
       "type                     object\n",
       "dtype: object"
      ]
     },
     "execution_count": 69,
     "metadata": {},
     "output_type": "execute_result"
    }
   ],
   "source": [
    "df.dtypes"
   ]
  },
  {
   "cell_type": "code",
   "execution_count": 70,
   "id": "ergqIdysslgO",
   "metadata": {
    "colab": {
     "base_uri": "https://localhost:8080/",
     "height": 206
    },
    "id": "ergqIdysslgO",
    "outputId": "3592249e-6eb0-400b-eef5-57144b954eda"
   },
   "outputs": [
    {
     "data": {
      "text/html": [
       "<div>\n",
       "<style scoped>\n",
       "    .dataframe tbody tr th:only-of-type {\n",
       "        vertical-align: middle;\n",
       "    }\n",
       "\n",
       "    .dataframe tbody tr th {\n",
       "        vertical-align: top;\n",
       "    }\n",
       "\n",
       "    .dataframe thead th {\n",
       "        text-align: right;\n",
       "    }\n",
       "</style>\n",
       "<table border=\"1\" class=\"dataframe\">\n",
       "  <thead>\n",
       "    <tr style=\"text-align: right;\">\n",
       "      <th></th>\n",
       "      <th>fixed acidity</th>\n",
       "      <th>volatile acidity</th>\n",
       "      <th>citric acid</th>\n",
       "      <th>residual sugar</th>\n",
       "      <th>chlorides</th>\n",
       "      <th>free sulfur dioxide</th>\n",
       "      <th>total sulfur dioxide</th>\n",
       "      <th>density</th>\n",
       "      <th>pH</th>\n",
       "      <th>sulphates</th>\n",
       "      <th>alcohol</th>\n",
       "      <th>quality score</th>\n",
       "      <th>type</th>\n",
       "    </tr>\n",
       "  </thead>\n",
       "  <tbody>\n",
       "    <tr>\n",
       "      <th>0</th>\n",
       "      <td>7.4</td>\n",
       "      <td>0.70</td>\n",
       "      <td>0.00</td>\n",
       "      <td>1.9</td>\n",
       "      <td>0.076</td>\n",
       "      <td>11.0</td>\n",
       "      <td>34.0</td>\n",
       "      <td>0.9978</td>\n",
       "      <td>3.51</td>\n",
       "      <td>0.56</td>\n",
       "      <td>9.4</td>\n",
       "      <td>5</td>\n",
       "      <td>red</td>\n",
       "    </tr>\n",
       "    <tr>\n",
       "      <th>1</th>\n",
       "      <td>7.8</td>\n",
       "      <td>0.88</td>\n",
       "      <td>0.00</td>\n",
       "      <td>2.6</td>\n",
       "      <td>0.098</td>\n",
       "      <td>25.0</td>\n",
       "      <td>67.0</td>\n",
       "      <td>0.9968</td>\n",
       "      <td>3.20</td>\n",
       "      <td>0.68</td>\n",
       "      <td>9.8</td>\n",
       "      <td>5</td>\n",
       "      <td>red</td>\n",
       "    </tr>\n",
       "    <tr>\n",
       "      <th>2</th>\n",
       "      <td>7.8</td>\n",
       "      <td>0.76</td>\n",
       "      <td>0.04</td>\n",
       "      <td>2.3</td>\n",
       "      <td>0.092</td>\n",
       "      <td>15.0</td>\n",
       "      <td>54.0</td>\n",
       "      <td>0.9970</td>\n",
       "      <td>3.26</td>\n",
       "      <td>0.65</td>\n",
       "      <td>9.8</td>\n",
       "      <td>5</td>\n",
       "      <td>red</td>\n",
       "    </tr>\n",
       "    <tr>\n",
       "      <th>3</th>\n",
       "      <td>11.2</td>\n",
       "      <td>0.28</td>\n",
       "      <td>0.56</td>\n",
       "      <td>1.9</td>\n",
       "      <td>0.075</td>\n",
       "      <td>17.0</td>\n",
       "      <td>60.0</td>\n",
       "      <td>0.9980</td>\n",
       "      <td>3.16</td>\n",
       "      <td>0.58</td>\n",
       "      <td>9.8</td>\n",
       "      <td>6</td>\n",
       "      <td>red</td>\n",
       "    </tr>\n",
       "    <tr>\n",
       "      <th>5</th>\n",
       "      <td>7.4</td>\n",
       "      <td>0.66</td>\n",
       "      <td>0.00</td>\n",
       "      <td>1.8</td>\n",
       "      <td>0.075</td>\n",
       "      <td>13.0</td>\n",
       "      <td>40.0</td>\n",
       "      <td>0.9978</td>\n",
       "      <td>3.51</td>\n",
       "      <td>0.56</td>\n",
       "      <td>9.4</td>\n",
       "      <td>5</td>\n",
       "      <td>red</td>\n",
       "    </tr>\n",
       "  </tbody>\n",
       "</table>\n",
       "</div>"
      ],
      "text/plain": [
       "   fixed acidity  volatile acidity  citric acid  residual sugar  chlorides  \\\n",
       "0            7.4              0.70         0.00             1.9      0.076   \n",
       "1            7.8              0.88         0.00             2.6      0.098   \n",
       "2            7.8              0.76         0.04             2.3      0.092   \n",
       "3           11.2              0.28         0.56             1.9      0.075   \n",
       "5            7.4              0.66         0.00             1.8      0.075   \n",
       "\n",
       "   free sulfur dioxide  total sulfur dioxide  density    pH  sulphates  \\\n",
       "0                 11.0                  34.0   0.9978  3.51       0.56   \n",
       "1                 25.0                  67.0   0.9968  3.20       0.68   \n",
       "2                 15.0                  54.0   0.9970  3.26       0.65   \n",
       "3                 17.0                  60.0   0.9980  3.16       0.58   \n",
       "5                 13.0                  40.0   0.9978  3.51       0.56   \n",
       "\n",
       "   alcohol  quality score type  \n",
       "0      9.4              5  red  \n",
       "1      9.8              5  red  \n",
       "2      9.8              5  red  \n",
       "3      9.8              6  red  \n",
       "5      9.4              5  red  "
      ]
     },
     "execution_count": 70,
     "metadata": {},
     "output_type": "execute_result"
    }
   ],
   "source": [
    "df.head()"
   ]
  },
  {
   "cell_type": "code",
   "execution_count": 71,
   "id": "qwXySW-pslgP",
   "metadata": {
    "colab": {
     "base_uri": "https://localhost:8080/"
    },
    "id": "qwXySW-pslgP",
    "outputId": "a67df0d5-8716-4dcc-fed0-f0e222a68b26"
   },
   "outputs": [
    {
     "data": {
      "text/plain": [
       "array(['red', 'white'], dtype=object)"
      ]
     },
     "execution_count": 71,
     "metadata": {},
     "output_type": "execute_result"
    }
   ],
   "source": [
    "df['type'].unique()"
   ]
  },
  {
   "cell_type": "code",
   "execution_count": 72,
   "id": "65TlLJe1slgP",
   "metadata": {
    "id": "65TlLJe1slgP"
   },
   "outputs": [],
   "source": [
    "from sklearn.preprocessing import LabelEncoder\n",
    "cols = ['type']\n",
    "le = LabelEncoder()\n",
    "for col in cols:\n",
    "    df[col] = le.fit_transform(df[col])"
   ]
  },
  {
   "cell_type": "code",
   "execution_count": 73,
   "id": "e-7pE4rJslgP",
   "metadata": {
    "colab": {
     "base_uri": "https://localhost:8080/"
    },
    "id": "e-7pE4rJslgP",
    "outputId": "a5e2ea11-0d98-42f1-8cb4-f76a96a1c737"
   },
   "outputs": [
    {
     "data": {
      "text/plain": [
       "fixed acidity           float64\n",
       "volatile acidity        float64\n",
       "citric acid             float64\n",
       "residual sugar          float64\n",
       "chlorides               float64\n",
       "free sulfur dioxide     float64\n",
       "total sulfur dioxide    float64\n",
       "density                 float64\n",
       "pH                      float64\n",
       "sulphates               float64\n",
       "alcohol                 float64\n",
       "quality score             int64\n",
       "type                      int32\n",
       "dtype: object"
      ]
     },
     "execution_count": 73,
     "metadata": {},
     "output_type": "execute_result"
    }
   ],
   "source": [
    "df.dtypes"
   ]
  },
  {
   "cell_type": "code",
   "execution_count": 74,
   "id": "PPkE6QBfslgP",
   "metadata": {
    "colab": {
     "base_uri": "https://localhost:8080/",
     "height": 206
    },
    "id": "PPkE6QBfslgP",
    "outputId": "63870dc3-7dac-44f7-f469-49b77555d4b4"
   },
   "outputs": [
    {
     "data": {
      "text/html": [
       "<div>\n",
       "<style scoped>\n",
       "    .dataframe tbody tr th:only-of-type {\n",
       "        vertical-align: middle;\n",
       "    }\n",
       "\n",
       "    .dataframe tbody tr th {\n",
       "        vertical-align: top;\n",
       "    }\n",
       "\n",
       "    .dataframe thead th {\n",
       "        text-align: right;\n",
       "    }\n",
       "</style>\n",
       "<table border=\"1\" class=\"dataframe\">\n",
       "  <thead>\n",
       "    <tr style=\"text-align: right;\">\n",
       "      <th></th>\n",
       "      <th>fixed acidity</th>\n",
       "      <th>volatile acidity</th>\n",
       "      <th>citric acid</th>\n",
       "      <th>residual sugar</th>\n",
       "      <th>chlorides</th>\n",
       "      <th>free sulfur dioxide</th>\n",
       "      <th>total sulfur dioxide</th>\n",
       "      <th>density</th>\n",
       "      <th>pH</th>\n",
       "      <th>sulphates</th>\n",
       "      <th>alcohol</th>\n",
       "      <th>quality score</th>\n",
       "      <th>type</th>\n",
       "    </tr>\n",
       "  </thead>\n",
       "  <tbody>\n",
       "    <tr>\n",
       "      <th>0</th>\n",
       "      <td>7.4</td>\n",
       "      <td>0.70</td>\n",
       "      <td>0.00</td>\n",
       "      <td>1.9</td>\n",
       "      <td>0.076</td>\n",
       "      <td>11.0</td>\n",
       "      <td>34.0</td>\n",
       "      <td>0.9978</td>\n",
       "      <td>3.51</td>\n",
       "      <td>0.56</td>\n",
       "      <td>9.4</td>\n",
       "      <td>5</td>\n",
       "      <td>0</td>\n",
       "    </tr>\n",
       "    <tr>\n",
       "      <th>1</th>\n",
       "      <td>7.8</td>\n",
       "      <td>0.88</td>\n",
       "      <td>0.00</td>\n",
       "      <td>2.6</td>\n",
       "      <td>0.098</td>\n",
       "      <td>25.0</td>\n",
       "      <td>67.0</td>\n",
       "      <td>0.9968</td>\n",
       "      <td>3.20</td>\n",
       "      <td>0.68</td>\n",
       "      <td>9.8</td>\n",
       "      <td>5</td>\n",
       "      <td>0</td>\n",
       "    </tr>\n",
       "    <tr>\n",
       "      <th>2</th>\n",
       "      <td>7.8</td>\n",
       "      <td>0.76</td>\n",
       "      <td>0.04</td>\n",
       "      <td>2.3</td>\n",
       "      <td>0.092</td>\n",
       "      <td>15.0</td>\n",
       "      <td>54.0</td>\n",
       "      <td>0.9970</td>\n",
       "      <td>3.26</td>\n",
       "      <td>0.65</td>\n",
       "      <td>9.8</td>\n",
       "      <td>5</td>\n",
       "      <td>0</td>\n",
       "    </tr>\n",
       "    <tr>\n",
       "      <th>3</th>\n",
       "      <td>11.2</td>\n",
       "      <td>0.28</td>\n",
       "      <td>0.56</td>\n",
       "      <td>1.9</td>\n",
       "      <td>0.075</td>\n",
       "      <td>17.0</td>\n",
       "      <td>60.0</td>\n",
       "      <td>0.9980</td>\n",
       "      <td>3.16</td>\n",
       "      <td>0.58</td>\n",
       "      <td>9.8</td>\n",
       "      <td>6</td>\n",
       "      <td>0</td>\n",
       "    </tr>\n",
       "    <tr>\n",
       "      <th>5</th>\n",
       "      <td>7.4</td>\n",
       "      <td>0.66</td>\n",
       "      <td>0.00</td>\n",
       "      <td>1.8</td>\n",
       "      <td>0.075</td>\n",
       "      <td>13.0</td>\n",
       "      <td>40.0</td>\n",
       "      <td>0.9978</td>\n",
       "      <td>3.51</td>\n",
       "      <td>0.56</td>\n",
       "      <td>9.4</td>\n",
       "      <td>5</td>\n",
       "      <td>0</td>\n",
       "    </tr>\n",
       "  </tbody>\n",
       "</table>\n",
       "</div>"
      ],
      "text/plain": [
       "   fixed acidity  volatile acidity  citric acid  residual sugar  chlorides  \\\n",
       "0            7.4              0.70         0.00             1.9      0.076   \n",
       "1            7.8              0.88         0.00             2.6      0.098   \n",
       "2            7.8              0.76         0.04             2.3      0.092   \n",
       "3           11.2              0.28         0.56             1.9      0.075   \n",
       "5            7.4              0.66         0.00             1.8      0.075   \n",
       "\n",
       "   free sulfur dioxide  total sulfur dioxide  density    pH  sulphates  \\\n",
       "0                 11.0                  34.0   0.9978  3.51       0.56   \n",
       "1                 25.0                  67.0   0.9968  3.20       0.68   \n",
       "2                 15.0                  54.0   0.9970  3.26       0.65   \n",
       "3                 17.0                  60.0   0.9980  3.16       0.58   \n",
       "5                 13.0                  40.0   0.9978  3.51       0.56   \n",
       "\n",
       "   alcohol  quality score  type  \n",
       "0      9.4              5     0  \n",
       "1      9.8              5     0  \n",
       "2      9.8              5     0  \n",
       "3      9.8              6     0  \n",
       "5      9.4              5     0  "
      ]
     },
     "execution_count": 74,
     "metadata": {},
     "output_type": "execute_result"
    }
   ],
   "source": [
    "df.head()"
   ]
  },
  {
   "cell_type": "code",
   "execution_count": 75,
   "id": "pBBjehiDslgP",
   "metadata": {
    "colab": {
     "base_uri": "https://localhost:8080/"
    },
    "id": "pBBjehiDslgP",
    "outputId": "ffbef23d-aed2-4afd-fc51-a7a40546ea21"
   },
   "outputs": [
    {
     "data": {
      "text/plain": [
       "array([0, 1])"
      ]
     },
     "execution_count": 75,
     "metadata": {},
     "output_type": "execute_result"
    }
   ],
   "source": [
    "df['type'].unique()"
   ]
  },
  {
   "cell_type": "markdown",
   "id": "-Q5SFlMoslgQ",
   "metadata": {
    "id": "-Q5SFlMoslgQ"
   },
   "source": [
    "## Define features (X) & target (Y)"
   ]
  },
  {
   "cell_type": "code",
   "execution_count": 76,
   "id": "n_Hp5oVwslgQ",
   "metadata": {
    "id": "n_Hp5oVwslgQ"
   },
   "outputs": [],
   "source": [
    "# Label: target = Y, features = X\n",
    "# features affect target\n",
    "# features - independent variable that will affect the target\n",
    "# target - dependent variable \n",
    "# w/o X cannot predict Y\n",
    "\n",
    "# Separating target variable from features\n",
    "\n",
    "Y = df['quality score']\n",
    "X = df.drop(columns = 'quality score',axis=1)"
   ]
  },
  {
   "cell_type": "markdown",
   "id": "K094cawmslgQ",
   "metadata": {
    "id": "K094cawmslgQ"
   },
   "source": [
    "## Data Splitting"
   ]
  },
  {
   "cell_type": "code",
   "execution_count": 77,
   "id": "-_7ivY-HslgQ",
   "metadata": {
    "id": "-_7ivY-HslgQ"
   },
   "outputs": [],
   "source": [
    "from sklearn.preprocessing import StandardScaler\n",
    "from sklearn.model_selection import train_test_split\n",
    "\n",
    "# features divide to X_train & X_test\n",
    "# target divide to y_train & y_test\n",
    "# 70% train, 30% test\n",
    "\n",
    "X_train, X_test, y_train, y_test = train_test_split(X, Y, test_size = 0.3, random_state = 12345)"
   ]
  },
  {
   "cell_type": "code",
   "execution_count": 78,
   "id": "EB2qHAOdslgQ",
   "metadata": {
    "colab": {
     "base_uri": "https://localhost:8080/",
     "height": 206
    },
    "id": "EB2qHAOdslgQ",
    "outputId": "347e5ed9-a007-4c0e-f808-d7c1bdcdda81"
   },
   "outputs": [
    {
     "data": {
      "text/html": [
       "<div>\n",
       "<style scoped>\n",
       "    .dataframe tbody tr th:only-of-type {\n",
       "        vertical-align: middle;\n",
       "    }\n",
       "\n",
       "    .dataframe tbody tr th {\n",
       "        vertical-align: top;\n",
       "    }\n",
       "\n",
       "    .dataframe thead th {\n",
       "        text-align: right;\n",
       "    }\n",
       "</style>\n",
       "<table border=\"1\" class=\"dataframe\">\n",
       "  <thead>\n",
       "    <tr style=\"text-align: right;\">\n",
       "      <th></th>\n",
       "      <th>fixed acidity</th>\n",
       "      <th>volatile acidity</th>\n",
       "      <th>citric acid</th>\n",
       "      <th>residual sugar</th>\n",
       "      <th>chlorides</th>\n",
       "      <th>free sulfur dioxide</th>\n",
       "      <th>total sulfur dioxide</th>\n",
       "      <th>density</th>\n",
       "      <th>pH</th>\n",
       "      <th>sulphates</th>\n",
       "      <th>alcohol</th>\n",
       "      <th>type</th>\n",
       "    </tr>\n",
       "  </thead>\n",
       "  <tbody>\n",
       "    <tr>\n",
       "      <th>1693</th>\n",
       "      <td>7.5</td>\n",
       "      <td>0.17</td>\n",
       "      <td>0.32</td>\n",
       "      <td>1.7</td>\n",
       "      <td>0.040</td>\n",
       "      <td>51.0</td>\n",
       "      <td>148.0</td>\n",
       "      <td>0.99160</td>\n",
       "      <td>3.21</td>\n",
       "      <td>0.44</td>\n",
       "      <td>11.5</td>\n",
       "      <td>1</td>\n",
       "    </tr>\n",
       "    <tr>\n",
       "      <th>5728</th>\n",
       "      <td>6.3</td>\n",
       "      <td>0.34</td>\n",
       "      <td>0.31</td>\n",
       "      <td>6.0</td>\n",
       "      <td>0.020</td>\n",
       "      <td>18.0</td>\n",
       "      <td>68.0</td>\n",
       "      <td>0.98981</td>\n",
       "      <td>3.22</td>\n",
       "      <td>0.29</td>\n",
       "      <td>13.4</td>\n",
       "      <td>1</td>\n",
       "    </tr>\n",
       "    <tr>\n",
       "      <th>5101</th>\n",
       "      <td>6.7</td>\n",
       "      <td>0.29</td>\n",
       "      <td>0.45</td>\n",
       "      <td>14.3</td>\n",
       "      <td>0.054</td>\n",
       "      <td>30.0</td>\n",
       "      <td>181.0</td>\n",
       "      <td>0.99869</td>\n",
       "      <td>3.14</td>\n",
       "      <td>0.57</td>\n",
       "      <td>9.1</td>\n",
       "      <td>1</td>\n",
       "    </tr>\n",
       "    <tr>\n",
       "      <th>1649</th>\n",
       "      <td>7.2</td>\n",
       "      <td>0.19</td>\n",
       "      <td>0.31</td>\n",
       "      <td>1.6</td>\n",
       "      <td>0.062</td>\n",
       "      <td>31.0</td>\n",
       "      <td>173.0</td>\n",
       "      <td>0.99170</td>\n",
       "      <td>3.35</td>\n",
       "      <td>0.44</td>\n",
       "      <td>11.7</td>\n",
       "      <td>1</td>\n",
       "    </tr>\n",
       "    <tr>\n",
       "      <th>5319</th>\n",
       "      <td>6.3</td>\n",
       "      <td>0.34</td>\n",
       "      <td>0.27</td>\n",
       "      <td>2.5</td>\n",
       "      <td>0.024</td>\n",
       "      <td>40.0</td>\n",
       "      <td>152.0</td>\n",
       "      <td>0.99095</td>\n",
       "      <td>3.35</td>\n",
       "      <td>0.60</td>\n",
       "      <td>11.9</td>\n",
       "      <td>1</td>\n",
       "    </tr>\n",
       "  </tbody>\n",
       "</table>\n",
       "</div>"
      ],
      "text/plain": [
       "      fixed acidity  volatile acidity  citric acid  residual sugar  chlorides  \\\n",
       "1693            7.5              0.17         0.32             1.7      0.040   \n",
       "5728            6.3              0.34         0.31             6.0      0.020   \n",
       "5101            6.7              0.29         0.45            14.3      0.054   \n",
       "1649            7.2              0.19         0.31             1.6      0.062   \n",
       "5319            6.3              0.34         0.27             2.5      0.024   \n",
       "\n",
       "      free sulfur dioxide  total sulfur dioxide  density    pH  sulphates  \\\n",
       "1693                 51.0                 148.0  0.99160  3.21       0.44   \n",
       "5728                 18.0                  68.0  0.98981  3.22       0.29   \n",
       "5101                 30.0                 181.0  0.99869  3.14       0.57   \n",
       "1649                 31.0                 173.0  0.99170  3.35       0.44   \n",
       "5319                 40.0                 152.0  0.99095  3.35       0.60   \n",
       "\n",
       "      alcohol  type  \n",
       "1693     11.5     1  \n",
       "5728     13.4     1  \n",
       "5101      9.1     1  \n",
       "1649     11.7     1  \n",
       "5319     11.9     1  "
      ]
     },
     "execution_count": 78,
     "metadata": {},
     "output_type": "execute_result"
    }
   ],
   "source": [
    "X_train.head()"
   ]
  },
  {
   "cell_type": "code",
   "execution_count": 79,
   "id": "J_lsekThslgQ",
   "metadata": {
    "colab": {
     "base_uri": "https://localhost:8080/",
     "height": 206
    },
    "id": "J_lsekThslgQ",
    "outputId": "f0596824-2484-4a39-a632-6528a5c28382"
   },
   "outputs": [
    {
     "data": {
      "text/html": [
       "<div>\n",
       "<style scoped>\n",
       "    .dataframe tbody tr th:only-of-type {\n",
       "        vertical-align: middle;\n",
       "    }\n",
       "\n",
       "    .dataframe tbody tr th {\n",
       "        vertical-align: top;\n",
       "    }\n",
       "\n",
       "    .dataframe thead th {\n",
       "        text-align: right;\n",
       "    }\n",
       "</style>\n",
       "<table border=\"1\" class=\"dataframe\">\n",
       "  <thead>\n",
       "    <tr style=\"text-align: right;\">\n",
       "      <th></th>\n",
       "      <th>fixed acidity</th>\n",
       "      <th>volatile acidity</th>\n",
       "      <th>citric acid</th>\n",
       "      <th>residual sugar</th>\n",
       "      <th>chlorides</th>\n",
       "      <th>free sulfur dioxide</th>\n",
       "      <th>total sulfur dioxide</th>\n",
       "      <th>density</th>\n",
       "      <th>pH</th>\n",
       "      <th>sulphates</th>\n",
       "      <th>alcohol</th>\n",
       "      <th>type</th>\n",
       "    </tr>\n",
       "  </thead>\n",
       "  <tbody>\n",
       "    <tr>\n",
       "      <th>6136</th>\n",
       "      <td>8.3</td>\n",
       "      <td>0.18</td>\n",
       "      <td>0.37</td>\n",
       "      <td>1.2</td>\n",
       "      <td>0.049</td>\n",
       "      <td>6.0</td>\n",
       "      <td>94.0</td>\n",
       "      <td>0.99370</td>\n",
       "      <td>3.18</td>\n",
       "      <td>0.52</td>\n",
       "      <td>10.1</td>\n",
       "      <td>1</td>\n",
       "    </tr>\n",
       "    <tr>\n",
       "      <th>215</th>\n",
       "      <td>7.0</td>\n",
       "      <td>0.49</td>\n",
       "      <td>0.49</td>\n",
       "      <td>5.6</td>\n",
       "      <td>0.060</td>\n",
       "      <td>26.0</td>\n",
       "      <td>121.0</td>\n",
       "      <td>0.99740</td>\n",
       "      <td>3.34</td>\n",
       "      <td>0.76</td>\n",
       "      <td>10.5</td>\n",
       "      <td>0</td>\n",
       "    </tr>\n",
       "    <tr>\n",
       "      <th>1288</th>\n",
       "      <td>7.0</td>\n",
       "      <td>0.60</td>\n",
       "      <td>0.30</td>\n",
       "      <td>4.5</td>\n",
       "      <td>0.068</td>\n",
       "      <td>20.0</td>\n",
       "      <td>110.0</td>\n",
       "      <td>0.99914</td>\n",
       "      <td>3.30</td>\n",
       "      <td>1.17</td>\n",
       "      <td>10.2</td>\n",
       "      <td>0</td>\n",
       "    </tr>\n",
       "    <tr>\n",
       "      <th>6337</th>\n",
       "      <td>5.5</td>\n",
       "      <td>0.30</td>\n",
       "      <td>0.25</td>\n",
       "      <td>1.9</td>\n",
       "      <td>0.029</td>\n",
       "      <td>33.0</td>\n",
       "      <td>118.0</td>\n",
       "      <td>0.98972</td>\n",
       "      <td>3.36</td>\n",
       "      <td>0.66</td>\n",
       "      <td>12.5</td>\n",
       "      <td>1</td>\n",
       "    </tr>\n",
       "    <tr>\n",
       "      <th>3933</th>\n",
       "      <td>7.5</td>\n",
       "      <td>0.23</td>\n",
       "      <td>0.35</td>\n",
       "      <td>17.8</td>\n",
       "      <td>0.058</td>\n",
       "      <td>128.0</td>\n",
       "      <td>212.0</td>\n",
       "      <td>1.00241</td>\n",
       "      <td>3.44</td>\n",
       "      <td>0.43</td>\n",
       "      <td>8.9</td>\n",
       "      <td>1</td>\n",
       "    </tr>\n",
       "  </tbody>\n",
       "</table>\n",
       "</div>"
      ],
      "text/plain": [
       "      fixed acidity  volatile acidity  citric acid  residual sugar  chlorides  \\\n",
       "6136            8.3              0.18         0.37             1.2      0.049   \n",
       "215             7.0              0.49         0.49             5.6      0.060   \n",
       "1288            7.0              0.60         0.30             4.5      0.068   \n",
       "6337            5.5              0.30         0.25             1.9      0.029   \n",
       "3933            7.5              0.23         0.35            17.8      0.058   \n",
       "\n",
       "      free sulfur dioxide  total sulfur dioxide  density    pH  sulphates  \\\n",
       "6136                  6.0                  94.0  0.99370  3.18       0.52   \n",
       "215                  26.0                 121.0  0.99740  3.34       0.76   \n",
       "1288                 20.0                 110.0  0.99914  3.30       1.17   \n",
       "6337                 33.0                 118.0  0.98972  3.36       0.66   \n",
       "3933                128.0                 212.0  1.00241  3.44       0.43   \n",
       "\n",
       "      alcohol  type  \n",
       "6136     10.1     1  \n",
       "215      10.5     0  \n",
       "1288     10.2     0  \n",
       "6337     12.5     1  \n",
       "3933      8.9     1  "
      ]
     },
     "execution_count": 79,
     "metadata": {},
     "output_type": "execute_result"
    }
   ],
   "source": [
    "X_test.head()"
   ]
  },
  {
   "cell_type": "markdown",
   "id": "kyzwd7s0slgQ",
   "metadata": {
    "id": "kyzwd7s0slgQ"
   },
   "source": [
    "## Pipeline undersampling and oversampling"
   ]
  },
  {
   "cell_type": "markdown",
   "id": "KHqgPRbOslgR",
   "metadata": {
    "id": "KHqgPRbOslgR"
   },
   "source": [
    "- Undersamples the majority classes & oversamples the minority classes\n",
    "- Define a threshold which splits majority & minority classes\n",
    "- Define the number of desired samples for each class\n",
    "- Threshold = the number of desired samples for each class\n",
    "- Set the threshold to the median value of the number of samples in the classes"
   ]
  },
  {
   "cell_type": "code",
   "execution_count": 80,
   "id": "cYw6tTbZslgR",
   "metadata": {
    "id": "cYw6tTbZslgR"
   },
   "outputs": [],
   "source": [
    "# calculate the median & convert it to integer\n",
    "count = y_train.value_counts()\n",
    "# n_samples = count.median().astype(np.int64)\n",
    "n_samples = int(count.median())"
   ]
  },
  {
   "cell_type": "markdown",
   "id": "X4oYfkWyslgR",
   "metadata": {
    "id": "X4oYfkWyslgR"
   },
   "source": [
    "### Undersample the most represented classes"
   ]
  },
  {
   "cell_type": "markdown",
   "id": "N5-iUkWeslgR",
   "metadata": {
    "id": "N5-iUkWeslgR"
   },
   "source": [
    "Undersampling is the process where you randomly delete some of the observations from the majority class in order to match the numbers with the minority class"
   ]
  },
  {
   "cell_type": "code",
   "execution_count": 81,
   "id": "dLWkQlV_slgR",
   "metadata": {
    "id": "dLWkQlV_slgR"
   },
   "outputs": [],
   "source": [
    "# suppress warnings\n",
    "import warnings\n",
    "warnings.filterwarnings('ignore')"
   ]
  },
  {
   "cell_type": "code",
   "execution_count": 82,
   "id": "m1cVJCXKslgR",
   "metadata": {
    "id": "m1cVJCXKslgR"
   },
   "outputs": [],
   "source": [
    "# define a utility function\n",
    "def sampling_strategy(X,y,n_samples, t='majority'):\n",
    "    target_classes = ''\n",
    "    if t == 'majority':\n",
    "        target_classes = y.value_counts() > n_samples\n",
    "    elif t == 'minority':\n",
    "        target_classes = y.value_counts() < n_samples\n",
    "    tc = target_classes[target_classes == True].index\n",
    "    #target_classes_all = y.value_counts().index\n",
    "    sampling_strategy = {}\n",
    "    for target in tc:\n",
    "        sampling_strategy[target] = n_samples\n",
    "    return sampling_strategy"
   ]
  },
  {
   "cell_type": "markdown",
   "id": "N1YoZ70vslgS",
   "metadata": {
    "id": "N1YoZ70vslgS"
   },
   "source": [
    "#### Perform undersampling of the majority classes"
   ]
  },
  {
   "cell_type": "code",
   "execution_count": 83,
   "id": "QcC1NXhQslgS",
   "metadata": {
    "id": "QcC1NXhQslgS"
   },
   "outputs": [],
   "source": [
    "# exploit the imblearn library\n",
    "from imblearn.under_sampling import ClusterCentroids\n",
    "under_sampler = ClusterCentroids(sampling_strategy=sampling_strategy(X_train,y_train,n_samples,t='majority'))\n",
    "X_under, y_under = under_sampler.fit_resample(X_train, y_train)"
   ]
  },
  {
   "cell_type": "markdown",
   "id": "2Pq242n0slgS",
   "metadata": {
    "id": "2Pq242n0slgS"
   },
   "source": [
    "### Oversample the less represented classes"
   ]
  },
  {
   "cell_type": "markdown",
   "id": "f2iFj8lCslgS",
   "metadata": {
    "id": "f2iFj8lCslgS"
   },
   "source": [
    "#### Exploit the SMOTE oversampling strategy"
   ]
  },
  {
   "cell_type": "code",
   "execution_count": 84,
   "id": "5Xuy-2CDslgS",
   "metadata": {
    "id": "5Xuy-2CDslgS"
   },
   "outputs": [],
   "source": [
    "from imblearn.over_sampling import SMOTE\n",
    "over_sampler = SMOTE(sampling_strategy=sampling_strategy(X_under, y_under,n_samples, t='minority'),k_neighbors=2)\n",
    "X_bal, y_bal = over_sampler.fit_resample(X_under, y_under)"
   ]
  },
  {
   "cell_type": "code",
   "execution_count": 85,
   "id": "nRr-KRL4slgS",
   "metadata": {
    "colab": {
     "base_uri": "https://localhost:8080/",
     "height": 552
    },
    "id": "nRr-KRL4slgS",
    "outputId": "7ef72ca4-eebd-4a6f-875e-48e6afd8771d"
   },
   "outputs": [
    {
     "name": "stdout",
     "output_type": "stream",
     "text": [
      "Class=3, n=138 (14.286%)\n",
      "Class=4, n=138 (14.286%)\n",
      "Class=5, n=138 (14.286%)\n",
      "Class=6, n=138 (14.286%)\n",
      "Class=7, n=138 (14.286%)\n",
      "Class=8, n=138 (14.286%)\n",
      "Class=9, n=138 (14.286%)\n"
     ]
    },
    {
     "data": {
      "image/png": "[encoded data removed]",
      "text/plain": [
       "<Figure size 640x480 with 1 Axes>"
      ]
     },
     "metadata": {},
     "output_type": "display_data"
    }
   ],
   "source": [
    "from collections import Counter\n",
    "# summarize distribution\n",
    "counter = Counter(y_bal)\n",
    "for k,v in counter.items():\n",
    " per = v / len(y_bal) * 100\n",
    " print('Class=%d, n=%d (%.3f%%)' % (k, v, per))\n",
    "# plot the distribution\n",
    "plt.bar(counter.keys(), counter.values())\n",
    "plt.show()"
   ]
  },
  {
   "cell_type": "code",
   "execution_count": 86,
   "id": "cQy0X_CRslgS",
   "metadata": {
    "colab": {
     "base_uri": "https://localhost:8080/"
    },
    "id": "cQy0X_CRslgS",
    "outputId": "4d0620a4-6640-4e76-8768-0efa8ae17d71"
   },
   "outputs": [
    {
     "data": {
      "text/plain": [
       "(3724, 12)"
      ]
     },
     "execution_count": 86,
     "metadata": {},
     "output_type": "execute_result"
    }
   ],
   "source": [
    "X_train.shape"
   ]
  },
  {
   "cell_type": "code",
   "execution_count": 87,
   "id": "Po9T64lBslgT",
   "metadata": {
    "colab": {
     "base_uri": "https://localhost:8080/"
    },
    "id": "Po9T64lBslgT",
    "outputId": "f8d022fa-eb3b-44a1-ffeb-7aed525e4a34"
   },
   "outputs": [
    {
     "data": {
      "text/plain": [
       "(3724,)"
      ]
     },
     "execution_count": 87,
     "metadata": {},
     "output_type": "execute_result"
    }
   ],
   "source": [
    "y_train.shape"
   ]
  },
  {
   "cell_type": "code",
   "execution_count": 88,
   "id": "9fQzjljkslgT",
   "metadata": {
    "colab": {
     "base_uri": "https://localhost:8080/"
    },
    "id": "9fQzjljkslgT",
    "outputId": "ce0d8397-84cb-4366-d8d9-25e2f91312d0"
   },
   "outputs": [
    {
     "data": {
      "text/plain": [
       "(1596, 12)"
      ]
     },
     "execution_count": 88,
     "metadata": {},
     "output_type": "execute_result"
    }
   ],
   "source": [
    "X_test.shape"
   ]
  },
  {
   "cell_type": "code",
   "execution_count": 89,
   "id": "ffscN8nbslgT",
   "metadata": {
    "colab": {
     "base_uri": "https://localhost:8080/"
    },
    "id": "ffscN8nbslgT",
    "outputId": "517da10e-5652-44c1-fe1a-5e6e270e3f06"
   },
   "outputs": [
    {
     "data": {
      "text/plain": [
       "(1596,)"
      ]
     },
     "execution_count": 89,
     "metadata": {},
     "output_type": "execute_result"
    }
   ],
   "source": [
    "y_test.shape"
   ]
  },
  {
   "cell_type": "code",
   "execution_count": 90,
   "id": "qveiYmH0slgT",
   "metadata": {
    "colab": {
     "base_uri": "https://localhost:8080/"
    },
    "id": "qveiYmH0slgT",
    "outputId": "fef81806-1e4a-4a93-94b9-563f3acc6e83"
   },
   "outputs": [
    {
     "data": {
      "text/plain": [
       "1693    7\n",
       "5728    7\n",
       "5101    5\n",
       "1649    6\n",
       "5319    7\n",
       "Name: quality score, dtype: int64"
      ]
     },
     "execution_count": 90,
     "metadata": {},
     "output_type": "execute_result"
    }
   ],
   "source": [
    "y_train.head()"
   ]
  },
  {
   "cell_type": "code",
   "execution_count": 91,
   "id": "6LXyqikAslgT",
   "metadata": {
    "colab": {
     "base_uri": "https://localhost:8080/"
    },
    "id": "6LXyqikAslgT",
    "outputId": "907c6a5e-0bcd-451b-d18b-781dc4384d44"
   },
   "outputs": [
    {
     "data": {
      "text/plain": [
       "6136    5\n",
       "215     5\n",
       "1288    5\n",
       "6337    6\n",
       "3933    5\n",
       "Name: quality score, dtype: int64"
      ]
     },
     "execution_count": 91,
     "metadata": {},
     "output_type": "execute_result"
    }
   ],
   "source": [
    "y_test.head()"
   ]
  },
  {
   "cell_type": "code",
   "execution_count": 92,
   "id": "G-JpG5eTslgU",
   "metadata": {
    "id": "G-JpG5eTslgU"
   },
   "outputs": [],
   "source": [
    "# standardize the data to reduce the chance of bias outcome of predictions \n",
    "# in terms of misclassification error and accuracy rates\n",
    "# only standardise features (X) using standard scaler \n",
    "# model will learn from standardise value to give correct output on Y based on X\n",
    "# so that it will provide better learning for model\n",
    "# standard scaler - standardize bcoz it will giv the correct distribution\n",
    "\n",
    "# standard scaler - change to a standard range\n",
    "\n",
    "# To standardize the features\n",
    "# To get a normal distribution\n",
    "# Cannot standardize target because will not get accurate output\n",
    "\n",
    "sc = StandardScaler() \n",
    "X_train = sc.fit_transform(X_train)\n",
    "X_test = sc.transform(X_test)"
   ]
  },
  {
   "cell_type": "code",
   "execution_count": 93,
   "id": "BaqPoNRYslgU",
   "metadata": {
    "colab": {
     "base_uri": "https://localhost:8080/"
    },
    "id": "BaqPoNRYslgU",
    "outputId": "ca17d2b5-c906-4218-f832-79e9b524b9b6"
   },
   "outputs": [
    {
     "name": "stdout",
     "output_type": "stream",
     "text": [
      "[[ 0.21992321 -1.04392595  0.0190488  ... -0.6312979   0.81083644\n",
      "   0.58520574]\n",
      " [-0.69142029 -0.02003056 -0.04988971 ... -1.64732594  2.42316507\n",
      "   0.58520574]\n",
      " [-0.38763912 -0.32117626  0.91524938 ...  0.24925972 -1.22578919\n",
      "   0.58520574]\n",
      " ...\n",
      " [ 0.2958685  -0.26094712 -0.46352075 ... -0.29262189 -1.14092979\n",
      "   0.58520574]\n",
      " [-0.53952971 -1.16438423  0.84631088 ...  1.12981735 -0.20747638\n",
      "   0.58520574]\n",
      " [-0.53952971 -0.32117626  1.46675743 ...  0.38473013 -0.12261697\n",
      "   0.58520574]]\n"
     ]
    }
   ],
   "source": [
    "print(X_train)"
   ]
  },
  {
   "cell_type": "code",
   "execution_count": 94,
   "id": "GAOKXDZvslgU",
   "metadata": {
    "colab": {
     "base_uri": "https://localhost:8080/"
    },
    "id": "GAOKXDZvslgU",
    "outputId": "87f15239-ce21-4e7d-ed44-b43c30bd4eac"
   },
   "outputs": [
    {
     "data": {
      "text/plain": [
       "14.671253956796393"
      ]
     },
     "execution_count": 94,
     "metadata": {},
     "output_type": "execute_result"
    }
   ],
   "source": [
    "X_train.max()"
   ]
  },
  {
   "cell_type": "code",
   "execution_count": 95,
   "id": "eZ9BLdKpslgU",
   "metadata": {
    "colab": {
     "base_uri": "https://localhost:8080/"
    },
    "id": "eZ9BLdKpslgU",
    "outputId": "22c17d70-e4ea-48f1-9006-e14bf30f2a4e"
   },
   "outputs": [
    {
     "data": {
      "text/plain": [
       "-3.1452454463194606"
      ]
     },
     "execution_count": 95,
     "metadata": {},
     "output_type": "execute_result"
    }
   ],
   "source": [
    "X_train.min()"
   ]
  },
  {
   "cell_type": "code",
   "execution_count": 96,
   "id": "ylMgcvoZslgV",
   "metadata": {
    "colab": {
     "base_uri": "https://localhost:8080/"
    },
    "id": "ylMgcvoZslgV",
    "outputId": "82b22385-a9b2-49b2-f170-06ccb451f25e"
   },
   "outputs": [
    {
     "data": {
      "text/plain": [
       "5.137315564001261e-16"
      ]
     },
     "execution_count": 96,
     "metadata": {},
     "output_type": "execute_result"
    }
   ],
   "source": [
    "X_train.mean()"
   ]
  },
  {
   "cell_type": "markdown",
   "id": "rvg7T6a0slgV",
   "metadata": {
    "id": "rvg7T6a0slgV"
   },
   "source": [
    "## Random Forest Classifier"
   ]
  },
  {
   "cell_type": "code",
   "execution_count": 98,
   "id": "FXZ7CmjQslgV",
   "metadata": {
    "colab": {
     "base_uri": "https://localhost:8080/",
     "height": 75
    },
    "id": "FXZ7CmjQslgV",
    "outputId": "e932f759-1c19-49b1-cbd4-f774970f1eae"
   },
   "outputs": [
    {
     "data": {
      "text/plain": [
       "RandomForestClassifier(random_state=12345)"
      ]
     },
     "execution_count": 98,
     "metadata": {},
     "output_type": "execute_result"
    }
   ],
   "source": [
    "from sklearn.ensemble import RandomForestClassifier\n",
    "\n",
    "#fit the split data into the model to make them learn based on the model\n",
    "random_forest_model = RandomForestClassifier(random_state = 12345)\n",
    "random_forest_model.fit(X_train, y_train)\n",
    "\n",
    "# random_forest_model = RandomForestClassifier(max_depth = 3, random_state = 12345)\n",
    "# random_forest_model.fit(X_train, y_train)\n",
    "\n",
    "# random_forest_model = RandomForestClassifier(max_depth = 5, random_state = 12345)\n",
    "# random_forest_model.fit(X_train, y_train)\n",
    "\n",
    "# random_forest_model = RandomForestClassifier(max_depth = 7, random_state = 12345)\n",
    "# random_forest_model.fit(X_train, y_train)"
   ]
  },
  {
   "cell_type": "markdown",
   "id": "Dyl4WsyUslgV",
   "metadata": {
    "id": "Dyl4WsyUslgV"
   },
   "source": [
    "max_depth\n",
    "- The longest path between the root node and the leaf node\n",
    "\n",
    "n_estimators\n",
    "- This is the number of trees you want to build before taking the maximum voting or averages of predictions\n",
    "- Higher number of trees give you better performance but makes your code slower"
   ]
  },
  {
   "cell_type": "code",
   "execution_count": null,
   "id": "YTZy-FYyslgV",
   "metadata": {
    "id": "YTZy-FYyslgV"
   },
   "outputs": [],
   "source": [
    "random_forest_predictions = random_forest_model.predict(X_test)"
   ]
  },
  {
   "cell_type": "code",
   "execution_count": null,
   "id": "pN7NZAWCslgW",
   "metadata": {
    "colab": {
     "base_uri": "https://localhost:8080/"
    },
    "id": "pN7NZAWCslgW",
    "outputId": "b4300c9a-8438-45b9-e5e5-8f6b03eab7ed"
   },
   "outputs": [],
   "source": [
    "random_forest_model.score(X_train, y_train)"
   ]
  },
  {
   "cell_type": "code",
   "execution_count": null,
   "id": "rI7PmzGRslgW",
   "metadata": {
    "colab": {
     "base_uri": "https://localhost:8080/"
    },
    "id": "rI7PmzGRslgW",
    "outputId": "e11a2e37-0b4d-4658-932e-61cb06cbded4"
   },
   "outputs": [],
   "source": [
    "from sklearn.metrics import classification_report, confusion_matrix\n",
    "\n",
    "print(classification_report(y_test, random_forest_predictions))"
   ]
  },
  {
   "cell_type": "code",
   "execution_count": null,
   "id": "AqKZydfZslgW",
   "metadata": {
    "colab": {
     "base_uri": "https://localhost:8080/"
    },
    "id": "AqKZydfZslgW",
    "outputId": "f9266719-2dc7-475c-c7d8-65089ee80710"
   },
   "outputs": [],
   "source": [
    "print(confusion_matrix(y_test, random_forest_predictions))"
   ]
  },
  {
   "cell_type": "code",
   "execution_count": null,
   "id": "ywuYmC5uslgW",
   "metadata": {
    "colab": {
     "base_uri": "https://localhost:8080/",
     "height": 489
    },
    "id": "ywuYmC5uslgW",
    "outputId": "e0b360b6-a626-47f2-9aad-8b440ec8b2a9"
   },
   "outputs": [],
   "source": [
    "# from sklearn.metrics import plot_confusion_matrix\n",
    "from sklearn.metrics import confusion_matrix, ConfusionMatrixDisplay\n",
    "# plot_confusion_matrix(random_forest_model, X_test, y_test)\n",
    "ConfusionMatrixDisplay.from_estimator(random_forest_model, X_test, y_test)\n",
    "plt.title('Confusion Matrix')"
   ]
  },
  {
   "cell_type": "code",
   "execution_count": null,
   "id": "dTNRwugJslgW",
   "metadata": {
    "colab": {
     "base_uri": "https://localhost:8080/"
    },
    "id": "dTNRwugJslgW",
    "outputId": "ae601ee7-2540-4877-c142-0608901e9351"
   },
   "outputs": [],
   "source": [
    "from sklearn.metrics import accuracy_score\n",
    "\n",
    "train_acc = accuracy_score(y_train, random_forest_model.predict(X_train))\n",
    "test_acc = accuracy_score(y_test, random_forest_predictions)\n",
    "\n",
    "print(train_acc)\n",
    "print(test_acc)"
   ]
  },
  {
   "cell_type": "markdown",
   "id": "XrItoAFzslgW",
   "metadata": {
    "id": "XrItoAFzslgW"
   },
   "source": [
    "### Use GridSearchCV "
   ]
  },
  {
   "cell_type": "markdown",
   "id": "nkBSeeDqslgX",
   "metadata": {
    "id": "nkBSeeDqslgX"
   },
   "source": [
    "- GridSearch is used for hyperparameter tuning\n",
    "- Hyperparameter tuning is a process of testing on several parameters during model training and searching for the best hyperparameter for the model\n",
    "- In order to choose the model that yields the best results, GridSearch will build a model for every possible combination of the supplied hyperparameters\n",
    "- The range of hyperparameters in GridSearch can be set and it will choose the best model hyperparameters from the range specified\n",
    "- However, the best model hyperparameters chosen by GridSearch is based on the training accuracy"
   ]
  },
  {
   "cell_type": "code",
   "execution_count": null,
   "id": "IEFJhEPrslgX",
   "metadata": {
    "id": "IEFJhEPrslgX"
   },
   "outputs": [],
   "source": [
    "from sklearn.model_selection import GridSearchCV\n",
    "param_grid = {'max_depth' : range(1, 10)}"
   ]
  },
  {
   "cell_type": "code",
   "execution_count": null,
   "id": "JHvZIoJFslgX",
   "metadata": {
    "colab": {
     "base_uri": "https://localhost:8080/",
     "height": 118
    },
    "id": "JHvZIoJFslgX",
    "outputId": "851b2041-22e8-4798-92b0-3da822925b83"
   },
   "outputs": [],
   "source": [
    "random_forest_model_gs = RandomForestClassifier(random_state = 12345)\n",
    "random_forest_model_gs_best = GridSearchCV(estimator = random_forest_model_gs, param_grid = param_grid , return_train_score = True)\n",
    "random_forest_model_gs_best.fit(X_train, y_train)"
   ]
  },
  {
   "cell_type": "code",
   "execution_count": null,
   "id": "RCYO9vdRslgX",
   "metadata": {
    "colab": {
     "base_uri": "https://localhost:8080/"
    },
    "id": "RCYO9vdRslgX",
    "outputId": "887d7344-1933-474b-92d5-decbcbd47862"
   },
   "outputs": [],
   "source": [
    "random_forest_model_gs_best_params = random_forest_model_gs_best.best_params_\n",
    "print(random_forest_model_gs_best_params)"
   ]
  },
  {
   "cell_type": "code",
   "execution_count": null,
   "id": "JWEKYtAeslgY",
   "metadata": {
    "id": "JWEKYtAeslgY"
   },
   "outputs": [],
   "source": [
    "random_forest_predictions = random_forest_model_gs_best.predict(X_test)"
   ]
  },
  {
   "cell_type": "code",
   "execution_count": null,
   "id": "A7EgDmpNslgY",
   "metadata": {
    "colab": {
     "base_uri": "https://localhost:8080/"
    },
    "id": "A7EgDmpNslgY",
    "outputId": "bb5dd74d-2118-4cef-a38b-d03861e8faa9"
   },
   "outputs": [],
   "source": [
    "print(classification_report(y_test, random_forest_predictions))"
   ]
  },
  {
   "cell_type": "code",
   "execution_count": null,
   "id": "-BZyyILyslgY",
   "metadata": {
    "colab": {
     "base_uri": "https://localhost:8080/"
    },
    "id": "-BZyyILyslgY",
    "outputId": "da28ff22-ea4a-464f-b171-2a776a638605"
   },
   "outputs": [],
   "source": [
    "print(confusion_matrix(y_test, random_forest_predictions))"
   ]
  },
  {
   "cell_type": "code",
   "execution_count": null,
   "id": "OppkfoqyslgY",
   "metadata": {
    "colab": {
     "base_uri": "https://localhost:8080/",
     "height": 489
    },
    "id": "OppkfoqyslgY",
    "outputId": "8eb71c42-e416-4167-9f7b-de8e766727a3"
   },
   "outputs": [],
   "source": [
    "# plot_confusion_matrix(random_forest_model_gs_best, X_test, y_test)\n",
    "ConfusionMatrixDisplay.from_estimator(random_forest_model_gs_best, X_test, y_test)\n",
    "plt.title('Confusion Matrix')"
   ]
  },
  {
   "cell_type": "code",
   "execution_count": null,
   "id": "fpNwVnLXslgY",
   "metadata": {
    "colab": {
     "base_uri": "https://localhost:8080/"
    },
    "id": "fpNwVnLXslgY",
    "outputId": "201eaa77-e269-49c7-b5b3-82163fc72188"
   },
   "outputs": [],
   "source": [
    "train_acc = accuracy_score(y_train, random_forest_model_gs_best.predict(X_train))\n",
    "test_acc = accuracy_score(y_test, random_forest_predictions)\n",
    "\n",
    "print(train_acc)\n",
    "print(test_acc)"
   ]
  },
  {
   "cell_type": "markdown",
   "id": "exLrIsWdslgZ",
   "metadata": {
    "id": "exLrIsWdslgZ"
   },
   "source": [
    "## Decision Tree Classifier "
   ]
  },
  {
   "cell_type": "code",
   "execution_count": null,
   "id": "o1ya1-9qslgZ",
   "metadata": {
    "colab": {
     "base_uri": "https://localhost:8080/",
     "height": 75
    },
    "id": "o1ya1-9qslgZ",
    "outputId": "1c73ea9f-f5cf-4737-c39a-d07e3846f431"
   },
   "outputs": [],
   "source": [
    "from sklearn.tree import DecisionTreeClassifier\n",
    "\n",
    "decision_tree_model = DecisionTreeClassifier(random_state = 12345)\n",
    "decision_tree_model.fit(X_train, y_train)\n",
    "\n",
    "# try with max_depth to control overfitting\n",
    "# decision_tree_model = DecisionTreeClassifier(max_depth = 3, random_state = 12345)\n",
    "# decision_tree_model.fit(X_train, y_train)\n",
    "\n",
    "# decision_tree_model = DecisionTreeClassifier(max_depth = 5, random_state = 12345)\n",
    "# decision_tree_model.fit(X_train, y_train)\n",
    "\n",
    "# decision_tree_model = DecisionTreeClassifier(max_depth = 7, random_state = 12345)\n",
    "# decision_tree_model.fit(X_train, y_train)"
   ]
  },
  {
   "cell_type": "code",
   "execution_count": null,
   "id": "zs8Kzv6DslgZ",
   "metadata": {
    "id": "zs8Kzv6DslgZ"
   },
   "outputs": [],
   "source": [
    "decision_tree_predictions = decision_tree_model.predict(X_test)"
   ]
  },
  {
   "cell_type": "code",
   "execution_count": null,
   "id": "u5Vc5lueslgZ",
   "metadata": {
    "colab": {
     "base_uri": "https://localhost:8080/",
     "height": 1000
    },
    "id": "u5Vc5lueslgZ",
    "outputId": "a65e3785-2429-4ee3-c604-3a85700acd40"
   },
   "outputs": [],
   "source": [
    "from sklearn import tree\n",
    "\n",
    "tree.plot_tree(decision_tree_model)"
   ]
  },
  {
   "cell_type": "code",
   "execution_count": null,
   "id": "BRPzJc8zslgZ",
   "metadata": {
    "colab": {
     "base_uri": "https://localhost:8080/"
    },
    "id": "BRPzJc8zslgZ",
    "outputId": "02e6cd7e-bd70-461b-b0a9-c5d1279c4cad"
   },
   "outputs": [],
   "source": [
    "from sklearn.metrics import classification_report, confusion_matrix\n",
    "\n",
    "print(classification_report(y_test, decision_tree_predictions))"
   ]
  },
  {
   "cell_type": "code",
   "execution_count": null,
   "id": "j9G7KgpXslga",
   "metadata": {
    "colab": {
     "base_uri": "https://localhost:8080/"
    },
    "id": "j9G7KgpXslga",
    "outputId": "68a68197-fb86-4b6f-b0e7-67cc4d42a73b"
   },
   "outputs": [],
   "source": [
    "print(confusion_matrix(y_test, decision_tree_predictions))"
   ]
  },
  {
   "cell_type": "code",
   "execution_count": null,
   "id": "_vkrCaOQslga",
   "metadata": {
    "colab": {
     "base_uri": "https://localhost:8080/",
     "height": 489
    },
    "id": "_vkrCaOQslga",
    "outputId": "d4a87025-01d9-47f9-8b1c-019172239cc9"
   },
   "outputs": [],
   "source": [
    "# from sklearn.metrics import plot_confusion_matrix\n",
    "from sklearn.metrics import confusion_matrix, ConfusionMatrixDisplay\n",
    "\n",
    "# plot_confusion_matrix(decision_tree_model, X_test, y_test)\n",
    "ConfusionMatrixDisplay.from_estimator(decision_tree_model, X_test, y_test)\n",
    "plt.title('Confusion Matrix')"
   ]
  },
  {
   "cell_type": "code",
   "execution_count": null,
   "id": "whWvwpSyslgb",
   "metadata": {
    "colab": {
     "base_uri": "https://localhost:8080/"
    },
    "id": "whWvwpSyslgb",
    "outputId": "91807e72-75b0-4237-dd31-f46b113c1646"
   },
   "outputs": [],
   "source": [
    "train_acc = accuracy_score(y_train, decision_tree_model.predict(X_train))\n",
    "test_acc = accuracy_score(y_test, decision_tree_predictions)\n",
    "\n",
    "print(train_acc)\n",
    "print(test_acc)"
   ]
  },
  {
   "cell_type": "markdown",
   "id": "8SsOuGdJslgb",
   "metadata": {
    "id": "8SsOuGdJslgb"
   },
   "source": [
    "### Use GridSearchCV "
   ]
  },
  {
   "cell_type": "code",
   "execution_count": null,
   "id": "xNwmxITHslgb",
   "metadata": {
    "colab": {
     "base_uri": "https://localhost:8080/"
    },
    "id": "xNwmxITHslgb",
    "outputId": "54af79bf-e3f9-4c2d-91eb-1839be6bb83c"
   },
   "outputs": [],
   "source": [
    "from sklearn.model_selection import GridSearchCV\n",
    "param_grid = {'max_depth' : range(1, 10)}\n",
    "\n",
    "decision_tree_model_gs = DecisionTreeClassifier(random_state = 12345)\n",
    "decision_tree_model_gs_best = GridSearchCV(estimator = decision_tree_model_gs, param_grid = param_grid , return_train_score = True)\n",
    "decision_tree_model_gs_best.fit(X_train, y_train)\n",
    "\n",
    "decision_tree_model_gs_best_params = decision_tree_model_gs_best.best_params_\n",
    "print(decision_tree_model_gs_best_params)"
   ]
  },
  {
   "cell_type": "code",
   "execution_count": null,
   "id": "1YuQtAmgslgc",
   "metadata": {
    "id": "1YuQtAmgslgc"
   },
   "outputs": [],
   "source": [
    "decision_tree_predictions = decision_tree_model_gs_best.predict(X_test)"
   ]
  },
  {
   "cell_type": "code",
   "execution_count": null,
   "id": "BFfR3qsVslgc",
   "metadata": {
    "colab": {
     "base_uri": "https://localhost:8080/"
    },
    "id": "BFfR3qsVslgc",
    "outputId": "0ec22658-fa11-48dd-bfcd-febeae55377f"
   },
   "outputs": [],
   "source": [
    "print(classification_report(y_test, decision_tree_predictions))"
   ]
  },
  {
   "cell_type": "code",
   "execution_count": null,
   "id": "gUe1rFi8slgc",
   "metadata": {
    "colab": {
     "base_uri": "https://localhost:8080/"
    },
    "id": "gUe1rFi8slgc",
    "outputId": "1962f0d3-b093-43d3-c97c-93282de7af9f"
   },
   "outputs": [],
   "source": [
    "print(confusion_matrix(y_test, decision_tree_predictions))"
   ]
  },
  {
   "cell_type": "code",
   "execution_count": null,
   "id": "rhrhaYhzslgd",
   "metadata": {
    "colab": {
     "base_uri": "https://localhost:8080/",
     "height": 489
    },
    "id": "rhrhaYhzslgd",
    "outputId": "d86ec5f3-1915-4d54-dcc5-aa879fbc9209"
   },
   "outputs": [],
   "source": [
    "# plot_confusion_matrix(decision_tree_model_gs_best, X_test, y_test)\n",
    "ConfusionMatrixDisplay.from_estimator(decision_tree_model_gs_best, X_test, y_test)\n",
    "plt.title('Confusion Matrix')"
   ]
  },
  {
   "cell_type": "code",
   "execution_count": null,
   "id": "P--FrCHTslgd",
   "metadata": {
    "colab": {
     "base_uri": "https://localhost:8080/"
    },
    "id": "P--FrCHTslgd",
    "outputId": "d1ed19e7-c272-4bfd-d4f3-36ef18c2f1fc"
   },
   "outputs": [],
   "source": [
    "train_acc = accuracy_score(y_train, decision_tree_model_gs_best.predict(X_train))\n",
    "test_acc = accuracy_score(y_test, decision_tree_predictions)\n",
    "\n",
    "print(train_acc)\n",
    "print(test_acc)"
   ]
  },
  {
   "cell_type": "markdown",
   "id": "dIQhp-Kzslgd",
   "metadata": {
    "id": "dIQhp-Kzslgd"
   },
   "source": [
    "## KNN Classifier"
   ]
  },
  {
   "cell_type": "code",
   "execution_count": null,
   "id": "HxgAyUDaslge",
   "metadata": {
    "colab": {
     "base_uri": "https://localhost:8080/",
     "height": 75
    },
    "id": "HxgAyUDaslge",
    "outputId": "624d81d0-9835-4826-938e-04f7ac6b22d4"
   },
   "outputs": [],
   "source": [
    "from sklearn.neighbors import KNeighborsClassifier\n",
    "\n",
    "knn_model = KNeighborsClassifier() # default n_neighbors = 5\n",
    "knn_model.fit(X_train, y_train)\n",
    "\n",
    "# knn_model = KNeighborsClassifier(n_neighbors = 3)\n",
    "# knn_model.fit(X_train, y_train)\n",
    "\n",
    "# knn_model = KNeighborsClassifier(n_neighbors = 7)\n",
    "# knn_model.fit(X_train, y_train)\n",
    "\n",
    "# knn_model = KNeighborsClassifier(n_neighbors = 9)\n",
    "# knn_model.fit(X_train, y_train)"
   ]
  },
  {
   "cell_type": "code",
   "execution_count": null,
   "id": "tvL88MVxslge",
   "metadata": {
    "id": "tvL88MVxslge"
   },
   "outputs": [],
   "source": [
    "knn_predictions = knn_model.predict(X_test)"
   ]
  },
  {
   "cell_type": "code",
   "execution_count": null,
   "id": "pC6YiARmslge",
   "metadata": {
    "colab": {
     "base_uri": "https://localhost:8080/"
    },
    "id": "pC6YiARmslge",
    "outputId": "e36dc24e-2291-497c-9874-d821805177d9"
   },
   "outputs": [],
   "source": [
    "from sklearn.metrics import classification_report, confusion_matrix\n",
    "\n",
    "print(classification_report(y_test, knn_predictions))"
   ]
  },
  {
   "cell_type": "code",
   "execution_count": null,
   "id": "rUTFmh-5slgf",
   "metadata": {
    "colab": {
     "base_uri": "https://localhost:8080/"
    },
    "id": "rUTFmh-5slgf",
    "outputId": "a8985169-7304-4969-a405-e8d87080cb29"
   },
   "outputs": [],
   "source": [
    "print(confusion_matrix(y_test, knn_predictions))"
   ]
  },
  {
   "cell_type": "code",
   "execution_count": null,
   "id": "9NElx094slgf",
   "metadata": {
    "colab": {
     "base_uri": "https://localhost:8080/",
     "height": 489
    },
    "id": "9NElx094slgf",
    "outputId": "24babba7-dcc4-45a2-a635-b84834829840"
   },
   "outputs": [],
   "source": [
    "# from sklearn.metrics import plot_confusion_matrix\n",
    "from sklearn.metrics import confusion_matrix, ConfusionMatrixDisplay\n",
    "\n",
    "# plot_confusion_matrix(knn_model, X_test, y_test)\n",
    "ConfusionMatrixDisplay.from_estimator(knn_model, X_test, y_test)\n",
    "plt.title('Confusion Matrix')"
   ]
  },
  {
   "cell_type": "code",
   "execution_count": null,
   "id": "dKVSP2Ltslgf",
   "metadata": {
    "colab": {
     "base_uri": "https://localhost:8080/"
    },
    "id": "dKVSP2Ltslgf",
    "outputId": "c57de4ae-2fd5-4256-93d0-cb47883c720e"
   },
   "outputs": [],
   "source": [
    "train_acc = accuracy_score(y_train, knn_model.predict(X_train))\n",
    "test_acc = accuracy_score(y_test, knn_predictions)\n",
    "\n",
    "print(train_acc)\n",
    "print(test_acc)"
   ]
  },
  {
   "cell_type": "markdown",
   "id": "EbYeJ1Tgslgg",
   "metadata": {
    "id": "EbYeJ1Tgslgg"
   },
   "source": [
    "### Use GridSearchCV "
   ]
  },
  {
   "cell_type": "code",
   "execution_count": null,
   "id": "2XOtpDyVslgg",
   "metadata": {
    "id": "2XOtpDyVslgg"
   },
   "outputs": [],
   "source": [
    "from sklearn.model_selection import GridSearchCV\n",
    "param_grid = {'n_neighbors' : range(2, 10)}"
   ]
  },
  {
   "cell_type": "code",
   "execution_count": null,
   "id": "NWlGFCMoslgg",
   "metadata": {
    "colab": {
     "base_uri": "https://localhost:8080/",
     "height": 118
    },
    "id": "NWlGFCMoslgg",
    "outputId": "89cd334c-4166-4ce5-ed78-e70b5cfe9da6"
   },
   "outputs": [],
   "source": [
    "knn_model_gs = KNeighborsClassifier()\n",
    "knn_model_gs_best = GridSearchCV(estimator = knn_model_gs, param_grid = param_grid , return_train_score = True)\n",
    "knn_model_gs_best.fit(X_train, y_train)"
   ]
  },
  {
   "cell_type": "code",
   "execution_count": null,
   "id": "YjuN6Wrhslgg",
   "metadata": {
    "colab": {
     "base_uri": "https://localhost:8080/"
    },
    "id": "YjuN6Wrhslgg",
    "outputId": "3951db0f-5a99-41db-a519-5d5c73b499d3"
   },
   "outputs": [],
   "source": [
    "knn_model_gs_best_params = knn_model_gs_best.best_params_\n",
    "print(knn_model_gs_best_params)"
   ]
  },
  {
   "cell_type": "code",
   "execution_count": null,
   "id": "TsqEeJVyslgg",
   "metadata": {
    "id": "TsqEeJVyslgg"
   },
   "outputs": [],
   "source": [
    "knn_predictions = knn_model_gs_best.predict(X_test)"
   ]
  },
  {
   "cell_type": "code",
   "execution_count": null,
   "id": "e9vibok3slgg",
   "metadata": {
    "colab": {
     "base_uri": "https://localhost:8080/"
    },
    "id": "e9vibok3slgg",
    "outputId": "65af8582-de07-4f84-a3ba-174a50f16605"
   },
   "outputs": [],
   "source": [
    "print(classification_report(y_test, knn_predictions))"
   ]
  },
  {
   "cell_type": "code",
   "execution_count": null,
   "id": "bfaARY0islgh",
   "metadata": {
    "colab": {
     "base_uri": "https://localhost:8080/"
    },
    "id": "bfaARY0islgh",
    "outputId": "169b9b15-446e-4a0c-a7f7-2f1a492636ce"
   },
   "outputs": [],
   "source": [
    "print(confusion_matrix(y_test, knn_predictions))"
   ]
  },
  {
   "cell_type": "code",
   "execution_count": null,
   "id": "SU_MhT_Zslgh",
   "metadata": {
    "colab": {
     "base_uri": "https://localhost:8080/",
     "height": 489
    },
    "id": "SU_MhT_Zslgh",
    "outputId": "2cb6b7e0-5344-46d3-ece7-4a6c742bbb94"
   },
   "outputs": [],
   "source": [
    "# plot_confusion_matrix(knn_model_gs_best, X_test, y_test)\n",
    "ConfusionMatrixDisplay.from_estimator(knn_model_gs_best, X_test, y_test)\n",
    "plt.title('Confusion Matrix')"
   ]
  },
  {
   "cell_type": "code",
   "execution_count": null,
   "id": "iXx38tcBslgh",
   "metadata": {
    "colab": {
     "base_uri": "https://localhost:8080/"
    },
    "id": "iXx38tcBslgh",
    "outputId": "28f83cb0-9a7a-4493-96f3-7c88b0eb13ad"
   },
   "outputs": [],
   "source": [
    "train_acc = accuracy_score(y_train, knn_model_gs_best.predict(X_train))\n",
    "test_acc = accuracy_score(y_test, knn_predictions)\n",
    "\n",
    "print(train_acc)\n",
    "print(test_acc)"
   ]
  },
  {
   "cell_type": "markdown",
   "id": "oIGQAQbbslgh",
   "metadata": {
    "id": "oIGQAQbbslgh"
   },
   "source": [
    "## Logistic Regression"
   ]
  },
  {
   "cell_type": "code",
   "execution_count": null,
   "id": "V9cyvP3cslgh",
   "metadata": {
    "colab": {
     "base_uri": "https://localhost:8080/",
     "height": 75
    },
    "id": "V9cyvP3cslgh",
    "outputId": "07ac09ea-4482-419b-f867-3f78e197dd28"
   },
   "outputs": [],
   "source": [
    "from sklearn.linear_model import LogisticRegression\n",
    "\n",
    "log_reg_model = LogisticRegression(random_state = 12345) # default solver = 'lbfgs'\n",
    "log_reg_model.fit(X_train, y_train)\n",
    "\n",
    "# log_reg_model = LogisticRegression(solver = 'newton-cg', random_state = 12345)\n",
    "# log_reg_model.fit(X_train, y_train)\n",
    "\n",
    "# log_reg_model = LogisticRegression(solver = 'liblinear', random_state = 12345)\n",
    "# log_reg_model.fit(X_train, y_train)\n",
    "\n",
    "# log_reg_model = LogisticRegression(solver = 'sag', random_state = 12345)\n",
    "# log_reg_model.fit(X_train, y_train)"
   ]
  },
  {
   "cell_type": "markdown",
   "id": "mQODftzqslgi",
   "metadata": {
    "id": "mQODftzqslgi"
   },
   "source": [
    "Note: \n",
    "- Logistic regression does not really have any critical hyperparameters to tune\n",
    "- Sometimes, you can see useful differences in performance or convergence with different solvers (solver)\n",
    "- solver in ['newton-cg', 'lbfgs', 'liblinear', 'sag', 'saga']\n",
    "- default = 'lbfgs'\n",
    "\n",
    "- For small datasets, 'liblinear' is a good choice\n",
    "- 'sag' and 'saga' are faster for large ones\n",
    "- For multiclass problems, only 'newton-cg', 'sag', 'saga' and 'lbfgs' handle multinomial loss\n",
    "- liblinear' is limited to one-versus-rest schemes"
   ]
  },
  {
   "cell_type": "code",
   "execution_count": null,
   "id": "KbhEPTLqslgi",
   "metadata": {
    "id": "KbhEPTLqslgi"
   },
   "outputs": [],
   "source": [
    "log_reg_predictions = log_reg_model.predict(X_test)"
   ]
  },
  {
   "cell_type": "code",
   "execution_count": null,
   "id": "MrGGn5tBslgi",
   "metadata": {
    "colab": {
     "base_uri": "https://localhost:8080/"
    },
    "id": "MrGGn5tBslgi",
    "outputId": "75a911d8-b12c-4710-ed32-b0f8ea378ca6"
   },
   "outputs": [],
   "source": [
    "from sklearn.metrics import classification_report, confusion_matrix\n",
    "\n",
    "print(classification_report(y_test, log_reg_predictions))"
   ]
  },
  {
   "cell_type": "code",
   "execution_count": null,
   "id": "EbgXE8dNslgi",
   "metadata": {
    "colab": {
     "base_uri": "https://localhost:8080/"
    },
    "id": "EbgXE8dNslgi",
    "outputId": "cf924a74-67ab-4e4d-ebff-99b35b5eb451"
   },
   "outputs": [],
   "source": [
    "print(confusion_matrix(y_test, log_reg_predictions))"
   ]
  },
  {
   "cell_type": "code",
   "execution_count": null,
   "id": "J_kXT_6Kslgi",
   "metadata": {
    "colab": {
     "base_uri": "https://localhost:8080/",
     "height": 489
    },
    "id": "J_kXT_6Kslgi",
    "outputId": "b9d2175b-ae4a-47c7-9030-dfabff223898"
   },
   "outputs": [],
   "source": [
    "# from sklearn.metrics import plot_confusion_matrix\n",
    "from sklearn.metrics import confusion_matrix, ConfusionMatrixDisplay\n",
    "\n",
    "# plot_confusion_matrix(log_reg_model, X_test, y_test)\n",
    "ConfusionMatrixDisplay.from_estimator(log_reg_model, X_test, y_test)\n",
    "plt.title('Confusion Matrix')"
   ]
  },
  {
   "cell_type": "code",
   "execution_count": null,
   "id": "MGgGWOv-slgi",
   "metadata": {
    "colab": {
     "base_uri": "https://localhost:8080/"
    },
    "id": "MGgGWOv-slgi",
    "outputId": "f28155f4-d11d-4d21-86df-dd38d4dc35a2"
   },
   "outputs": [],
   "source": [
    "train_acc = accuracy_score(y_train, log_reg_model.predict(X_train))\n",
    "test_acc = accuracy_score(y_test, log_reg_predictions)\n",
    "\n",
    "print(train_acc)\n",
    "print(test_acc)"
   ]
  },
  {
   "cell_type": "markdown",
   "id": "8dMSPsNfslgj",
   "metadata": {
    "id": "8dMSPsNfslgj"
   },
   "source": [
    "### Use GridSearchCV"
   ]
  },
  {
   "cell_type": "code",
   "execution_count": null,
   "id": "qCFGDyIRslgj",
   "metadata": {
    "id": "qCFGDyIRslgj"
   },
   "outputs": [],
   "source": [
    "from sklearn.model_selection import GridSearchCV\n",
    "param_grid = {'solver' : ['newton-cg','liblinear', 'sag']}"
   ]
  },
  {
   "cell_type": "code",
   "execution_count": null,
   "id": "whIu50kAslgj",
   "metadata": {
    "colab": {
     "base_uri": "https://localhost:8080/",
     "height": 118
    },
    "id": "whIu50kAslgj",
    "outputId": "2cafcfd7-2885-492a-f333-3053c28a09e7"
   },
   "outputs": [],
   "source": [
    "log_reg_model_gs = LogisticRegression(random_state = 12345)\n",
    "log_reg_model_gs_best = GridSearchCV(estimator = log_reg_model_gs, param_grid = param_grid , return_train_score = True)\n",
    "log_reg_model_gs_best.fit(X_train, y_train)"
   ]
  },
  {
   "cell_type": "code",
   "execution_count": null,
   "id": "drbVT-byslgj",
   "metadata": {
    "colab": {
     "base_uri": "https://localhost:8080/"
    },
    "id": "drbVT-byslgj",
    "outputId": "3f7fc6e3-9cb2-464d-b58b-374ea1e26096"
   },
   "outputs": [],
   "source": [
    "log_reg_model_gs_best_params = log_reg_model_gs_best.best_params_\n",
    "print(log_reg_model_gs_best_params)"
   ]
  },
  {
   "cell_type": "code",
   "execution_count": null,
   "id": "0HmuYYdyslgj",
   "metadata": {
    "id": "0HmuYYdyslgj"
   },
   "outputs": [],
   "source": [
    "log_reg_predictions = log_reg_model_gs_best.predict(X_test)"
   ]
  },
  {
   "cell_type": "code",
   "execution_count": null,
   "id": "jzpV42J0slgj",
   "metadata": {
    "colab": {
     "base_uri": "https://localhost:8080/"
    },
    "id": "jzpV42J0slgj",
    "outputId": "724c84b7-237b-4906-fff7-ff563b019ab1"
   },
   "outputs": [],
   "source": [
    "print(classification_report(y_test, log_reg_predictions))"
   ]
  },
  {
   "cell_type": "code",
   "execution_count": null,
   "id": "-pGkauEuslgk",
   "metadata": {
    "colab": {
     "base_uri": "https://localhost:8080/"
    },
    "id": "-pGkauEuslgk",
    "outputId": "21517186-66fa-49d6-b1e0-a5c5aab710ee"
   },
   "outputs": [],
   "source": [
    "print(confusion_matrix(y_test, log_reg_predictions))"
   ]
  },
  {
   "cell_type": "code",
   "execution_count": null,
   "id": "E13waSSrslgk",
   "metadata": {
    "colab": {
     "base_uri": "https://localhost:8080/",
     "height": 489
    },
    "id": "E13waSSrslgk",
    "outputId": "f883882c-fc80-4db9-d206-dda775265133"
   },
   "outputs": [],
   "source": [
    "# plot_confusion_matrix(log_reg_model_gs_best, X_test, y_test)\n",
    "ConfusionMatrixDisplay.from_estimator(log_reg_model_gs_best, X_test, y_test)\n",
    "plt.title('Confusion Matrix')"
   ]
  },
  {
   "cell_type": "code",
   "execution_count": null,
   "id": "UpnbCtOEslgk",
   "metadata": {
    "colab": {
     "base_uri": "https://localhost:8080/"
    },
    "id": "UpnbCtOEslgk",
    "outputId": "40b0f335-1ac0-4e82-a1fb-1236e3273901"
   },
   "outputs": [],
   "source": [
    "train_acc = accuracy_score(y_train, log_reg_model_gs_best.predict(X_train))\n",
    "test_acc = accuracy_score(y_test, log_reg_predictions)\n",
    "\n",
    "print(train_acc)\n",
    "print(test_acc)"
   ]
  },
  {
   "cell_type": "markdown",
   "id": "WPQMBVJ5slgk",
   "metadata": {
    "id": "WPQMBVJ5slgk"
   },
   "source": [
    "## Dummy Model "
   ]
  },
  {
   "cell_type": "markdown",
   "id": "ZYPTTfEZslgk",
   "metadata": {
    "id": "ZYPTTfEZslgk"
   },
   "source": [
    "- Find baseline/benchmark"
   ]
  },
  {
   "cell_type": "code",
   "execution_count": null,
   "id": "B7mrh0HNslgk",
   "metadata": {
    "colab": {
     "base_uri": "https://localhost:8080/",
     "height": 75
    },
    "id": "B7mrh0HNslgk",
    "outputId": "2590534a-e56e-4a8a-8e78-e4383bde44d8"
   },
   "outputs": [],
   "source": [
    "from sklearn.dummy import DummyClassifier\n",
    "\n",
    "dclf = DummyClassifier(random_state = 12345)\n",
    "dclf.fit(X_train, y_train)"
   ]
  },
  {
   "cell_type": "code",
   "execution_count": null,
   "id": "hO-lfN8jslgl",
   "metadata": {
    "id": "hO-lfN8jslgl"
   },
   "outputs": [],
   "source": [
    "y_pred = dclf.predict(X_test)"
   ]
  },
  {
   "cell_type": "code",
   "execution_count": null,
   "id": "LLWxddvHslgl",
   "metadata": {
    "colab": {
     "base_uri": "https://localhost:8080/"
    },
    "id": "LLWxddvHslgl",
    "outputId": "bd49406e-5ed9-4c71-ee31-4e99270554a2"
   },
   "outputs": [],
   "source": [
    "train_acc = accuracy_score(y_train,dclf.predict(X_train))\n",
    "test_acc = accuracy_score(y_test, y_pred)\n",
    "print(train_acc)\n",
    "print(test_acc)"
   ]
  },
  {
   "cell_type": "code",
   "execution_count": null,
   "id": "CsQTeVJTslgl",
   "metadata": {
    "colab": {
     "base_uri": "https://localhost:8080/"
    },
    "id": "CsQTeVJTslgl",
    "outputId": "ea5b7947-8352-4f38-e2cd-dbbf4cad11f0"
   },
   "outputs": [],
   "source": [
    "print(classification_report(y_test, y_pred))"
   ]
  },
  {
   "cell_type": "code",
   "execution_count": null,
   "id": "Q6zqTprzslgl",
   "metadata": {
    "colab": {
     "base_uri": "https://localhost:8080/"
    },
    "id": "Q6zqTprzslgl",
    "outputId": "e9b204d5-59af-474e-a1e7-37ed0eec759b"
   },
   "outputs": [],
   "source": [
    "print(confusion_matrix(y_test,y_pred))"
   ]
  },
  {
   "cell_type": "code",
   "execution_count": null,
   "id": "mZtTMDaNslgl",
   "metadata": {
    "colab": {
     "base_uri": "https://localhost:8080/",
     "height": 489
    },
    "id": "mZtTMDaNslgl",
    "outputId": "312548ea-2fec-4a99-b261-1f008b8f8d88"
   },
   "outputs": [],
   "source": [
    "# plot_confusion_matrix(dclf, X_test, y_test)\n",
    "ConfusionMatrixDisplay.from_estimator(dclf, X_test, y_test)\n",
    "plt.title('Confusion Matrix')"
   ]
  },
  {
   "cell_type": "markdown",
   "id": "RAdXIKPFslgm",
   "metadata": {
    "id": "RAdXIKPFslgm"
   },
   "source": [
    "# Prediction"
   ]
  },
  {
   "cell_type": "code",
   "execution_count": null,
   "id": "aAZrYT5Aslgm",
   "metadata": {
    "colab": {
     "base_uri": "https://localhost:8080/"
    },
    "id": "aAZrYT5Aslgm",
    "outputId": "03f4ed3e-1a99-44ea-87dc-dc0ddf27426e"
   },
   "outputs": [],
   "source": [
    "# expected to have 9 quality score\n",
    "\n",
    "new = [[1, 7, 0.3, 0.35, 4, 0.03, 30, 110, 1, 3.3, 0.45, 11]]\n",
    "new = sc.transform(new)\n",
    "pred = knn_model.predict(new)\n",
    "print(new, pred)"
   ]
  },
  {
   "cell_type": "code",
   "execution_count": null,
   "id": "5O4qvH6cslgm",
   "metadata": {
    "colab": {
     "base_uri": "https://localhost:8080/"
    },
    "id": "5O4qvH6cslgm",
    "outputId": "56fca33f-37f4-4bad-b4a1-d82a648e9c69"
   },
   "outputs": [],
   "source": [
    "# expected to have 3 quality score\n",
    "\n",
    "new = [[1, 7.9, 0.51, 0.27, 5, 0.079, 39, 120, 1, 3.2, 0.5, 10.1]]\n",
    "new = sc.transform(new)\n",
    "pred = knn_model.predict(new)\n",
    "print(new, pred)"
   ]
  },
  {
   "cell_type": "code",
   "execution_count": null,
   "id": "_NGF5Y2Aslgm",
   "metadata": {
    "id": "_NGF5Y2Aslgm"
   },
   "outputs": [],
   "source": []
  }
 ],
 "metadata": {
  "colab": {
   "provenance": []
  },
  "kernelspec": {
   "display_name": "Python 3 (ipykernel)",
   "language": "python",
   "name": "python3"
  },
  "language_info": {
   "codemirror_mode": {
    "name": "ipython",
    "version": 3
   },
   "file_extension": ".py",
   "mimetype": "text/x-python",
   "name": "python",
   "nbconvert_exporter": "python",
   "pygments_lexer": "ipython3",
   "version": "3.9.12"
  }
 },
 "nbformat": 4,
 "nbformat_minor": 5
}
